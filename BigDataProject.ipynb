{
 "cells": [
  {
   "cell_type": "code",
   "execution_count": 140,
   "id": "228b28bf-d551-4376-9993-3a2b153d6afb",
   "metadata": {},
   "outputs": [
    {
     "name": "stdout",
     "output_type": "stream",
     "text": [
      "Requirement already satisfied: nltk in c:\\users\\kaila\\appdata\\local\\programs\\python\\python312\\lib\\site-packages (3.9.1)\n",
      "Requirement already satisfied: click in c:\\users\\kaila\\appdata\\local\\programs\\python\\python312\\lib\\site-packages (from nltk) (8.1.7)\n",
      "Requirement already satisfied: joblib in c:\\users\\kaila\\appdata\\local\\programs\\python\\python312\\lib\\site-packages (from nltk) (1.4.2)\n",
      "Requirement already satisfied: regex>=2021.8.3 in c:\\users\\kaila\\appdata\\local\\programs\\python\\python312\\lib\\site-packages (from nltk) (2024.11.6)\n",
      "Requirement already satisfied: tqdm in c:\\users\\kaila\\appdata\\local\\programs\\python\\python312\\lib\\site-packages (from nltk) (4.67.1)\n",
      "Requirement already satisfied: colorama in c:\\users\\kaila\\appdata\\local\\programs\\python\\python312\\lib\\site-packages (from click->nltk) (0.4.6)\n"
     ]
    },
    {
     "name": "stderr",
     "output_type": "stream",
     "text": [
      "[nltk_data] Downloading package punkt_tab to\n",
      "[nltk_data]     C:\\Users\\kaila\\AppData\\Roaming\\nltk_data...\n",
      "[nltk_data]   Package punkt_tab is already up-to-date!\n",
      "[nltk_data] Downloading package stopwords to\n",
      "[nltk_data]     C:\\Users\\kaila\\AppData\\Roaming\\nltk_data...\n",
      "[nltk_data]   Package stopwords is already up-to-date!\n",
      "[nltk_data] Downloading package wordnet to\n",
      "[nltk_data]     C:\\Users\\kaila\\AppData\\Roaming\\nltk_data...\n",
      "[nltk_data]   Package wordnet is already up-to-date!\n"
     ]
    },
    {
     "name": "stdout",
     "output_type": "stream",
     "text": [
      "Requirement already satisfied: wordcloud in c:\\users\\kaila\\appdata\\local\\programs\\python\\python312\\lib\\site-packages (1.9.4)\n",
      "Requirement already satisfied: numpy>=1.6.1 in c:\\users\\kaila\\appdata\\local\\programs\\python\\python312\\lib\\site-packages (from wordcloud) (2.1.3)\n",
      "Requirement already satisfied: pillow in c:\\users\\kaila\\appdata\\local\\programs\\python\\python312\\lib\\site-packages (from wordcloud) (11.1.0)\n",
      "Requirement already satisfied: matplotlib in c:\\users\\kaila\\appdata\\local\\programs\\python\\python312\\lib\\site-packages (from wordcloud) (3.10.0)\n",
      "Requirement already satisfied: contourpy>=1.0.1 in c:\\users\\kaila\\appdata\\local\\programs\\python\\python312\\lib\\site-packages (from matplotlib->wordcloud) (1.3.1)\n",
      "Requirement already satisfied: cycler>=0.10 in c:\\users\\kaila\\appdata\\local\\programs\\python\\python312\\lib\\site-packages (from matplotlib->wordcloud) (0.12.1)\n",
      "Requirement already satisfied: fonttools>=4.22.0 in c:\\users\\kaila\\appdata\\local\\programs\\python\\python312\\lib\\site-packages (from matplotlib->wordcloud) (4.56.0)\n",
      "Requirement already satisfied: kiwisolver>=1.3.1 in c:\\users\\kaila\\appdata\\local\\programs\\python\\python312\\lib\\site-packages (from matplotlib->wordcloud) (1.4.8)\n",
      "Requirement already satisfied: packaging>=20.0 in c:\\users\\kaila\\appdata\\local\\programs\\python\\python312\\lib\\site-packages (from matplotlib->wordcloud) (24.1)\n",
      "Requirement already satisfied: pyparsing>=2.3.1 in c:\\users\\kaila\\appdata\\local\\programs\\python\\python312\\lib\\site-packages (from matplotlib->wordcloud) (3.2.1)\n",
      "Requirement already satisfied: python-dateutil>=2.7 in c:\\users\\kaila\\appdata\\local\\programs\\python\\python312\\lib\\site-packages (from matplotlib->wordcloud) (2.9.0.post0)\n",
      "Requirement already satisfied: six>=1.5 in c:\\users\\kaila\\appdata\\local\\programs\\python\\python312\\lib\\site-packages (from python-dateutil>=2.7->matplotlib->wordcloud) (1.17.0)\n",
      "Requirement already satisfied: tensorflow in c:\\users\\kaila\\appdata\\local\\programs\\python\\python312\\lib\\site-packages (2.19.0)\n",
      "Requirement already satisfied: absl-py>=1.0.0 in c:\\users\\kaila\\appdata\\local\\programs\\python\\python312\\lib\\site-packages (from tensorflow) (2.2.2)\n",
      "Requirement already satisfied: astunparse>=1.6.0 in c:\\users\\kaila\\appdata\\local\\programs\\python\\python312\\lib\\site-packages (from tensorflow) (1.6.3)\n",
      "Requirement already satisfied: flatbuffers>=24.3.25 in c:\\users\\kaila\\appdata\\local\\programs\\python\\python312\\lib\\site-packages (from tensorflow) (25.2.10)\n",
      "Requirement already satisfied: gast!=0.5.0,!=0.5.1,!=0.5.2,>=0.2.1 in c:\\users\\kaila\\appdata\\local\\programs\\python\\python312\\lib\\site-packages (from tensorflow) (0.6.0)\n",
      "Requirement already satisfied: google-pasta>=0.1.1 in c:\\users\\kaila\\appdata\\local\\programs\\python\\python312\\lib\\site-packages (from tensorflow) (0.2.0)\n",
      "Requirement already satisfied: libclang>=13.0.0 in c:\\users\\kaila\\appdata\\local\\programs\\python\\python312\\lib\\site-packages (from tensorflow) (18.1.1)\n",
      "Requirement already satisfied: opt-einsum>=2.3.2 in c:\\users\\kaila\\appdata\\local\\programs\\python\\python312\\lib\\site-packages (from tensorflow) (3.4.0)\n",
      "Requirement already satisfied: packaging in c:\\users\\kaila\\appdata\\local\\programs\\python\\python312\\lib\\site-packages (from tensorflow) (24.1)\n",
      "Requirement already satisfied: protobuf!=4.21.0,!=4.21.1,!=4.21.2,!=4.21.3,!=4.21.4,!=4.21.5,<6.0.0dev,>=3.20.3 in c:\\users\\kaila\\appdata\\local\\programs\\python\\python312\\lib\\site-packages (from tensorflow) (5.29.4)\n",
      "Requirement already satisfied: requests<3,>=2.21.0 in c:\\users\\kaila\\appdata\\local\\programs\\python\\python312\\lib\\site-packages (from tensorflow) (2.32.3)\n",
      "Requirement already satisfied: setuptools in c:\\users\\kaila\\appdata\\local\\programs\\python\\python312\\lib\\site-packages (from tensorflow) (75.8.0)\n",
      "Requirement already satisfied: six>=1.12.0 in c:\\users\\kaila\\appdata\\local\\programs\\python\\python312\\lib\\site-packages (from tensorflow) (1.17.0)\n",
      "Requirement already satisfied: termcolor>=1.1.0 in c:\\users\\kaila\\appdata\\local\\programs\\python\\python312\\lib\\site-packages (from tensorflow) (2.3.0)\n",
      "Requirement already satisfied: typing-extensions>=3.6.6 in c:\\users\\kaila\\appdata\\local\\programs\\python\\python312\\lib\\site-packages (from tensorflow) (4.12.2)\n",
      "Requirement already satisfied: wrapt>=1.11.0 in c:\\users\\kaila\\appdata\\local\\programs\\python\\python312\\lib\\site-packages (from tensorflow) (1.17.2)\n",
      "Requirement already satisfied: grpcio<2.0,>=1.24.3 in c:\\users\\kaila\\appdata\\local\\programs\\python\\python312\\lib\\site-packages (from tensorflow) (1.71.0)\n",
      "Requirement already satisfied: tensorboard~=2.19.0 in c:\\users\\kaila\\appdata\\local\\programs\\python\\python312\\lib\\site-packages (from tensorflow) (2.19.0)\n",
      "Requirement already satisfied: keras>=3.5.0 in c:\\users\\kaila\\appdata\\local\\programs\\python\\python312\\lib\\site-packages (from tensorflow) (3.9.2)\n",
      "Requirement already satisfied: numpy<2.2.0,>=1.26.0 in c:\\users\\kaila\\appdata\\local\\programs\\python\\python312\\lib\\site-packages (from tensorflow) (2.1.3)\n",
      "Requirement already satisfied: h5py>=3.11.0 in c:\\users\\kaila\\appdata\\local\\programs\\python\\python312\\lib\\site-packages (from tensorflow) (3.13.0)\n",
      "Requirement already satisfied: ml-dtypes<1.0.0,>=0.5.1 in c:\\users\\kaila\\appdata\\local\\programs\\python\\python312\\lib\\site-packages (from tensorflow) (0.5.1)\n",
      "Requirement already satisfied: wheel<1.0,>=0.23.0 in c:\\users\\kaila\\appdata\\local\\programs\\python\\python312\\lib\\site-packages (from astunparse>=1.6.0->tensorflow) (0.45.1)\n",
      "Requirement already satisfied: rich in c:\\users\\kaila\\appdata\\local\\programs\\python\\python312\\lib\\site-packages (from keras>=3.5.0->tensorflow) (14.0.0)\n",
      "Requirement already satisfied: namex in c:\\users\\kaila\\appdata\\local\\programs\\python\\python312\\lib\\site-packages (from keras>=3.5.0->tensorflow) (0.0.8)\n",
      "Requirement already satisfied: optree in c:\\users\\kaila\\appdata\\local\\programs\\python\\python312\\lib\\site-packages (from keras>=3.5.0->tensorflow) (0.14.1)\n",
      "Requirement already satisfied: charset-normalizer<4,>=2 in c:\\users\\kaila\\appdata\\local\\programs\\python\\python312\\lib\\site-packages (from requests<3,>=2.21.0->tensorflow) (3.4.1)\n",
      "Requirement already satisfied: idna<4,>=2.5 in c:\\users\\kaila\\appdata\\local\\programs\\python\\python312\\lib\\site-packages (from requests<3,>=2.21.0->tensorflow) (3.10)\n",
      "Requirement already satisfied: urllib3<3,>=1.21.1 in c:\\users\\kaila\\appdata\\local\\programs\\python\\python312\\lib\\site-packages (from requests<3,>=2.21.0->tensorflow) (2.3.0)\n",
      "Requirement already satisfied: certifi>=2017.4.17 in c:\\users\\kaila\\appdata\\local\\programs\\python\\python312\\lib\\site-packages (from requests<3,>=2.21.0->tensorflow) (2025.1.31)\n",
      "Requirement already satisfied: markdown>=2.6.8 in c:\\users\\kaila\\appdata\\local\\programs\\python\\python312\\lib\\site-packages (from tensorboard~=2.19.0->tensorflow) (3.7)\n",
      "Requirement already satisfied: tensorboard-data-server<0.8.0,>=0.7.0 in c:\\users\\kaila\\appdata\\local\\programs\\python\\python312\\lib\\site-packages (from tensorboard~=2.19.0->tensorflow) (0.7.2)\n",
      "Requirement already satisfied: werkzeug>=1.0.1 in c:\\users\\kaila\\appdata\\local\\programs\\python\\python312\\lib\\site-packages (from tensorboard~=2.19.0->tensorflow) (3.1.3)\n",
      "Requirement already satisfied: MarkupSafe>=2.1.1 in c:\\users\\kaila\\appdata\\local\\programs\\python\\python312\\lib\\site-packages (from werkzeug>=1.0.1->tensorboard~=2.19.0->tensorflow) (3.0.2)\n",
      "Requirement already satisfied: markdown-it-py>=2.2.0 in c:\\users\\kaila\\appdata\\local\\programs\\python\\python312\\lib\\site-packages (from rich->keras>=3.5.0->tensorflow) (3.0.0)\n",
      "Requirement already satisfied: pygments<3.0.0,>=2.13.0 in c:\\users\\kaila\\appdata\\roaming\\python\\python312\\site-packages (from rich->keras>=3.5.0->tensorflow) (2.19.1)\n",
      "Requirement already satisfied: mdurl~=0.1 in c:\\users\\kaila\\appdata\\local\\programs\\python\\python312\\lib\\site-packages (from markdown-it-py>=2.2.0->rich->keras>=3.5.0->tensorflow) (0.1.2)\n"
     ]
    }
   ],
   "source": [
    "import pandas as pd\n",
    "import numpy as np\n",
    "import matplotlib.pyplot as plt\n",
    "import seaborn as sns\n",
    "from numpy import array\n",
    "# import string\n",
    "# from string import punctuation\n",
    "# from itertools import chain\n",
    "\n",
    "from sklearn.model_selection import train_test_split\n",
    "from sklearn.metrics import recall_score, f1_score\n",
    "\n",
    "from sklearn.feature_extraction.text import CountVectorizer\n",
    "from sklearn.feature_extraction.text import TfidfVectorizer\n",
    "from sklearn.linear_model import LogisticRegression\n",
    "from sklearn.decomposition import NMF, LatentDirichletAllocation, TruncatedSVD\n",
    "from sklearn.feature_selection import SelectPercentile, chi2, f_regression, f_classif\n",
    "from sklearn.utils import shuffle\n",
    "# from sklearn import svm\n",
    "\n",
    "# nltk.download('stopwords')\n",
    "# from nltk.stem import WordNetLemmatizer\n",
    "# from nltk import ngrams\n",
    "\n",
    "import re\n",
    "import string\n",
    "\n",
    "! pip install nltk\n",
    "import nltk\n",
    "from nltk.corpus import stopwords\n",
    "from nltk.tokenize import word_tokenize\n",
    "from nltk.stem import WordNetLemmatizer\n",
    "from nltk.corpus import wordnet\n",
    "nltk.download('punkt_tab')\n",
    "nltk.download('stopwords')\n",
    "nltk.download('wordnet')\n",
    "\n",
    "\n",
    "! pip install wordcloud\n",
    "from wordcloud import WordCloud, STOPWORDS\n",
    "\n",
    "! pip install tensorflow\n",
    "\n",
    "import tensorflow as tf\n",
    "from sklearn.model_selection import train_test_split\n",
    "from tensorflow.keras.preprocessing.text import Tokenizer, one_hot\n",
    "from tensorflow.keras.preprocessing.text import tokenizer_from_json\n",
    "from tensorflow.keras.preprocessing.sequence import pad_sequences\n",
    "from tensorflow.keras.models import Sequential\n",
    "from tensorflow.keras.layers import Activation, Dropout, Dense, Flatten, GlobalMaxPooling1D, Embedding, Conv1D, LSTM\n",
    "import io\n",
    "import json"
   ]
  },
  {
   "cell_type": "markdown",
   "id": "cd0c5565-9194-4c63-b648-e6477b48ecc9",
   "metadata": {},
   "source": [
    "## Loading dataset and exploration"
   ]
  },
  {
   "cell_type": "code",
   "execution_count": 141,
   "id": "f84977e7-b8e5-4d2c-9e5d-6004a3d57641",
   "metadata": {},
   "outputs": [],
   "source": [
    "df = pd.read_csv('AmazonReviews.csv')"
   ]
  },
  {
   "cell_type": "code",
   "execution_count": 142,
   "id": "425643a1-b14e-4cab-8a47-f02b1b844275",
   "metadata": {},
   "outputs": [
    {
     "data": {
      "text/plain": [
       "Index(['userName', 'verified', 'itemName', 'description', 'image', 'brand',\n",
       "       'feature', 'category', 'price', 'rating', 'reviewTime', 'summary',\n",
       "       'reviewText', 'vote'],\n",
       "      dtype='object')"
      ]
     },
     "execution_count": 142,
     "metadata": {},
     "output_type": "execute_result"
    }
   ],
   "source": [
    "df.columns"
   ]
  },
  {
   "cell_type": "code",
   "execution_count": 143,
   "id": "2ee91202-d534-44e4-b968-a7a37f3dd146",
   "metadata": {},
   "outputs": [
    {
     "data": {
      "text/plain": [
       "(551159, 14)"
      ]
     },
     "execution_count": 143,
     "metadata": {},
     "output_type": "execute_result"
    }
   ],
   "source": [
    "df.shape"
   ]
  },
  {
   "cell_type": "code",
   "execution_count": 144,
   "id": "cddc0f32-b37c-43c8-8cfb-0b080b399fec",
   "metadata": {},
   "outputs": [
    {
     "name": "stdout",
     "output_type": "stream",
     "text": [
      "userName         133\n",
      "verified           0\n",
      "itemName           1\n",
      "description        8\n",
      "image              0\n",
      "brand           3872\n",
      "feature            0\n",
      "category           0\n",
      "price          74334\n",
      "rating             0\n",
      "reviewTime         0\n",
      "summary          243\n",
      "reviewText       428\n",
      "vote               0\n",
      "dtype: int64\n"
     ]
    }
   ],
   "source": [
    "print(df.isnull().sum())"
   ]
  },
  {
   "cell_type": "code",
   "execution_count": 145,
   "id": "0ade3110-d1c9-4bbc-aa2b-f14d7903b872",
   "metadata": {},
   "outputs": [
    {
     "data": {
      "text/html": [
       "<div>\n",
       "<style scoped>\n",
       "    .dataframe tbody tr th:only-of-type {\n",
       "        vertical-align: middle;\n",
       "    }\n",
       "\n",
       "    .dataframe tbody tr th {\n",
       "        vertical-align: top;\n",
       "    }\n",
       "\n",
       "    .dataframe thead th {\n",
       "        text-align: right;\n",
       "    }\n",
       "</style>\n",
       "<table border=\"1\" class=\"dataframe\">\n",
       "  <thead>\n",
       "    <tr style=\"text-align: right;\">\n",
       "      <th></th>\n",
       "      <th>userName</th>\n",
       "      <th>verified</th>\n",
       "      <th>itemName</th>\n",
       "      <th>description</th>\n",
       "      <th>image</th>\n",
       "      <th>brand</th>\n",
       "      <th>feature</th>\n",
       "      <th>category</th>\n",
       "      <th>price</th>\n",
       "      <th>rating</th>\n",
       "      <th>reviewTime</th>\n",
       "      <th>summary</th>\n",
       "      <th>reviewText</th>\n",
       "      <th>vote</th>\n",
       "    </tr>\n",
       "  </thead>\n",
       "  <tbody>\n",
       "    <tr>\n",
       "      <th>0</th>\n",
       "      <td>Amazon Customer</td>\n",
       "      <td>True</td>\n",
       "      <td>Toblerone Swiss Milk Chocolate Bar, Crunchy Sa...</td>\n",
       "      <td>[\"Made from deliciously decadent ingredients, ...</td>\n",
       "      <td>['https://images-na.ssl-images-amazon.com/imag...</td>\n",
       "      <td>Toblerone</td>\n",
       "      <td>[]</td>\n",
       "      <td>Prime_Pantry</td>\n",
       "      <td>$1.63</td>\n",
       "      <td>5.0</td>\n",
       "      <td>2018-01-01</td>\n",
       "      <td>Five Stars</td>\n",
       "      <td>super smooth and yummy with crunchy bits</td>\n",
       "      <td>0</td>\n",
       "    </tr>\n",
       "    <tr>\n",
       "      <th>1</th>\n",
       "      <td>Carla</td>\n",
       "      <td>True</td>\n",
       "      <td>Prince of Peace Organic Tea, Oolong, 100 Tea Bags</td>\n",
       "      <td>['Prince of Peace Enterprises, Inc., founded i...</td>\n",
       "      <td>['https://images-na.ssl-images-amazon.com/imag...</td>\n",
       "      <td>Prince Of Peace</td>\n",
       "      <td>[]</td>\n",
       "      <td>Grocery_and_Gourmet_Food</td>\n",
       "      <td>$6.40</td>\n",
       "      <td>5.0</td>\n",
       "      <td>2018-01-01</td>\n",
       "      <td>Five Stars</td>\n",
       "      <td>Perfect for kombucha</td>\n",
       "      <td>0</td>\n",
       "    </tr>\n",
       "  </tbody>\n",
       "</table>\n",
       "</div>"
      ],
      "text/plain": [
       "          userName  verified  \\\n",
       "0  Amazon Customer      True   \n",
       "1            Carla      True   \n",
       "\n",
       "                                            itemName  \\\n",
       "0  Toblerone Swiss Milk Chocolate Bar, Crunchy Sa...   \n",
       "1  Prince of Peace Organic Tea, Oolong, 100 Tea Bags   \n",
       "\n",
       "                                         description  \\\n",
       "0  [\"Made from deliciously decadent ingredients, ...   \n",
       "1  ['Prince of Peace Enterprises, Inc., founded i...   \n",
       "\n",
       "                                               image            brand feature  \\\n",
       "0  ['https://images-na.ssl-images-amazon.com/imag...        Toblerone      []   \n",
       "1  ['https://images-na.ssl-images-amazon.com/imag...  Prince Of Peace      []   \n",
       "\n",
       "                   category  price  rating  reviewTime     summary  \\\n",
       "0              Prime_Pantry  $1.63     5.0  2018-01-01  Five Stars   \n",
       "1  Grocery_and_Gourmet_Food  $6.40     5.0  2018-01-01  Five Stars   \n",
       "\n",
       "                                 reviewText  vote  \n",
       "0  super smooth and yummy with crunchy bits     0  \n",
       "1                      Perfect for kombucha     0  "
      ]
     },
     "execution_count": 145,
     "metadata": {},
     "output_type": "execute_result"
    }
   ],
   "source": [
    "df.head(2)"
   ]
  },
  {
   "cell_type": "code",
   "execution_count": 146,
   "id": "eb758eaf-9d13-4cdb-8ca4-d634a0d7458b",
   "metadata": {},
   "outputs": [
    {
     "name": "stdout",
     "output_type": "stream",
     "text": [
      "(453086, 14) (57434, 14)\n"
     ]
    }
   ],
   "source": [
    "pos = df[df['rating']>3]\n",
    "neg = df[df['rating']<3]\n",
    "print(pos.shape, neg.shape)"
   ]
  },
  {
   "cell_type": "markdown",
   "id": "ab53742a",
   "metadata": {},
   "source": [
    "# Largely imbalanced\n",
    "May have to oversample/undersample"
   ]
  },
  {
   "cell_type": "code",
   "execution_count": 147,
   "id": "4474594a-15ea-4cf7-8538-74025810ccb3",
   "metadata": {},
   "outputs": [
    {
     "data": {
      "image/png": "[encoded data removed]",
      "text/plain": [
       "<Figure size 640x480 with 1 Axes>"
      ]
     },
     "metadata": {},
     "output_type": "display_data"
    }
   ],
   "source": [
    "counts = [pos.shape[0], neg.shape[0]]\n",
    "\n",
    "# Create a bar chart\n",
    "plt.bar(['Positive Ratings (>3)', 'Negative Ratings (<3)'], counts, color=['green', 'red'])\n",
    "plt.title('Count of Positive and Negative Ratings')\n",
    "plt.ylabel('Count')\n",
    "plt.xlabel('Rating Categories')\n",
    "plt.show()"
   ]
  },
  {
   "cell_type": "code",
   "execution_count": 148,
   "id": "9e176427",
   "metadata": {},
   "outputs": [
    {
     "data": {
      "text/plain": [
       "True"
      ]
     },
     "execution_count": 148,
     "metadata": {},
     "output_type": "execute_result"
    }
   ],
   "source": [
    "size = df.shape[0]\n",
    "test_size = int(0.1*size)\n",
    "training_size = size - test_size\n",
    "int(test_size) + int(training_size) == size"
   ]
  },
  {
   "cell_type": "markdown",
   "id": "0b9a1520-db64-4408-b988-f68e4b13dce3",
   "metadata": {},
   "source": [
    "## Adding sentiment values:\n",
    "- Done via a sentiment map\n",
    "- resulting column added to original dataframe"
   ]
  },
  {
   "cell_type": "code",
   "execution_count": 149,
   "id": "46b0b3df",
   "metadata": {},
   "outputs": [],
   "source": [
    "testing_set = df[:test_size]\n",
    "training_set = df[test_size:]"
   ]
  },
  {
   "cell_type": "code",
   "execution_count": 150,
   "id": "05a6fca0-371c-46dd-abd6-63c47b98ece7",
   "metadata": {},
   "outputs": [
    {
     "name": "stderr",
     "output_type": "stream",
     "text": [
      "C:\\Users\\kaila\\AppData\\Local\\Temp\\ipykernel_24140\\3460000844.py:6: SettingWithCopyWarning: \n",
      "A value is trying to be set on a copy of a slice from a DataFrame.\n",
      "Try using .loc[row_indexer,col_indexer] = value instead\n",
      "\n",
      "See the caveats in the documentation: https://pandas.pydata.org/pandas-docs/stable/user_guide/indexing.html#returning-a-view-versus-a-copy\n",
      "  training_set.loc[:, 'sentiment'] = y\n"
     ]
    }
   ],
   "source": [
    "sentiment_map = {1:0, 2:0, 4:1, 5:1}\n",
    "\n",
    "temp = training_set[training_set['rating'] != 3]\n",
    "y = training_set['rating'].map(sentiment_map)\n",
    "\n",
    "training_set.loc[:, 'sentiment'] = y"
   ]
  },
  {
   "cell_type": "code",
   "execution_count": 151,
   "id": "365a276f-f31a-454a-bb96-1f1b125cf140",
   "metadata": {},
   "outputs": [
    {
     "data": {
      "text/html": [
       "<div>\n",
       "<style scoped>\n",
       "    .dataframe tbody tr th:only-of-type {\n",
       "        vertical-align: middle;\n",
       "    }\n",
       "\n",
       "    .dataframe tbody tr th {\n",
       "        vertical-align: top;\n",
       "    }\n",
       "\n",
       "    .dataframe thead th {\n",
       "        text-align: right;\n",
       "    }\n",
       "</style>\n",
       "<table border=\"1\" class=\"dataframe\">\n",
       "  <thead>\n",
       "    <tr style=\"text-align: right;\">\n",
       "      <th></th>\n",
       "      <th>userName</th>\n",
       "      <th>verified</th>\n",
       "      <th>itemName</th>\n",
       "      <th>description</th>\n",
       "      <th>image</th>\n",
       "      <th>brand</th>\n",
       "      <th>feature</th>\n",
       "      <th>category</th>\n",
       "      <th>price</th>\n",
       "      <th>rating</th>\n",
       "      <th>reviewTime</th>\n",
       "      <th>summary</th>\n",
       "      <th>reviewText</th>\n",
       "      <th>vote</th>\n",
       "      <th>sentiment</th>\n",
       "    </tr>\n",
       "  </thead>\n",
       "  <tbody>\n",
       "    <tr>\n",
       "      <th>55115</th>\n",
       "      <td>B-RYE</td>\n",
       "      <td>True</td>\n",
       "      <td>MidWest Homes for Pets Dog Crate Cover</td>\n",
       "      <td>['This is a lightweight, black polyester dog k...</td>\n",
       "      <td>['https://images-na.ssl-images-amazon.com/imag...</td>\n",
       "      <td>MidWest Homes for Pets</td>\n",
       "      <td>[\"Dog crate cover provides the privacy, securi...</td>\n",
       "      <td>Pet_Supplies</td>\n",
       "      <td>$10.18</td>\n",
       "      <td>3.0</td>\n",
       "      <td>2018-01-17</td>\n",
       "      <td>NIce but not for my dog.</td>\n",
       "      <td>It is nice but did not work for my dog. He wan...</td>\n",
       "      <td>0</td>\n",
       "      <td>NaN</td>\n",
       "    </tr>\n",
       "    <tr>\n",
       "      <th>55116</th>\n",
       "      <td>KnitWrite</td>\n",
       "      <td>True</td>\n",
       "      <td>MidWest Homes for Pets Dog Crate Cover</td>\n",
       "      <td>['This is a lightweight, black polyester dog k...</td>\n",
       "      <td>['https://images-na.ssl-images-amazon.com/imag...</td>\n",
       "      <td>MidWest Homes for Pets</td>\n",
       "      <td>[\"Dog crate cover provides the privacy, securi...</td>\n",
       "      <td>Pet_Supplies</td>\n",
       "      <td>$10.18</td>\n",
       "      <td>5.0</td>\n",
       "      <td>2018-01-17</td>\n",
       "      <td>Great for Travel</td>\n",
       "      <td>I had to take a trip with my dog, and purchase...</td>\n",
       "      <td>0</td>\n",
       "      <td>1.0</td>\n",
       "    </tr>\n",
       "  </tbody>\n",
       "</table>\n",
       "</div>"
      ],
      "text/plain": [
       "        userName  verified                                itemName  \\\n",
       "55115      B-RYE      True  MidWest Homes for Pets Dog Crate Cover   \n",
       "55116  KnitWrite      True  MidWest Homes for Pets Dog Crate Cover   \n",
       "\n",
       "                                             description  \\\n",
       "55115  ['This is a lightweight, black polyester dog k...   \n",
       "55116  ['This is a lightweight, black polyester dog k...   \n",
       "\n",
       "                                                   image  \\\n",
       "55115  ['https://images-na.ssl-images-amazon.com/imag...   \n",
       "55116  ['https://images-na.ssl-images-amazon.com/imag...   \n",
       "\n",
       "                        brand  \\\n",
       "55115  MidWest Homes for Pets   \n",
       "55116  MidWest Homes for Pets   \n",
       "\n",
       "                                                 feature      category  \\\n",
       "55115  [\"Dog crate cover provides the privacy, securi...  Pet_Supplies   \n",
       "55116  [\"Dog crate cover provides the privacy, securi...  Pet_Supplies   \n",
       "\n",
       "        price  rating  reviewTime                   summary  \\\n",
       "55115  $10.18     3.0  2018-01-17  NIce but not for my dog.   \n",
       "55116  $10.18     5.0  2018-01-17          Great for Travel   \n",
       "\n",
       "                                              reviewText  vote  sentiment  \n",
       "55115  It is nice but did not work for my dog. He wan...     0        NaN  \n",
       "55116  I had to take a trip with my dog, and purchase...     0        1.0  "
      ]
     },
     "execution_count": 151,
     "metadata": {},
     "output_type": "execute_result"
    }
   ],
   "source": [
    "training_set.head(2)"
   ]
  },
  {
   "cell_type": "markdown",
   "id": "9c409196-72ea-488c-869d-27d61e673dad",
   "metadata": {},
   "source": [
    "## Preparing dataframe for preprocessing"
   ]
  },
  {
   "cell_type": "code",
   "execution_count": 152,
   "id": "f8dd0e48-dcb7-41a5-8b7d-b5a2f36619b7",
   "metadata": {},
   "outputs": [],
   "source": [
    "reviews_to_clean = pd.DataFrame()\n",
    "reviews_to_clean = training_set['reviewText']"
   ]
  },
  {
   "cell_type": "code",
   "execution_count": 153,
   "id": "226554e2-e791-421f-b55a-ebaae203b7cd",
   "metadata": {},
   "outputs": [
    {
     "name": "stdout",
     "output_type": "stream",
     "text": [
      "55115    It is nice but did not work for my dog. He wan...\n",
      "55116    I had to take a trip with my dog, and purchase...\n",
      "55117    The case seems to be well made and it fits the...\n",
      "Name: reviewText, dtype: object\n"
     ]
    }
   ],
   "source": [
    "print(reviews_to_clean.head(3))"
   ]
  },
  {
   "cell_type": "code",
   "execution_count": 154,
   "id": "40604f16-5a24-4554-b30b-c47b1866abde",
   "metadata": {},
   "outputs": [
    {
     "name": "stdout",
     "output_type": "stream",
     "text": [
      "<class 'pandas.core.series.Series'>\n"
     ]
    }
   ],
   "source": [
    "print(type(reviews_to_clean))"
   ]
  },
  {
   "cell_type": "code",
   "execution_count": 155,
   "id": "be38dbf6-664e-4a2a-9329-801faf0e9326",
   "metadata": {},
   "outputs": [
    {
     "name": "stdout",
     "output_type": "stream",
     "text": [
      "(496044,)\n"
     ]
    }
   ],
   "source": [
    "print(reviews_to_clean.shape)"
   ]
  },
  {
   "cell_type": "code",
   "execution_count": 156,
   "id": "0efda403-f669-4c6a-8bc6-fae65f9bc967",
   "metadata": {},
   "outputs": [],
   "source": [
    "stop_words = stopwords.words('english')"
   ]
  },
  {
   "cell_type": "markdown",
   "id": "3a0876e8-2920-4625-88fa-ea6a0c9c5bb7",
   "metadata": {},
   "source": [
    "## Cleaning HTML aspects\n",
    "- includes tags and https:// "
   ]
  },
  {
   "cell_type": "code",
   "execution_count": 157,
   "id": "22717e14-24e3-490c-b35e-1d87d7c35a6d",
   "metadata": {},
   "outputs": [],
   "source": [
    "def clean_html(text):\n",
    "    # Remove URLs\n",
    "    text = re.sub(r'^https?:\\/\\/.*[\\r\\n]*', '', text, flags=re.MULTILINE)\n",
    "    # Remove HTML tags\n",
    "    text = re.sub('<.*?>+', '', text)\n",
    "    return text"
   ]
  },
  {
   "cell_type": "markdown",
   "id": "4a2b9e72-5b1a-48db-ba1b-0f0307f3564d",
   "metadata": {},
   "source": [
    "## Creating tokens"
   ]
  },
  {
   "cell_type": "code",
   "execution_count": 158,
   "id": "bf0f045e-41d5-4f5e-902c-dd45dfec2d87",
   "metadata": {},
   "outputs": [],
   "source": [
    "def tokenize_df(text):\n",
    "    if isinstance(text, str):  # If the input is a string\n",
    "        tokens = word_tokenize(text)\n",
    "        tokens = [token for token in tokens if token.isalpha()]  # Keep only alphabetic tokens\n",
    "        return tokens\n",
    "    elif isinstance(text, (int, float)):  # If the input is an integer or float\n",
    "        return text  # Return the number as is\n",
    "    else:\n",
    "        return []"
   ]
  },
  {
   "cell_type": "markdown",
   "id": "3464f39f-1bed-4876-b6e9-647273442e65",
   "metadata": {},
   "source": [
    "## Removing stopwords"
   ]
  },
  {
   "cell_type": "code",
   "execution_count": 159,
   "id": "7e0eca34-196f-43b1-bfac-d5f3ca664fe3",
   "metadata": {},
   "outputs": [],
   "source": [
    "def remove_stopwords(tokens):\n",
    "    stop_words = (stopwords.words(\"english\"))\n",
    "    filtered_tokens = [token for token in tokens if token.lower() not in stop_words]\n",
    "    return filtered_tokens"
   ]
  },
  {
   "cell_type": "markdown",
   "id": "f369aa7a-c997-4cd2-b5bb-eb9f7e85842a",
   "metadata": {},
   "source": [
    "## Lemmatization:\n",
    "- Spelling or semantics of words may have been affected via tokenisation or punctuation removal. This was done to try to preserve value of those that may have been affected"
   ]
  },
  {
   "cell_type": "code",
   "execution_count": 160,
   "id": "0ed4fb88-ed57-46aa-b4e1-5b710697b03f",
   "metadata": {},
   "outputs": [],
   "source": [
    "# def lemmatize_text(tokens):\n",
    "#     lemma = WordNetLemmatizer()\n",
    "#     lemma_token = [lemma.lemmatize(word) for word in tokens]\n",
    "#     return lemma_token\n",
    "\n",
    "def lemmatize_text(tokens):\n",
    "    if tokens is None:\n",
    "        return []  # Return an empty list if tokens is None\n",
    "    lemma = WordNetLemmatizer()\n",
    "    lemma_tokens = [lemma.lemmatize(word) for word in tokens if word is not None]  # Check for None\n",
    "    return lemma_tokens"
   ]
  },
  {
   "cell_type": "markdown",
   "id": "4f77b7dd-2075-4351-8da7-73760015925e",
   "metadata": {},
   "source": [
    "## Cleaning text utilizing prior functions"
   ]
  },
  {
   "cell_type": "code",
   "execution_count": 161,
   "id": "d2f2fdbe-482c-41d6-aef3-7da51eb3845a",
   "metadata": {},
   "outputs": [],
   "source": [
    "def clean_text(text):\n",
    "    if not isinstance(text, str):  # Check if the input is not a string\n",
    "        return ''  # Return an empty string or handle it as needed\n",
    "    text = clean_html(text)\n",
    "    tokens = tokenize_df(text)\n",
    "    tokens = [token.lower() for token in tokens]\n",
    "    tokens = remove_stopwords(tokens)\n",
    "    tokens = [token.translate(str.maketrans('', '', string.punctuation)) for token in tokens]\n",
    "    tokens = lemmatize_text(tokens)\n",
    "    return ' '.join(tokens)"
   ]
  },
  {
   "cell_type": "code",
   "execution_count": 162,
   "id": "b8702106-cb6f-4af9-86aa-059a8723d3b6",
   "metadata": {},
   "outputs": [],
   "source": [
    "cleaned_reviews = reviews_to_clean.apply(clean_text)"
   ]
  },
  {
   "cell_type": "markdown",
   "id": "22492b8c-6437-449d-8699-615ad1311685",
   "metadata": {},
   "source": [
    "## Convert all instances of float or integer data to string:\n",
    "- This was done to avoid instances of float or integer.\n",
    "- Chose not to drop the values since it may hold value in our analysis"
   ]
  },
  {
   "cell_type": "code",
   "execution_count": 163,
   "id": "ba9c0c19-1edd-44a3-8434-79bab8b78255",
   "metadata": {},
   "outputs": [
    {
     "data": {
      "text/plain": [
       "55115                          nice work dog wanted nothing\n",
       "55116     take trip dog purchased use instead old blanke...\n",
       "55117     case seems well made fit phone nicely problem ...\n",
       "55118                                               durable\n",
       "55119     skeptical dog would play love hide squirrel bu...\n",
       "                                ...                        \n",
       "551154                               cheap price weak chain\n",
       "551155                                       great deck box\n",
       "551156    putting weather station anticipate problem kee...\n",
       "551157    nice quality grilling table put grilling stuff...\n",
       "551158                       nice variety pack whole family\n",
       "Name: reviewText, Length: 496044, dtype: object"
      ]
     },
     "execution_count": 163,
     "metadata": {},
     "output_type": "execute_result"
    }
   ],
   "source": [
    "cleaned_reviews.apply(lambda x: re.sub(r\"\\s+\", \" \", x).strip()if isinstance(x, str) else x)"
   ]
  },
  {
   "cell_type": "markdown",
   "id": "afd45143-adb7-4f05-96a3-948e82f1ec0f",
   "metadata": {},
   "source": [
    "## Dropping values:\n",
    "- This was done to account for any rows that had no data. Avoids NaN representation for text_fit"
   ]
  },
  {
   "cell_type": "code",
   "execution_count": 164,
   "id": "e2f578aa-cddb-4c05-b03b-c6751e6e43b5",
   "metadata": {},
   "outputs": [],
   "source": [
    "cleaned_reviews = cleaned_reviews.fillna('').astype(str)"
   ]
  },
  {
   "cell_type": "code",
   "execution_count": 165,
   "id": "d448c76f-e163-4b9f-a6a9-23f08fe5af9c",
   "metadata": {},
   "outputs": [
    {
     "name": "stdout",
     "output_type": "stream",
     "text": [
      "0\n"
     ]
    }
   ],
   "source": [
    "print(cleaned_reviews.isnull().sum())"
   ]
  },
  {
   "cell_type": "code",
   "execution_count": 166,
   "id": "be871f44",
   "metadata": {},
   "outputs": [
    {
     "data": {
      "text/plain": [
       "55115                         nice work dog wanted nothing\n",
       "55116    take trip dog purchased use instead old blanke...\n",
       "55117    case seems well made fit phone nicely problem ...\n",
       "Name: reviewText, dtype: object"
      ]
     },
     "execution_count": 166,
     "metadata": {},
     "output_type": "execute_result"
    }
   ],
   "source": [
    "cleaned_reviews.head(3)"
   ]
  },
  {
   "cell_type": "code",
   "execution_count": 167,
   "id": "0b9f0869-0322-4f3a-bebd-c9d3eefb0c38",
   "metadata": {},
   "outputs": [],
   "source": [
    "def print_cloud(data):\n",
    "    text = \" \".join(review for review in data)\n",
    "    print (\"There are {} words in the combination of all reviews.\".format(len(text)))\n",
    "    stopwords_set = set(stopwords.words('english'))\n",
    "    wordcloud = WordCloud(stopwords=stopwords_set, background_color=\"white\").generate(text)\n",
    "    return wordcloud"
   ]
  },
  {
   "cell_type": "markdown",
   "id": "ed5c3eea-718b-43cc-a9e4-9ef17efb860a",
   "metadata": {},
   "source": [
    "## Visualisation\n",
    "- Small visualisation to check if cleaning went as expected"
   ]
  },
  {
   "cell_type": "code",
   "execution_count": 168,
   "id": "671602ab-df89-467b-b6eb-bc843807d381",
   "metadata": {},
   "outputs": [
    {
     "name": "stdout",
     "output_type": "stream",
     "text": [
      "There are 48448693 words in the combination of all reviews.\n"
     ]
    },
    {
     "data": {
      "image/png": "[encoded data removed]",
      "text/plain": [
       "<Figure size 640x480 with 1 Axes>"
      ]
     },
     "metadata": {},
     "output_type": "display_data"
    }
   ],
   "source": [
    "wordcloud = print_cloud(cleaned_reviews)\n",
    "fig = plt.figure(1)\n",
    "plt.imshow(wordcloud, interpolation='bilinear')\n",
    "plt.axis(\"off\")\n",
    "plt.show()"
   ]
  },
  {
   "cell_type": "code",
   "execution_count": 169,
   "id": "14cc6c7a-05d8-4b5a-946c-ae72d9e2e2dc",
   "metadata": {},
   "outputs": [
    {
     "name": "stdout",
     "output_type": "stream",
     "text": [
      "<class 'pandas.core.series.Series'>\n",
      "(496044,)\n"
     ]
    }
   ],
   "source": [
    "X = cleaned_reviews\n",
    "print(type(X))\n",
    "print(X.shape)"
   ]
  },
  {
   "cell_type": "code",
   "execution_count": 170,
   "id": "b88e6c23-456d-48d4-81ee-58e5fcd737c3",
   "metadata": {},
   "outputs": [
    {
     "name": "stdout",
     "output_type": "stream",
     "text": [
      "<class 'pandas.core.series.Series'>\n",
      "(496044,)\n",
      "36577\n"
     ]
    }
   ],
   "source": [
    "y = training_set['sentiment']\n",
    "print(type(y))\n",
    "print(y.shape)\n",
    "print(y.isnull().sum()) "
   ]
  },
  {
   "cell_type": "markdown",
   "id": "3b9011b3-0a65-4081-8194-daae1466b5b8",
   "metadata": {},
   "source": [
    "## Dropping NaN \n",
    "- Dropped those rows with NaN representations in sentiments based on the assumption their rating was a 3/5. Justified since the data loss is negligible when compared to that which remains"
   ]
  },
  {
   "cell_type": "code",
   "execution_count": 171,
   "id": "51b98846-4ad7-4433-953d-fd6944545e74",
   "metadata": {},
   "outputs": [
    {
     "name": "stdout",
     "output_type": "stream",
     "text": [
      "(459467,)\n",
      "(459467,)\n"
     ]
    }
   ],
   "source": [
    "y = y.dropna()\n",
    "X = X[y.index] \n",
    "print(X.shape)\n",
    "print(y.shape)"
   ]
  },
  {
   "cell_type": "code",
   "execution_count": 172,
   "id": "43f694c6-1289-4c62-9d8a-60c8e05dbd81",
   "metadata": {},
   "outputs": [],
   "source": [
    "def text_fit(X, y, model, clf_model, coef_show=1):\n",
    "    X_c = model.fit_transform(X)\n",
    "    print('# features: {}'.format(X_c.shape[1]))\n",
    "    X_train, X_test, y_train, y_test = train_test_split(X_c, y, random_state=0)\n",
    "    print('# train records: {}'.format(X_train.shape[0]))\n",
    "    print('# test records: {}'.format(X_test.shape[0]))\n",
    "    clf = clf_model.fit(X_train, y_train)\n",
    "    y_pred = clf.predict(X_test)\n",
    "    recall = recall_score(y_test,y_pred)\n",
    "    print ('Model Recall: {}'.format(recall))\n",
    "    if coef_show == 1: \n",
    "        w = model.get_feature_names_out()\n",
    "        coef = clf.coef_.tolist()[0]\n",
    "        coeff_df = pd.DataFrame({'Word' : w, 'Coefficient' : coef})\n",
    "        coeff_df = coeff_df.sort_values(['Coefficient', 'Word'], ascending=[0, 1])\n",
    "        print('')\n",
    "        print('-Top 20 positive-')\n",
    "        print(coeff_df.head(20).to_string(index=False))\n",
    "        print('')\n",
    "        print('-Top 20 negative-')        \n",
    "        print(coeff_df.tail(20).to_string(index=False))"
   ]
  },
  {
   "cell_type": "markdown",
   "id": "448503d7-698c-4f05-8cb7-480b04f9857e",
   "metadata": {},
   "source": [
    "## Interpretation\n",
    "- A recall of approximately 0.99 indicates that the model is very effective at identifying positive sentiments in the reviews.\n",
    "- The output lists the top 20 words (or n-grams) that are most strongly associated with positive sentiment, along with their coefficients.\n",
    "- The words listed here are the strongest indicators of positive sentiment in the reviews. The coefficients represent the weight of each word in the logistic regression model."
   ]
  },
  {
   "cell_type": "code",
   "execution_count": 173,
   "id": "c1861000-113d-4fa0-9e17-32bb5adf5e9a",
   "metadata": {
    "scrolled": true
   },
   "outputs": [
    {
     "name": "stdout",
     "output_type": "stream",
     "text": [
      "# features: 2094230\n",
      "# train records: 344600\n",
      "# test records: 114867\n",
      "Model Recall: 0.9916828062172498\n",
      "\n",
      "-Top 20 positive-\n",
      "            Word  Coefficient\n",
      "            love    20.834726\n",
      "           great    17.604871\n",
      "         perfect    13.099046\n",
      "            nice    10.985691\n",
      "            best    10.957201\n",
      "       excellent    10.085342\n",
      "       delicious     9.575685\n",
      "       perfectly     8.888323\n",
      "            easy     8.773595\n",
      "         amazing     8.525620\n",
      "         awesome     8.103425\n",
      "        favorite     8.005895\n",
      "       complaint     6.848199\n",
      "          easier     6.821953\n",
      "       wonderful     6.650832\n",
      "       fantastic     6.222455\n",
      "highly recommend     6.130542\n",
      "         pleased     6.017878\n",
      "          highly     5.915957\n",
      "          little     5.776716\n",
      "\n",
      "-Top 20 negative-\n",
      "         Word  Coefficient\n",
      "unfortunately    -6.741721\n",
      "      garbage    -6.820078\n",
      "    worthless    -6.888681\n",
      "       refund    -7.027667\n",
      "        waste    -7.084596\n",
      "      cheaply    -7.097450\n",
      "        worse    -7.208695\n",
      "  waste money    -7.224186\n",
      "         poor    -8.198645\n",
      "        awful    -8.225130\n",
      "     horrible    -8.340215\n",
      "     terrible    -8.585627\n",
      "        worst    -8.614602\n",
      "     returned    -8.925606\n",
      "        broke    -9.161872\n",
      "      useless    -9.218669\n",
      "    returning    -9.259018\n",
      "disappointing    -9.995300\n",
      "       return   -10.826808\n",
      " disappointed   -13.693422\n"
     ]
    }
   ],
   "source": [
    "tfidf_n = TfidfVectorizer(ngram_range=(1,2), stop_words = 'english')\n",
    "text_fit(X, y, tfidf_n, LogisticRegression())"
   ]
  },
  {
   "cell_type": "markdown",
   "id": "56d92894-ab1a-473c-b7f0-e84163acf0b6",
   "metadata": {},
   "source": [
    "## Usage of select percentile\n",
    "- f_classif for classification tasks (ANOVA F-value between label/feature)\n",
    "- Selecting only the most relevant features, it significantly reduces the dimensionality.\n",
    "- Reduces overfitting, as the model will focus on the most informative features.\n",
    "- Eliminating features that do not contribute significantly to the prediction, reduces the noise in the dataset; leads to better generalization on unseen data."
   ]
  },
  {
   "cell_type": "code",
   "execution_count": 174,
   "id": "039f6880-45ff-4a15-b4c5-41256abd1cb5",
   "metadata": {},
   "outputs": [],
   "source": [
    "def text_fit_v2(X, y, model, clf_model, select_percentile_value, coef_show=1):\n",
    "    X_c = model.fit_transform(X)\n",
    "    print('# features before applying select percentile: {}'.format(X_c.shape[1]))\n",
    "    select_percentile = SelectPercentile(score_func=f_classif, percentile=select_percentile_value)\n",
    "    X_transformed = select_percentile.fit_transform(X_c, y)\n",
    "    print('# features after applying select percentile: {}'.format(X_transformed.shape[1]))\n",
    "    X_train, X_test, y_train, y_test = train_test_split(X_transformed, y, random_state=0)\n",
    "    print('# train records: {}'.format(X_train.shape[0]))\n",
    "    print('# test records: {}'.format(X_test.shape[0]))\n",
    "    clf = clf_model.fit(X_train, y_train)\n",
    "    y_pred = clf.predict(X_test)\n",
    "    recall = recall_score(y_test,y_pred)\n",
    "    print ('Model Recall: {}'.format(recall))\n",
    "    if coef_show == 1:\n",
    "        idx = np.arange(0, X_c.shape[1])  #create an index array\n",
    "        features_to_keep = idx[select_percentile.get_support() == True]\n",
    "        cols = np.array(list(model.vocabulary_.keys()))\n",
    "        w = cols[features_to_keep]\n",
    "        coef = clf.coef_.tolist()[0]\n",
    "        coeff_df = pd.DataFrame({'Word' : w, 'Coefficient' : coef})\n",
    "        coeff_df = coeff_df.sort_values(['Coefficient', 'Word'], ascending=[0, 1])\n",
    "        print('')\n",
    "        print('-Top 20 positive-')\n",
    "        print(coeff_df.head(20).to_string(index=False))\n",
    "        print('')\n",
    "        print('-Top 20 negative-')        \n",
    "        print(coeff_df.tail(20).to_string(index=False))"
   ]
  },
  {
   "cell_type": "code",
   "execution_count": 175,
   "id": "feadda03-d7ab-4cc2-968f-1b6a6f3f9216",
   "metadata": {
    "scrolled": true
   },
   "outputs": [
    {
     "name": "stdout",
     "output_type": "stream",
     "text": [
      "# features before applying select percentile: 2094230\n",
      "# features after applying select percentile: 523558\n",
      "# train records: 344600\n",
      "# test records: 114867\n",
      "Model Recall: 0.9913190518792335\n",
      "\n",
      "-Top 20 positive-\n",
      "              Word  Coefficient\n",
      "           cup wet    19.250177\n",
      "maintenance handle    19.069580\n",
      "  warning changing    13.991996\n",
      "       refill case    11.301078\n",
      "     packaging bit    11.055063\n",
      "       note curved    10.902527\n",
      "     board adheres    10.157418\n",
      "     day operation     9.845873\n",
      "alternative liquid     9.409635\n",
      "      photocopying     9.146263\n",
      "         taste vet     8.856372\n",
      "         tried yes     8.548227\n",
      "        lift blend     7.746736\n",
      "  addition keeping     7.647802\n",
      "       unprotected     7.356745\n",
      "       bolt refuse     7.122232\n",
      "   second valterra     6.940886\n",
      "     cheaper major     6.939009\n",
      "    able container     6.710632\n",
      "        added soil     6.548490\n",
      "\n",
      "-Top 20 negative-\n",
      "                 Word  Coefficient\n",
      "      purposeof using    -7.278439\n",
      "    pancreatitis food    -7.311750\n",
      "             poke cut    -7.386275\n",
      "endorsement necessary    -7.631109\n",
      "         wonder chock    -7.799644\n",
      "    mixing experience    -7.853735\n",
      "                ca rv    -7.919582\n",
      " recommeded excellent    -8.115278\n",
      "       wrapping salad    -8.290559\n",
      "             tall mix    -9.023323\n",
      "        away humidity    -9.036246\n",
      "          people need    -9.374329\n",
      "    nutrition perfect    -9.598389\n",
      "        notebook seen    -9.632263\n",
      "        flimsy sloppy    -9.699141\n",
      "       wrong creative   -10.162459\n",
      "          squirt kong   -10.389077\n",
      "        oldest stroke   -10.522343\n",
      "        trendy herbal   -11.228645\n",
      "             die wrmk   -12.960454\n"
     ]
    }
   ],
   "source": [
    "tfidf_n = TfidfVectorizer(ngram_range=(1, 2), stop_words = 'english')\n",
    "text_fit_v2(X, y, tfidf_n, LogisticRegression(), 25, 1)"
   ]
  },
  {
   "cell_type": "code",
   "execution_count": 176,
   "id": "b9614ca4",
   "metadata": {},
   "outputs": [
    {
     "data": {
      "text/plain": [
       "55116    1.0\n",
       "55117    0.0\n",
       "55118    1.0\n",
       "Name: sentiment, dtype: float64"
      ]
     },
     "execution_count": 176,
     "metadata": {},
     "output_type": "execute_result"
    }
   ],
   "source": [
    "y.head(3)"
   ]
  },
  {
   "cell_type": "code",
   "execution_count": 177,
   "id": "188feee8",
   "metadata": {},
   "outputs": [],
   "source": [
    "reviews = []\n",
    "sentiments = []\n",
    "\n",
    "reviews = X\n",
    "sentiments = y\n",
    "sentiments = np.array(list(map(lambda x: 1 if x==1 else 0, sentiments)))"
   ]
  },
  {
   "cell_type": "code",
   "execution_count": 178,
   "id": "08e0373f",
   "metadata": {},
   "outputs": [
    {
     "name": "stdout",
     "output_type": "stream",
     "text": [
      "[1 0 1 ... 1 1 1]\n"
     ]
    }
   ],
   "source": [
    "print(sentiments)"
   ]
  },
  {
   "cell_type": "code",
   "execution_count": 179,
   "id": "a480f086",
   "metadata": {},
   "outputs": [
    {
     "data": {
      "text/plain": [
       "(459467, 459467)"
      ]
     },
     "execution_count": 179,
     "metadata": {},
     "output_type": "execute_result"
    }
   ],
   "source": [
    "len(reviews), len(sentiments)"
   ]
  },
  {
   "cell_type": "code",
   "execution_count": 180,
   "id": "08e0373f",
   "metadata": {},
   "outputs": [],
   "source": [
    "X_train, X_test, y_train, y_test = train_test_split(reviews, sentiments, \n",
    "                                                test_size=0.20, random_state=42)"
   ]
  },
  {
   "cell_type": "code",
   "execution_count": 181,
   "id": "2f6d1c23",
   "metadata": {},
   "outputs": [],
   "source": [
    "word_tokenizer = Tokenizer()\n",
    "word_tokenizer.fit_on_texts(X_train)\n",
    "\n",
    "X_train = word_tokenizer.texts_to_sequences(X_train)\n",
    "X_test = word_tokenizer.texts_to_sequences(X_test)"
   ]
  },
  {
   "cell_type": "code",
   "execution_count": 182,
   "id": "a2017da2",
   "metadata": {},
   "outputs": [],
   "source": [
    "tokenizer_json = word_tokenizer.to_json()\n",
    "with io.open('embedded.json', 'w', encoding = 'utf-8') as f:\n",
    "    f.write(json.dumps(tokenizer_json, ensure_ascii=False))"
   ]
  },
  {
   "cell_type": "code",
   "execution_count": 183,
   "id": "fd829971",
   "metadata": {},
   "outputs": [
    {
     "data": {
      "text/plain": [
       "57481"
      ]
     },
     "execution_count": 183,
     "metadata": {},
     "output_type": "execute_result"
    }
   ],
   "source": [
    "vocab_length = len(word_tokenizer.word_index) + 1\n",
    "vocab_length"
   ]
  },
  {
   "cell_type": "code",
   "execution_count": 184,
   "id": "aa6fc80b",
   "metadata": {},
   "outputs": [],
   "source": [
    "maxlen = 100\n",
    "\n",
    "X_train = pad_sequences(X_train, padding='post', maxlen=maxlen)\n",
    "X_test = pad_sequences(X_test, padding='post', maxlen=maxlen)"
   ]
  },
  {
   "cell_type": "code",
   "execution_count": 185,
   "id": "b986ca0b",
   "metadata": {},
   "outputs": [],
   "source": [
    "from numpy import asarray\n",
    "from numpy import zeros\n",
    "\n",
    "embeddings_dictionary = dict()\n",
    "glove_file = open('glove.6B.100d.txt', encoding=\"utf8\")\n",
    "\n",
    "for line in glove_file:\n",
    "    records = line.split()\n",
    "    word = records[0]\n",
    "    vector_dimensions = asarray(records[1:], dtype='float32')\n",
    "    embeddings_dictionary [word] = vector_dimensions\n",
    "glove_file.close()"
   ]
  },
  {
   "cell_type": "code",
   "execution_count": 186,
   "id": "8e93f858",
   "metadata": {},
   "outputs": [],
   "source": [
    "embedding_matrix = zeros((vocab_length, 100))\n",
    "for word, index in word_tokenizer.word_index.items():\n",
    "    embedding_vector = embeddings_dictionary.get(word)\n",
    "    if embedding_vector is not None:\n",
    "        embedding_matrix[index] = embedding_vector"
   ]
  },
  {
   "cell_type": "code",
   "execution_count": 187,
   "id": "ba7ddf67",
   "metadata": {},
   "outputs": [
    {
     "data": {
      "text/plain": [
       "(57481, 100)"
      ]
     },
     "execution_count": 187,
     "metadata": {},
     "output_type": "execute_result"
    }
   ],
   "source": [
    "embedding_matrix.shape"
   ]
  },
  {
   "cell_type": "code",
   "execution_count": 188,
   "id": "e5d86c8c",
   "metadata": {},
   "outputs": [],
   "source": [
    "from keras.layers import LSTM"
   ]
  },
  {
   "cell_type": "code",
   "execution_count": 189,
   "id": "06ad3f88",
   "metadata": {},
   "outputs": [
    {
     "name": "stderr",
     "output_type": "stream",
     "text": [
      "c:\\Users\\kaila\\AppData\\Local\\Programs\\Python\\Python312\\Lib\\site-packages\\keras\\src\\layers\\core\\embedding.py:90: UserWarning: Argument `input_length` is deprecated. Just remove it.\n",
      "  warnings.warn(\n"
     ]
    }
   ],
   "source": [
    "lstm_model = Sequential()\n",
    "embedding_layer = Embedding(vocab_length, 100, weights=[embedding_matrix], \n",
    "                    input_length=100, trainable=False)\n",
    "\n",
    "lstm_model.add(embedding_layer)\n",
    "lstm_model.add(LSTM(128))\n",
    "\n",
    "lstm_model.add(Dense(1, activation='sigmoid'))"
   ]
  },
  {
   "cell_type": "code",
   "execution_count": 190,
   "id": "37680107",
   "metadata": {},
   "outputs": [],
   "source": [
    "lstm_model.compile(optimizer='adam', loss='binary_crossentropy', \n",
    "                    metrics=['acc'])"
   ]
  },
  {
   "cell_type": "code",
   "execution_count": 191,
   "id": "a6f6f66e",
   "metadata": {},
   "outputs": [
    {
     "name": "stdout",
     "output_type": "stream",
     "text": [
      "Epoch 1/7\n",
      "\u001b[1m2298/2298\u001b[0m \u001b[32m━━━━━━━━━━━━━━━━━━━━\u001b[0m\u001b[37m\u001b[0m \u001b[1m255s\u001b[0m 110ms/step - acc: 0.8864 - loss: 0.3587 - val_acc: 0.8854 - val_loss: 0.3555\n",
      "Epoch 2/7\n",
      "\u001b[1m2298/2298\u001b[0m \u001b[32m━━━━━━━━━━━━━━━━━━━━\u001b[0m\u001b[37m\u001b[0m \u001b[1m253s\u001b[0m 110ms/step - acc: 0.8881 - loss: 0.3491 - val_acc: 0.8853 - val_loss: 0.3562\n",
      "Epoch 3/7\n",
      "\u001b[1m2298/2298\u001b[0m \u001b[32m━━━━━━━━━━━━━━━━━━━━\u001b[0m\u001b[37m\u001b[0m \u001b[1m259s\u001b[0m 113ms/step - acc: 0.8884 - loss: 0.3498 - val_acc: 0.8854 - val_loss: 0.3557\n",
      "Epoch 4/7\n",
      "\u001b[1m2298/2298\u001b[0m \u001b[32m━━━━━━━━━━━━━━━━━━━━\u001b[0m\u001b[37m\u001b[0m \u001b[1m260s\u001b[0m 113ms/step - acc: 0.8892 - loss: 0.3409 - val_acc: 0.9152 - val_loss: 0.2231\n",
      "Epoch 5/7\n",
      "\u001b[1m2298/2298\u001b[0m \u001b[32m━━━━━━━━━━━━━━━━━━━━\u001b[0m\u001b[37m\u001b[0m \u001b[1m260s\u001b[0m 113ms/step - acc: 0.9203 - loss: 0.2059 - val_acc: 0.9290 - val_loss: 0.1832\n",
      "Epoch 6/7\n",
      "\u001b[1m2298/2298\u001b[0m \u001b[32m━━━━━━━━━━━━━━━━━━━━\u001b[0m\u001b[37m\u001b[0m \u001b[1m260s\u001b[0m 113ms/step - acc: 0.9336 - loss: 0.1736 - val_acc: 0.9337 - val_loss: 0.1696\n",
      "Epoch 7/7\n",
      "\u001b[1m2298/2298\u001b[0m \u001b[32m━━━━━━━━━━━━━━━━━━━━\u001b[0m\u001b[37m\u001b[0m \u001b[1m261s\u001b[0m 114ms/step - acc: 0.9384 - loss: 0.1591 - val_acc: 0.9372 - val_loss: 0.1678\n"
     ]
    }
   ],
   "source": [
    "lstm_model_history = lstm_model.fit(X_train, y_train, batch_size=128, epochs=7, \n",
    "                                        verbose=1,validation_split=0.2)"
   ]
  },
  {
   "cell_type": "code",
   "execution_count": 192,
   "id": "a05d400d",
   "metadata": {},
   "outputs": [
    {
     "name": "stdout",
     "output_type": "stream",
     "text": [
      "\u001b[1m2872/2872\u001b[0m \u001b[32m━━━━━━━━━━━━━━━━━━━━\u001b[0m\u001b[37m\u001b[0m \u001b[1m52s\u001b[0m 18ms/step - acc: 0.9382 - loss: 0.1665\n"
     ]
    }
   ],
   "source": [
    "score = lstm_model.evaluate(X_test, y_test, verbose=1)"
   ]
  },
  {
   "cell_type": "code",
   "execution_count": 193,
   "id": "0e8d0200",
   "metadata": {},
   "outputs": [
    {
     "name": "stderr",
     "output_type": "stream",
     "text": [
      "WARNING:absl:The `save_format` argument is deprecated in Keras 3. We recommend removing this argument as it can be inferred from the file path. Received: save_format=h5\n",
      "WARNING:absl:You are saving your model as an HDF5 file via `model.save()` or `keras.saving.save_model(model)`. This file format is considered legacy. We recommend using instead the native Keras format, e.g. `model.save('my_model.keras')` or `keras.saving.save_model(model, 'my_model.keras')`. \n"
     ]
    }
   ],
   "source": [
    "lstm_model.save(f\"lstm_model.h5\", save_format='h5')"
   ]
  },
  {
   "cell_type": "code",
   "execution_count": 194,
   "id": "9eb7dc2a",
   "metadata": {},
   "outputs": [
    {
     "data": {
      "image/png": "[encoded data removed]",
      "text/plain": [
       "<Figure size 640x480 with 1 Axes>"
      ]
     },
     "metadata": {},
     "output_type": "display_data"
    },
    {
     "data": {
      "image/png": "[encoded data removed]",
      "text/plain": [
       "<Figure size 640x480 with 1 Axes>"
      ]
     },
     "metadata": {},
     "output_type": "display_data"
    }
   ],
   "source": [
    "import matplotlib.pyplot as plt\n",
    "\n",
    "plt.plot(lstm_model_history.history['acc'])\n",
    "plt.plot(lstm_model_history.history['val_acc'])\n",
    "\n",
    "plt.title('model accuracy')\n",
    "plt.ylabel('accuracy')\n",
    "plt.xlabel('epoch')\n",
    "plt.legend(['train','test'], loc='upper left')\n",
    "plt.show()\n",
    "\n",
    "plt.plot(lstm_model_history.history['loss'])\n",
    "plt.plot(lstm_model_history.history['val_loss'])\n",
    "\n",
    "plt.title('model loss')\n",
    "plt.ylabel('loss')\n",
    "plt.xlabel('epoch')\n",
    "plt.legend(['train','test'], loc='upper left')\n",
    "plt.show()"
   ]
  },
  {
   "cell_type": "code",
   "execution_count": 195,
   "id": "d7c8041b",
   "metadata": {},
   "outputs": [
    {
     "name": "stderr",
     "output_type": "stream",
     "text": [
      "WARNING:absl:Compiled the loaded model, but the compiled metrics have yet to be built. `model.compile_metrics` will be empty until you train or evaluate the model.\n"
     ]
    },
    {
     "data": {
      "text/html": [
       "<pre style=\"white-space:pre;overflow-x:auto;line-height:normal;font-family:Menlo,'DejaVu Sans Mono',consolas,'Courier New',monospace\"><span style=\"font-weight: bold\">Model: \"sequential_1\"</span>\n",
       "</pre>\n"
      ],
      "text/plain": [
       "\u001b[1mModel: \"sequential_1\"\u001b[0m\n"
      ]
     },
     "metadata": {},
     "output_type": "display_data"
    },
    {
     "data": {
      "text/html": [
       "<pre style=\"white-space:pre;overflow-x:auto;line-height:normal;font-family:Menlo,'DejaVu Sans Mono',consolas,'Courier New',monospace\">┏━━━━━━━━━━━━━━━━━━━━━━━━━━━━━━━━━┳━━━━━━━━━━━━━━━━━━━━━━━━┳━━━━━━━━━━━━━━━┓\n",
       "┃<span style=\"font-weight: bold\"> Layer (type)                    </span>┃<span style=\"font-weight: bold\"> Output Shape           </span>┃<span style=\"font-weight: bold\">       Param # </span>┃\n",
       "┡━━━━━━━━━━━━━━━━━━━━━━━━━━━━━━━━━╇━━━━━━━━━━━━━━━━━━━━━━━━╇━━━━━━━━━━━━━━━┩\n",
       "│ embedding_1 (<span style=\"color: #0087ff; text-decoration-color: #0087ff\">Embedding</span>)         │ (<span style=\"color: #00d7ff; text-decoration-color: #00d7ff\">None</span>, <span style=\"color: #00af00; text-decoration-color: #00af00\">100</span>, <span style=\"color: #00af00; text-decoration-color: #00af00\">100</span>)       │     <span style=\"color: #00af00; text-decoration-color: #00af00\">5,748,100</span> │\n",
       "├─────────────────────────────────┼────────────────────────┼───────────────┤\n",
       "│ lstm_1 (<span style=\"color: #0087ff; text-decoration-color: #0087ff\">LSTM</span>)                   │ (<span style=\"color: #00d7ff; text-decoration-color: #00d7ff\">None</span>, <span style=\"color: #00af00; text-decoration-color: #00af00\">128</span>)            │       <span style=\"color: #00af00; text-decoration-color: #00af00\">117,248</span> │\n",
       "├─────────────────────────────────┼────────────────────────┼───────────────┤\n",
       "│ dense_1 (<span style=\"color: #0087ff; text-decoration-color: #0087ff\">Dense</span>)                 │ (<span style=\"color: #00d7ff; text-decoration-color: #00d7ff\">None</span>, <span style=\"color: #00af00; text-decoration-color: #00af00\">1</span>)              │           <span style=\"color: #00af00; text-decoration-color: #00af00\">129</span> │\n",
       "└─────────────────────────────────┴────────────────────────┴───────────────┘\n",
       "</pre>\n"
      ],
      "text/plain": [
       "┏━━━━━━━━━━━━━━━━━━━━━━━━━━━━━━━━━┳━━━━━━━━━━━━━━━━━━━━━━━━┳━━━━━━━━━━━━━━━┓\n",
       "┃\u001b[1m \u001b[0m\u001b[1mLayer (type)                   \u001b[0m\u001b[1m \u001b[0m┃\u001b[1m \u001b[0m\u001b[1mOutput Shape          \u001b[0m\u001b[1m \u001b[0m┃\u001b[1m \u001b[0m\u001b[1m      Param #\u001b[0m\u001b[1m \u001b[0m┃\n",
       "┡━━━━━━━━━━━━━━━━━━━━━━━━━━━━━━━━━╇━━━━━━━━━━━━━━━━━━━━━━━━╇━━━━━━━━━━━━━━━┩\n",
       "│ embedding_1 (\u001b[38;5;33mEmbedding\u001b[0m)         │ (\u001b[38;5;45mNone\u001b[0m, \u001b[38;5;34m100\u001b[0m, \u001b[38;5;34m100\u001b[0m)       │     \u001b[38;5;34m5,748,100\u001b[0m │\n",
       "├─────────────────────────────────┼────────────────────────┼───────────────┤\n",
       "│ lstm_1 (\u001b[38;5;33mLSTM\u001b[0m)                   │ (\u001b[38;5;45mNone\u001b[0m, \u001b[38;5;34m128\u001b[0m)            │       \u001b[38;5;34m117,248\u001b[0m │\n",
       "├─────────────────────────────────┼────────────────────────┼───────────────┤\n",
       "│ dense_1 (\u001b[38;5;33mDense\u001b[0m)                 │ (\u001b[38;5;45mNone\u001b[0m, \u001b[38;5;34m1\u001b[0m)              │           \u001b[38;5;34m129\u001b[0m │\n",
       "└─────────────────────────────────┴────────────────────────┴───────────────┘\n"
      ]
     },
     "metadata": {},
     "output_type": "display_data"
    },
    {
     "data": {
      "text/html": [
       "<pre style=\"white-space:pre;overflow-x:auto;line-height:normal;font-family:Menlo,'DejaVu Sans Mono',consolas,'Courier New',monospace\"><span style=\"font-weight: bold\"> Total params: </span><span style=\"color: #00af00; text-decoration-color: #00af00\">5,865,479</span> (22.38 MB)\n",
       "</pre>\n"
      ],
      "text/plain": [
       "\u001b[1m Total params: \u001b[0m\u001b[38;5;34m5,865,479\u001b[0m (22.38 MB)\n"
      ]
     },
     "metadata": {},
     "output_type": "display_data"
    },
    {
     "data": {
      "text/html": [
       "<pre style=\"white-space:pre;overflow-x:auto;line-height:normal;font-family:Menlo,'DejaVu Sans Mono',consolas,'Courier New',monospace\"><span style=\"font-weight: bold\"> Trainable params: </span><span style=\"color: #00af00; text-decoration-color: #00af00\">117,377</span> (458.50 KB)\n",
       "</pre>\n"
      ],
      "text/plain": [
       "\u001b[1m Trainable params: \u001b[0m\u001b[38;5;34m117,377\u001b[0m (458.50 KB)\n"
      ]
     },
     "metadata": {},
     "output_type": "display_data"
    },
    {
     "data": {
      "text/html": [
       "<pre style=\"white-space:pre;overflow-x:auto;line-height:normal;font-family:Menlo,'DejaVu Sans Mono',consolas,'Courier New',monospace\"><span style=\"font-weight: bold\"> Non-trainable params: </span><span style=\"color: #00af00; text-decoration-color: #00af00\">5,748,100</span> (21.93 MB)\n",
       "</pre>\n"
      ],
      "text/plain": [
       "\u001b[1m Non-trainable params: \u001b[0m\u001b[38;5;34m5,748,100\u001b[0m (21.93 MB)\n"
      ]
     },
     "metadata": {},
     "output_type": "display_data"
    },
    {
     "data": {
      "text/html": [
       "<pre style=\"white-space:pre;overflow-x:auto;line-height:normal;font-family:Menlo,'DejaVu Sans Mono',consolas,'Courier New',monospace\"><span style=\"font-weight: bold\"> Optimizer params: </span><span style=\"color: #00af00; text-decoration-color: #00af00\">2</span> (12.00 B)\n",
       "</pre>\n"
      ],
      "text/plain": [
       "\u001b[1m Optimizer params: \u001b[0m\u001b[38;5;34m2\u001b[0m (12.00 B)\n"
      ]
     },
     "metadata": {},
     "output_type": "display_data"
    }
   ],
   "source": [
    "from keras.models import load_model\n",
    "\n",
    "model_path = 'lstm_model.h5'\n",
    "pretrained_lstm_model = load_model(model_path)\n",
    "pretrained_lstm_model.summary()"
   ]
  },
  {
   "cell_type": "code",
   "execution_count": 196,
   "id": "9b9009ba",
   "metadata": {},
   "outputs": [
    {
     "data": {
      "text/html": [
       "<div>\n",
       "<style scoped>\n",
       "    .dataframe tbody tr th:only-of-type {\n",
       "        vertical-align: middle;\n",
       "    }\n",
       "\n",
       "    .dataframe tbody tr th {\n",
       "        vertical-align: top;\n",
       "    }\n",
       "\n",
       "    .dataframe thead th {\n",
       "        text-align: right;\n",
       "    }\n",
       "</style>\n",
       "<table border=\"1\" class=\"dataframe\">\n",
       "  <thead>\n",
       "    <tr style=\"text-align: right;\">\n",
       "      <th></th>\n",
       "      <th>userName</th>\n",
       "      <th>verified</th>\n",
       "      <th>itemName</th>\n",
       "      <th>description</th>\n",
       "      <th>image</th>\n",
       "      <th>brand</th>\n",
       "      <th>feature</th>\n",
       "      <th>category</th>\n",
       "      <th>price</th>\n",
       "      <th>rating</th>\n",
       "      <th>reviewTime</th>\n",
       "      <th>summary</th>\n",
       "      <th>reviewText</th>\n",
       "      <th>vote</th>\n",
       "    </tr>\n",
       "  </thead>\n",
       "  <tbody>\n",
       "    <tr>\n",
       "      <th>0</th>\n",
       "      <td>Amazon Customer</td>\n",
       "      <td>True</td>\n",
       "      <td>Toblerone Swiss Milk Chocolate Bar, Crunchy Sa...</td>\n",
       "      <td>[\"Made from deliciously decadent ingredients, ...</td>\n",
       "      <td>['https://images-na.ssl-images-amazon.com/imag...</td>\n",
       "      <td>Toblerone</td>\n",
       "      <td>[]</td>\n",
       "      <td>Prime_Pantry</td>\n",
       "      <td>$1.63</td>\n",
       "      <td>5.0</td>\n",
       "      <td>2018-01-01</td>\n",
       "      <td>Five Stars</td>\n",
       "      <td>super smooth and yummy with crunchy bits</td>\n",
       "      <td>0</td>\n",
       "    </tr>\n",
       "    <tr>\n",
       "      <th>1</th>\n",
       "      <td>Carla</td>\n",
       "      <td>True</td>\n",
       "      <td>Prince of Peace Organic Tea, Oolong, 100 Tea Bags</td>\n",
       "      <td>['Prince of Peace Enterprises, Inc., founded i...</td>\n",
       "      <td>['https://images-na.ssl-images-amazon.com/imag...</td>\n",
       "      <td>Prince Of Peace</td>\n",
       "      <td>[]</td>\n",
       "      <td>Grocery_and_Gourmet_Food</td>\n",
       "      <td>$6.40</td>\n",
       "      <td>5.0</td>\n",
       "      <td>2018-01-01</td>\n",
       "      <td>Five Stars</td>\n",
       "      <td>Perfect for kombucha</td>\n",
       "      <td>0</td>\n",
       "    </tr>\n",
       "  </tbody>\n",
       "</table>\n",
       "</div>"
      ],
      "text/plain": [
       "          userName  verified  \\\n",
       "0  Amazon Customer      True   \n",
       "1            Carla      True   \n",
       "\n",
       "                                            itemName  \\\n",
       "0  Toblerone Swiss Milk Chocolate Bar, Crunchy Sa...   \n",
       "1  Prince of Peace Organic Tea, Oolong, 100 Tea Bags   \n",
       "\n",
       "                                         description  \\\n",
       "0  [\"Made from deliciously decadent ingredients, ...   \n",
       "1  ['Prince of Peace Enterprises, Inc., founded i...   \n",
       "\n",
       "                                               image            brand feature  \\\n",
       "0  ['https://images-na.ssl-images-amazon.com/imag...        Toblerone      []   \n",
       "1  ['https://images-na.ssl-images-amazon.com/imag...  Prince Of Peace      []   \n",
       "\n",
       "                   category  price  rating  reviewTime     summary  \\\n",
       "0              Prime_Pantry  $1.63     5.0  2018-01-01  Five Stars   \n",
       "1  Grocery_and_Gourmet_Food  $6.40     5.0  2018-01-01  Five Stars   \n",
       "\n",
       "                                 reviewText  vote  \n",
       "0  super smooth and yummy with crunchy bits     0  \n",
       "1                      Perfect for kombucha     0  "
      ]
     },
     "execution_count": 196,
     "metadata": {},
     "output_type": "execute_result"
    }
   ],
   "source": [
    "testing_set.head(2)"
   ]
  },
  {
   "cell_type": "code",
   "execution_count": 197,
   "id": "8b00eed6",
   "metadata": {},
   "outputs": [],
   "source": [
    "unseen_reviews = testing_set['reviewText']\n",
    "unseen_cleaned = unseen_reviews.apply(clean_text)"
   ]
  },
  {
   "cell_type": "code",
   "execution_count": 198,
   "id": "616c5e7b",
   "metadata": {},
   "outputs": [],
   "source": [
    "with open('embedded.json') as f:\n",
    "    data = json.load(f)\n",
    "    loaded_tokenizer = tokenizer_from_json(data)"
   ]
  },
  {
   "cell_type": "code",
   "execution_count": 199,
   "id": "04093032",
   "metadata": {},
   "outputs": [],
   "source": [
    "unseen_tokenized = loaded_tokenizer.texts_to_sequences(unseen_cleaned)\n",
    "# unseen_tokenized"
   ]
  },
  {
   "cell_type": "code",
   "execution_count": 200,
   "id": "8ad1c2d5",
   "metadata": {},
   "outputs": [],
   "source": [
    "unseen_padded = pad_sequences(unseen_tokenized, padding='post', maxlen=100)\n",
    "# unseen_padded"
   ]
  },
  {
   "cell_type": "code",
   "execution_count": 201,
   "id": "889658a9",
   "metadata": {},
   "outputs": [
    {
     "name": "stdout",
     "output_type": "stream",
     "text": [
      "\u001b[1m1723/1723\u001b[0m \u001b[32m━━━━━━━━━━━━━━━━━━━━\u001b[0m\u001b[37m\u001b[0m \u001b[1m29s\u001b[0m 17ms/step\n"
     ]
    }
   ],
   "source": [
    "unseen_sentiments = pretrained_lstm_model.predict(unseen_padded)\n",
    "# unseen_sentiments"
   ]
  },
  {
   "cell_type": "code",
   "execution_count": 202,
   "id": "6c725f8f",
   "metadata": {},
   "outputs": [
    {
     "data": {
      "text/html": [
       "<div>\n",
       "<style scoped>\n",
       "    .dataframe tbody tr th:only-of-type {\n",
       "        vertical-align: middle;\n",
       "    }\n",
       "\n",
       "    .dataframe tbody tr th {\n",
       "        vertical-align: top;\n",
       "    }\n",
       "\n",
       "    .dataframe thead th {\n",
       "        text-align: right;\n",
       "    }\n",
       "</style>\n",
       "<table border=\"1\" class=\"dataframe\">\n",
       "  <thead>\n",
       "    <tr style=\"text-align: right;\">\n",
       "      <th></th>\n",
       "      <th>userName</th>\n",
       "      <th>verified</th>\n",
       "      <th>itemName</th>\n",
       "      <th>description</th>\n",
       "      <th>image</th>\n",
       "      <th>brand</th>\n",
       "      <th>feature</th>\n",
       "      <th>category</th>\n",
       "      <th>price</th>\n",
       "      <th>rating</th>\n",
       "      <th>reviewTime</th>\n",
       "      <th>summary</th>\n",
       "      <th>reviewText</th>\n",
       "      <th>vote</th>\n",
       "    </tr>\n",
       "  </thead>\n",
       "  <tbody>\n",
       "    <tr>\n",
       "      <th>0</th>\n",
       "      <td>Amazon Customer</td>\n",
       "      <td>True</td>\n",
       "      <td>Toblerone Swiss Milk Chocolate Bar, Crunchy Sa...</td>\n",
       "      <td>[\"Made from deliciously decadent ingredients, ...</td>\n",
       "      <td>['https://images-na.ssl-images-amazon.com/imag...</td>\n",
       "      <td>Toblerone</td>\n",
       "      <td>[]</td>\n",
       "      <td>Prime_Pantry</td>\n",
       "      <td>$1.63</td>\n",
       "      <td>5.0</td>\n",
       "      <td>2018-01-01</td>\n",
       "      <td>Five Stars</td>\n",
       "      <td>super smooth and yummy with crunchy bits</td>\n",
       "      <td>0</td>\n",
       "    </tr>\n",
       "  </tbody>\n",
       "</table>\n",
       "</div>"
      ],
      "text/plain": [
       "          userName  verified  \\\n",
       "0  Amazon Customer      True   \n",
       "\n",
       "                                            itemName  \\\n",
       "0  Toblerone Swiss Milk Chocolate Bar, Crunchy Sa...   \n",
       "\n",
       "                                         description  \\\n",
       "0  [\"Made from deliciously decadent ingredients, ...   \n",
       "\n",
       "                                               image      brand feature  \\\n",
       "0  ['https://images-na.ssl-images-amazon.com/imag...  Toblerone      []   \n",
       "\n",
       "       category  price  rating  reviewTime     summary  \\\n",
       "0  Prime_Pantry  $1.63     5.0  2018-01-01  Five Stars   \n",
       "\n",
       "                                 reviewText  vote  \n",
       "0  super smooth and yummy with crunchy bits     0  "
      ]
     },
     "execution_count": 202,
     "metadata": {},
     "output_type": "execute_result"
    }
   ],
   "source": [
    "testing_set.head(1)"
   ]
  },
  {
   "cell_type": "code",
   "execution_count": 207,
   "id": "c87921ce",
   "metadata": {},
   "outputs": [
    {
     "name": "stderr",
     "output_type": "stream",
     "text": [
      "C:\\Users\\kaila\\AppData\\Local\\Temp\\ipykernel_24140\\1225237112.py:2: SettingWithCopyWarning: \n",
      "A value is trying to be set on a copy of a slice from a DataFrame.\n",
      "Try using .loc[row_indexer,col_indexer] = value instead\n",
      "\n",
      "See the caveats in the documentation: https://pandas.pydata.org/pandas-docs/stable/user_guide/indexing.html#returning-a-view-versus-a-copy\n",
      "  testing_set[\"predictedRating\"] = np.round(unseen_sentiments * 5, 1)\n"
     ]
    },
    {
     "data": {
      "text/html": [
       "<div>\n",
       "<style scoped>\n",
       "    .dataframe tbody tr th:only-of-type {\n",
       "        vertical-align: middle;\n",
       "    }\n",
       "\n",
       "    .dataframe tbody tr th {\n",
       "        vertical-align: top;\n",
       "    }\n",
       "\n",
       "    .dataframe thead th {\n",
       "        text-align: right;\n",
       "    }\n",
       "</style>\n",
       "<table border=\"1\" class=\"dataframe\">\n",
       "  <thead>\n",
       "    <tr style=\"text-align: right;\">\n",
       "      <th></th>\n",
       "      <th>userName</th>\n",
       "      <th>itemName</th>\n",
       "      <th>category</th>\n",
       "      <th>price</th>\n",
       "      <th>rating</th>\n",
       "      <th>predictedRating</th>\n",
       "    </tr>\n",
       "  </thead>\n",
       "  <tbody>\n",
       "    <tr>\n",
       "      <th>0</th>\n",
       "      <td>Amazon Customer</td>\n",
       "      <td>Toblerone Swiss Milk Chocolate Bar, Crunchy Sa...</td>\n",
       "      <td>Prime_Pantry</td>\n",
       "      <td>$1.63</td>\n",
       "      <td>5.0</td>\n",
       "      <td>5.0</td>\n",
       "    </tr>\n",
       "    <tr>\n",
       "      <th>1</th>\n",
       "      <td>Carla</td>\n",
       "      <td>Prince of Peace Organic Tea, Oolong, 100 Tea Bags</td>\n",
       "      <td>Grocery_and_Gourmet_Food</td>\n",
       "      <td>$6.40</td>\n",
       "      <td>5.0</td>\n",
       "      <td>5.0</td>\n",
       "    </tr>\n",
       "  </tbody>\n",
       "</table>\n",
       "</div>"
      ],
      "text/plain": [
       "          userName                                           itemName  \\\n",
       "0  Amazon Customer  Toblerone Swiss Milk Chocolate Bar, Crunchy Sa...   \n",
       "1            Carla  Prince of Peace Organic Tea, Oolong, 100 Tea Bags   \n",
       "\n",
       "                   category  price  rating  predictedRating  \n",
       "0              Prime_Pantry  $1.63     5.0              5.0  \n",
       "1  Grocery_and_Gourmet_Food  $6.40     5.0              5.0  "
      ]
     },
     "execution_count": 207,
     "metadata": {},
     "output_type": "execute_result"
    }
   ],
   "source": [
    "# testing_set[\"predictedSentiment\"] = np.round(unseen_sentiments*10, 1)\n",
    "testing_set[\"predictedRating\"] = np.round(unseen_sentiments * 5, 1)\n",
    "\n",
    "df_prediction_sentiments = pd.DataFrame(testing_set['predictedRating'], columns = ['predictedRating'])\n",
    "df_userName = pd.DataFrame(testing_set[\"userName\"], columns=[\"userName\"])\n",
    "df_itemName = pd.DataFrame(testing_set[\"itemName\"], columns=[\"itemName\"])\n",
    "df_category = pd.DataFrame(testing_set[\"category\"], columns=[\"category\"])\n",
    "df_price = pd.DataFrame(testing_set[\"price\"], columns=[\"price\"])\n",
    "df_rating = pd.DataFrame(testing_set[\"rating\"], columns=[\"rating\"])\n",
    "\n",
    "dfx = pd.concat([df_userName, df_itemName, \n",
    "                 df_category, df_price, \n",
    "                 df_rating, df_prediction_sentiments], axis=1)\n",
    "\n",
    "dfx.head(2)"
   ]
  },
  {
   "cell_type": "code",
   "execution_count": 208,
   "id": "1a4c8e29",
   "metadata": {},
   "outputs": [],
   "source": [
    "dfx.to_csv('predicted_sentiments.csv')"
   ]
  }
 ],
 "metadata": {
  "kernelspec": {
   "display_name": "Python 3",
   "language": "python",
   "name": "python3"
  },
  "language_info": {
   "codemirror_mode": {
    "name": "ipython",
    "version": 3
   },
   "file_extension": ".py",
   "mimetype": "text/x-python",
   "name": "python",
   "nbconvert_exporter": "python",
   "pygments_lexer": "ipython3",
   "version": "3.12.6"
  }
 },
 "nbformat": 4,
 "nbformat_minor": 5
}
