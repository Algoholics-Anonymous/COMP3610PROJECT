{
 "cells": [
  {
   "cell_type": "code",
   "execution_count": 113,
   "id": "228b28bf-d551-4376-9993-3a2b153d6afb",
   "metadata": {},
   "outputs": [
    {
     "name": "stdout",
     "output_type": "stream",
     "text": [
      "Requirement already satisfied: wordcloud in /home/gitpod/.pyenv/versions/3.9.10/lib/python3.9/site-packages (1.9.4)\n",
      "Requirement already satisfied: numpy>=1.6.1 in /workspace/.pyenv_mirror/user/current/lib/python3.9/site-packages (from wordcloud) (2.0.2)\n",
      "Requirement already satisfied: pillow in /workspace/.pyenv_mirror/user/current/lib/python3.9/site-packages (from wordcloud) (11.2.0)\n",
      "Requirement already satisfied: matplotlib in /workspace/.pyenv_mirror/user/current/lib/python3.9/site-packages (from wordcloud) (3.9.4)\n",
      "Requirement already satisfied: contourpy>=1.0.1 in /workspace/.pyenv_mirror/user/current/lib/python3.9/site-packages (from matplotlib->wordcloud) (1.3.0)\n",
      "Requirement already satisfied: cycler>=0.10 in /workspace/.pyenv_mirror/user/current/lib/python3.9/site-packages (from matplotlib->wordcloud) (0.12.1)\n",
      "Requirement already satisfied: fonttools>=4.22.0 in /workspace/.pyenv_mirror/user/current/lib/python3.9/site-packages (from matplotlib->wordcloud) (4.56.0)\n",
      "Requirement already satisfied: kiwisolver>=1.3.1 in /workspace/.pyenv_mirror/user/current/lib/python3.9/site-packages (from matplotlib->wordcloud) (1.4.7)\n",
      "Requirement already satisfied: packaging>=20.0 in /workspace/.pyenv_mirror/user/current/lib/python3.9/site-packages (from matplotlib->wordcloud) (24.2)\n",
      "Requirement already satisfied: pyparsing>=2.3.1 in /workspace/.pyenv_mirror/user/current/lib/python3.9/site-packages (from matplotlib->wordcloud) (3.2.3)\n",
      "Requirement already satisfied: python-dateutil>=2.7 in /workspace/.pyenv_mirror/user/current/lib/python3.9/site-packages (from matplotlib->wordcloud) (2.9.0.post0)\n",
      "Requirement already satisfied: importlib-resources>=3.2.0 in /workspace/.pyenv_mirror/user/current/lib/python3.9/site-packages (from matplotlib->wordcloud) (6.5.2)\n",
      "Requirement already satisfied: zipp>=3.1.0 in /workspace/.pyenv_mirror/user/current/lib/python3.9/site-packages (from importlib-resources>=3.2.0->matplotlib->wordcloud) (3.21.0)\n",
      "Requirement already satisfied: six>=1.5 in /workspace/.pyenv_mirror/user/current/lib/python3.9/site-packages (from python-dateutil>=2.7->matplotlib->wordcloud) (1.17.0)\n"
     ]
    }
   ],
   "source": [
    "import pandas as pd\n",
    "import numpy as np\n",
    "import matplotlib.pyplot as plt\n",
    "# import seaborn as sns\n",
    "# import string\n",
    "# from string import punctuation\n",
    "# from itertools import chain\n",
    "\n",
    "from sklearn.model_selection import train_test_split\n",
    "from sklearn.metrics import recall_score, f1_score\n",
    "\n",
    "from sklearn.feature_extraction.text import CountVectorizer\n",
    "from sklearn.feature_extraction.text import TfidfVectorizer\n",
    "from sklearn.linear_model import LogisticRegression\n",
    "from sklearn.decomposition import NMF, LatentDirichletAllocation, TruncatedSVD\n",
    "from sklearn.feature_selection import SelectPercentile, chi2, f_regression, f_classif\n",
    "\n",
    "# from sklearn import svm\n",
    "from sklearn.utils import shuffle\n",
    "\n",
    "import nltk\n",
    "# nltk.download('stopwords')\n",
    "from nltk.corpus import stopwords\n",
    "# from nltk.stem import WordNetLemmatizer\n",
    "# from nltk import ngrams\n",
    "\n",
    "import re\n",
    "import string\n",
    "import nltk\n",
    "from nltk.corpus import stopwords\n",
    "from nltk.tokenize import word_tokenize\n",
    "from nltk.stem import WordNetLemmatizer\n",
    "from nltk.corpus import wordnet\n",
    "import matplotlib.pyplot as plt\n",
    "import seaborn as sns\n",
    "! pip install wordcloud\n",
    "from wordcloud import WordCloud, STOPWORDS"
   ]
  },
  {
   "cell_type": "markdown",
   "id": "cd0c5565-9194-4c63-b648-e6477b48ecc9",
   "metadata": {},
   "source": [
    "## Loading dataset and exploration"
   ]
  },
  {
   "cell_type": "code",
   "execution_count": 114,
   "id": "f84977e7-b8e5-4d2c-9e5d-6004a3d57641",
   "metadata": {},
   "outputs": [],
   "source": [
    "df = pd.read_csv('AmazonReviews.csv')"
   ]
  },
  {
   "cell_type": "code",
   "execution_count": 115,
   "id": "425643a1-b14e-4cab-8a47-f02b1b844275",
   "metadata": {},
   "outputs": [
    {
     "data": {
      "text/plain": [
       "Index(['userName', 'verified', 'itemName', 'description', 'image', 'brand',\n",
       "       'feature', 'category', 'price', 'rating', 'reviewTime', 'summary',\n",
       "       'reviewText', 'vote'],\n",
       "      dtype='object')"
      ]
     },
     "execution_count": 115,
     "metadata": {},
     "output_type": "execute_result"
    }
   ],
   "source": [
    "df.columns"
   ]
  },
  {
   "cell_type": "code",
   "execution_count": 116,
   "id": "2ee91202-d534-44e4-b968-a7a37f3dd146",
   "metadata": {},
   "outputs": [
    {
     "data": {
      "text/plain": [
       "(551159, 14)"
      ]
     },
     "execution_count": 116,
     "metadata": {},
     "output_type": "execute_result"
    }
   ],
   "source": [
    "df.shape"
   ]
  },
  {
   "cell_type": "code",
   "execution_count": 117,
   "id": "cddc0f32-b37c-43c8-8cfb-0b080b399fec",
   "metadata": {},
   "outputs": [
    {
     "name": "stdout",
     "output_type": "stream",
     "text": [
      "userName         133\n",
      "verified           0\n",
      "itemName           1\n",
      "description        8\n",
      "image              0\n",
      "brand           3872\n",
      "feature            0\n",
      "category           0\n",
      "price          74334\n",
      "rating             0\n",
      "reviewTime         0\n",
      "summary          243\n",
      "reviewText       428\n",
      "vote               0\n",
      "dtype: int64\n"
     ]
    }
   ],
   "source": [
    "print(df.isnull().sum())"
   ]
  },
  {
   "cell_type": "code",
   "execution_count": 118,
   "id": "0ade3110-d1c9-4bbc-aa2b-f14d7903b872",
   "metadata": {},
   "outputs": [
    {
     "data": {
      "text/html": [
       "<div>\n",
       "<style scoped>\n",
       "    .dataframe tbody tr th:only-of-type {\n",
       "        vertical-align: middle;\n",
       "    }\n",
       "\n",
       "    .dataframe tbody tr th {\n",
       "        vertical-align: top;\n",
       "    }\n",
       "\n",
       "    .dataframe thead th {\n",
       "        text-align: right;\n",
       "    }\n",
       "</style>\n",
       "<table border=\"1\" class=\"dataframe\">\n",
       "  <thead>\n",
       "    <tr style=\"text-align: right;\">\n",
       "      <th></th>\n",
       "      <th>userName</th>\n",
       "      <th>verified</th>\n",
       "      <th>itemName</th>\n",
       "      <th>description</th>\n",
       "      <th>image</th>\n",
       "      <th>brand</th>\n",
       "      <th>feature</th>\n",
       "      <th>category</th>\n",
       "      <th>price</th>\n",
       "      <th>rating</th>\n",
       "      <th>reviewTime</th>\n",
       "      <th>summary</th>\n",
       "      <th>reviewText</th>\n",
       "      <th>vote</th>\n",
       "    </tr>\n",
       "  </thead>\n",
       "  <tbody>\n",
       "    <tr>\n",
       "      <th>0</th>\n",
       "      <td>Amazon Customer</td>\n",
       "      <td>True</td>\n",
       "      <td>Toblerone Swiss Milk Chocolate Bar, Crunchy Sa...</td>\n",
       "      <td>[\"Made from deliciously decadent ingredients, ...</td>\n",
       "      <td>['https://images-na.ssl-images-amazon.com/imag...</td>\n",
       "      <td>Toblerone</td>\n",
       "      <td>[]</td>\n",
       "      <td>Prime_Pantry</td>\n",
       "      <td>$1.63</td>\n",
       "      <td>5.0</td>\n",
       "      <td>2018-01-01</td>\n",
       "      <td>Five Stars</td>\n",
       "      <td>super smooth and yummy with crunchy bits</td>\n",
       "      <td>0</td>\n",
       "    </tr>\n",
       "    <tr>\n",
       "      <th>1</th>\n",
       "      <td>Carla</td>\n",
       "      <td>True</td>\n",
       "      <td>Prince of Peace Organic Tea, Oolong, 100 Tea Bags</td>\n",
       "      <td>['Prince of Peace Enterprises, Inc., founded i...</td>\n",
       "      <td>['https://images-na.ssl-images-amazon.com/imag...</td>\n",
       "      <td>Prince Of Peace</td>\n",
       "      <td>[]</td>\n",
       "      <td>Grocery_and_Gourmet_Food</td>\n",
       "      <td>$6.40</td>\n",
       "      <td>5.0</td>\n",
       "      <td>2018-01-01</td>\n",
       "      <td>Five Stars</td>\n",
       "      <td>Perfect for kombucha</td>\n",
       "      <td>0</td>\n",
       "    </tr>\n",
       "    <tr>\n",
       "      <th>2</th>\n",
       "      <td>Jaclyn</td>\n",
       "      <td>True</td>\n",
       "      <td>Pet Champion Adjustable No-Pull Harness, Colla...</td>\n",
       "      <td>[\"The Pet Champion Large/ Extra Large 22-36 in...</td>\n",
       "      <td>['https://images-na.ssl-images-amazon.com/imag...</td>\n",
       "      <td>Pet Champion</td>\n",
       "      <td>['Features Bright Pink Lemonade pattern', 'Dua...</td>\n",
       "      <td>Pet_Supplies</td>\n",
       "      <td>$7.99</td>\n",
       "      <td>5.0</td>\n",
       "      <td>2018-01-01</td>\n",
       "      <td>she has an odd shape chest and her pull over h...</td>\n",
       "      <td>Finally a harness that fits my puppy. I really...</td>\n",
       "      <td>0</td>\n",
       "    </tr>\n",
       "    <tr>\n",
       "      <th>3</th>\n",
       "      <td>Christinne M</td>\n",
       "      <td>False</td>\n",
       "      <td>Koh-I-Noor Progresso Woodless Colored 24-Penci...</td>\n",
       "      <td>['Koh-I-Noor Progresso Woodless Colored 24-Pen...</td>\n",
       "      <td>['https://images-na.ssl-images-amazon.com/imag...</td>\n",
       "      <td>KOH-I-NOOR</td>\n",
       "      <td>['Rich, pigmented, solid color encased in lacq...</td>\n",
       "      <td>Arts_Crafts_and_Sewing</td>\n",
       "      <td>$14.18</td>\n",
       "      <td>5.0</td>\n",
       "      <td>2018-01-01</td>\n",
       "      <td>Loving!!</td>\n",
       "      <td>I LOVE THEM!! I bought them at Micheals our of...</td>\n",
       "      <td>0</td>\n",
       "    </tr>\n",
       "    <tr>\n",
       "      <th>4</th>\n",
       "      <td>Sandy</td>\n",
       "      <td>True</td>\n",
       "      <td>Parker Urban Premium Ebony Metal Chiseled, Bal...</td>\n",
       "      <td>[\"Stunning craftsmanship based on a classic st...</td>\n",
       "      <td>['https://images-na.ssl-images-amazon.com/imag...</td>\n",
       "      <td>Parker</td>\n",
       "      <td>['Ebony black with metallic highlights and a g...</td>\n",
       "      <td>Office_Products</td>\n",
       "      <td>NaN</td>\n",
       "      <td>5.0</td>\n",
       "      <td>2018-01-01</td>\n",
       "      <td>I love this pen</td>\n",
       "      <td>I love this pen! I love the shape of it, the f...</td>\n",
       "      <td>0</td>\n",
       "    </tr>\n",
       "  </tbody>\n",
       "</table>\n",
       "</div>"
      ],
      "text/plain": [
       "          userName  verified  \\\n",
       "0  Amazon Customer      True   \n",
       "1            Carla      True   \n",
       "2           Jaclyn      True   \n",
       "3     Christinne M     False   \n",
       "4            Sandy      True   \n",
       "\n",
       "                                            itemName  \\\n",
       "0  Toblerone Swiss Milk Chocolate Bar, Crunchy Sa...   \n",
       "1  Prince of Peace Organic Tea, Oolong, 100 Tea Bags   \n",
       "2  Pet Champion Adjustable No-Pull Harness, Colla...   \n",
       "3  Koh-I-Noor Progresso Woodless Colored 24-Penci...   \n",
       "4  Parker Urban Premium Ebony Metal Chiseled, Bal...   \n",
       "\n",
       "                                         description  \\\n",
       "0  [\"Made from deliciously decadent ingredients, ...   \n",
       "1  ['Prince of Peace Enterprises, Inc., founded i...   \n",
       "2  [\"The Pet Champion Large/ Extra Large 22-36 in...   \n",
       "3  ['Koh-I-Noor Progresso Woodless Colored 24-Pen...   \n",
       "4  [\"Stunning craftsmanship based on a classic st...   \n",
       "\n",
       "                                               image            brand  \\\n",
       "0  ['https://images-na.ssl-images-amazon.com/imag...        Toblerone   \n",
       "1  ['https://images-na.ssl-images-amazon.com/imag...  Prince Of Peace   \n",
       "2  ['https://images-na.ssl-images-amazon.com/imag...     Pet Champion   \n",
       "3  ['https://images-na.ssl-images-amazon.com/imag...       KOH-I-NOOR   \n",
       "4  ['https://images-na.ssl-images-amazon.com/imag...           Parker   \n",
       "\n",
       "                                             feature  \\\n",
       "0                                                 []   \n",
       "1                                                 []   \n",
       "2  ['Features Bright Pink Lemonade pattern', 'Dua...   \n",
       "3  ['Rich, pigmented, solid color encased in lacq...   \n",
       "4  ['Ebony black with metallic highlights and a g...   \n",
       "\n",
       "                   category   price  rating  reviewTime  \\\n",
       "0              Prime_Pantry   $1.63     5.0  2018-01-01   \n",
       "1  Grocery_and_Gourmet_Food   $6.40     5.0  2018-01-01   \n",
       "2              Pet_Supplies   $7.99     5.0  2018-01-01   \n",
       "3    Arts_Crafts_and_Sewing  $14.18     5.0  2018-01-01   \n",
       "4           Office_Products     NaN     5.0  2018-01-01   \n",
       "\n",
       "                                             summary  \\\n",
       "0                                         Five Stars   \n",
       "1                                         Five Stars   \n",
       "2  she has an odd shape chest and her pull over h...   \n",
       "3                                           Loving!!   \n",
       "4                                    I love this pen   \n",
       "\n",
       "                                          reviewText  vote  \n",
       "0           super smooth and yummy with crunchy bits     0  \n",
       "1                               Perfect for kombucha     0  \n",
       "2  Finally a harness that fits my puppy. I really...     0  \n",
       "3  I LOVE THEM!! I bought them at Micheals our of...     0  \n",
       "4  I love this pen! I love the shape of it, the f...     0  "
      ]
     },
     "execution_count": 118,
     "metadata": {},
     "output_type": "execute_result"
    }
   ],
   "source": [
    "df.head()"
   ]
  },
  {
   "cell_type": "code",
   "execution_count": 119,
   "id": "eb758eaf-9d13-4cdb-8ca4-d634a0d7458b",
   "metadata": {},
   "outputs": [
    {
     "name": "stdout",
     "output_type": "stream",
     "text": [
      "(453086, 14) (57434, 14)\n"
     ]
    }
   ],
   "source": [
    "pos = df[df['rating']>3]\n",
    "neg = df[df['rating']<3]\n",
    "print(pos.shape, neg.shape)"
   ]
  },
  {
   "cell_type": "code",
   "execution_count": 120,
   "id": "4474594a-15ea-4cf7-8538-74025810ccb3",
   "metadata": {},
   "outputs": [
    {
     "data": {
      "image/png": "[encoded data removed]",
      "text/plain": [
       "<Figure size 640x480 with 1 Axes>"
      ]
     },
     "metadata": {},
     "output_type": "display_data"
    }
   ],
   "source": [
    "counts = [pos.shape[0], neg.shape[0]]\n",
    "\n",
    "# Create a bar chart\n",
    "plt.bar(['Positive Ratings (>3)', 'Negative Ratings (<3)'], counts, color=['green', 'red'])\n",
    "plt.title('Count of Positive and Negative Ratings')\n",
    "plt.ylabel('Count')\n",
    "plt.xlabel('Rating Categories')\n",
    "plt.show()"
   ]
  },
  {
   "cell_type": "markdown",
   "id": "0b9a1520-db64-4408-b988-f68e4b13dce3",
   "metadata": {},
   "source": [
    "## Adding sentiment values:\n",
    "- Done via a sentiment map\n",
    "- resulting column added to original dataframe"
   ]
  },
  {
   "cell_type": "code",
   "execution_count": 121,
   "id": "05a6fca0-371c-46dd-abd6-63c47b98ece7",
   "metadata": {},
   "outputs": [],
   "source": [
    "sentiment_map = {1:0, 2:0, 4:1, 5:1}\n",
    "\n",
    "temp = df[df['rating'] != 3]\n",
    "y = df['rating'].map(sentiment_map)\n",
    "\n",
    "df['sentiment'] = y"
   ]
  },
  {
   "cell_type": "code",
   "execution_count": 122,
   "id": "365a276f-f31a-454a-bb96-1f1b125cf140",
   "metadata": {},
   "outputs": [
    {
     "data": {
      "text/html": [
       "<div>\n",
       "<style scoped>\n",
       "    .dataframe tbody tr th:only-of-type {\n",
       "        vertical-align: middle;\n",
       "    }\n",
       "\n",
       "    .dataframe tbody tr th {\n",
       "        vertical-align: top;\n",
       "    }\n",
       "\n",
       "    .dataframe thead th {\n",
       "        text-align: right;\n",
       "    }\n",
       "</style>\n",
       "<table border=\"1\" class=\"dataframe\">\n",
       "  <thead>\n",
       "    <tr style=\"text-align: right;\">\n",
       "      <th></th>\n",
       "      <th>userName</th>\n",
       "      <th>verified</th>\n",
       "      <th>itemName</th>\n",
       "      <th>description</th>\n",
       "      <th>image</th>\n",
       "      <th>brand</th>\n",
       "      <th>feature</th>\n",
       "      <th>category</th>\n",
       "      <th>price</th>\n",
       "      <th>rating</th>\n",
       "      <th>reviewTime</th>\n",
       "      <th>summary</th>\n",
       "      <th>reviewText</th>\n",
       "      <th>vote</th>\n",
       "      <th>sentiment</th>\n",
       "    </tr>\n",
       "  </thead>\n",
       "  <tbody>\n",
       "    <tr>\n",
       "      <th>0</th>\n",
       "      <td>Amazon Customer</td>\n",
       "      <td>True</td>\n",
       "      <td>Toblerone Swiss Milk Chocolate Bar, Crunchy Sa...</td>\n",
       "      <td>[\"Made from deliciously decadent ingredients, ...</td>\n",
       "      <td>['https://images-na.ssl-images-amazon.com/imag...</td>\n",
       "      <td>Toblerone</td>\n",
       "      <td>[]</td>\n",
       "      <td>Prime_Pantry</td>\n",
       "      <td>$1.63</td>\n",
       "      <td>5.0</td>\n",
       "      <td>2018-01-01</td>\n",
       "      <td>Five Stars</td>\n",
       "      <td>super smooth and yummy with crunchy bits</td>\n",
       "      <td>0</td>\n",
       "      <td>1.0</td>\n",
       "    </tr>\n",
       "    <tr>\n",
       "      <th>1</th>\n",
       "      <td>Carla</td>\n",
       "      <td>True</td>\n",
       "      <td>Prince of Peace Organic Tea, Oolong, 100 Tea Bags</td>\n",
       "      <td>['Prince of Peace Enterprises, Inc., founded i...</td>\n",
       "      <td>['https://images-na.ssl-images-amazon.com/imag...</td>\n",
       "      <td>Prince Of Peace</td>\n",
       "      <td>[]</td>\n",
       "      <td>Grocery_and_Gourmet_Food</td>\n",
       "      <td>$6.40</td>\n",
       "      <td>5.0</td>\n",
       "      <td>2018-01-01</td>\n",
       "      <td>Five Stars</td>\n",
       "      <td>Perfect for kombucha</td>\n",
       "      <td>0</td>\n",
       "      <td>1.0</td>\n",
       "    </tr>\n",
       "    <tr>\n",
       "      <th>2</th>\n",
       "      <td>Jaclyn</td>\n",
       "      <td>True</td>\n",
       "      <td>Pet Champion Adjustable No-Pull Harness, Colla...</td>\n",
       "      <td>[\"The Pet Champion Large/ Extra Large 22-36 in...</td>\n",
       "      <td>['https://images-na.ssl-images-amazon.com/imag...</td>\n",
       "      <td>Pet Champion</td>\n",
       "      <td>['Features Bright Pink Lemonade pattern', 'Dua...</td>\n",
       "      <td>Pet_Supplies</td>\n",
       "      <td>$7.99</td>\n",
       "      <td>5.0</td>\n",
       "      <td>2018-01-01</td>\n",
       "      <td>she has an odd shape chest and her pull over h...</td>\n",
       "      <td>Finally a harness that fits my puppy. I really...</td>\n",
       "      <td>0</td>\n",
       "      <td>1.0</td>\n",
       "    </tr>\n",
       "    <tr>\n",
       "      <th>3</th>\n",
       "      <td>Christinne M</td>\n",
       "      <td>False</td>\n",
       "      <td>Koh-I-Noor Progresso Woodless Colored 24-Penci...</td>\n",
       "      <td>['Koh-I-Noor Progresso Woodless Colored 24-Pen...</td>\n",
       "      <td>['https://images-na.ssl-images-amazon.com/imag...</td>\n",
       "      <td>KOH-I-NOOR</td>\n",
       "      <td>['Rich, pigmented, solid color encased in lacq...</td>\n",
       "      <td>Arts_Crafts_and_Sewing</td>\n",
       "      <td>$14.18</td>\n",
       "      <td>5.0</td>\n",
       "      <td>2018-01-01</td>\n",
       "      <td>Loving!!</td>\n",
       "      <td>I LOVE THEM!! I bought them at Micheals our of...</td>\n",
       "      <td>0</td>\n",
       "      <td>1.0</td>\n",
       "    </tr>\n",
       "    <tr>\n",
       "      <th>4</th>\n",
       "      <td>Sandy</td>\n",
       "      <td>True</td>\n",
       "      <td>Parker Urban Premium Ebony Metal Chiseled, Bal...</td>\n",
       "      <td>[\"Stunning craftsmanship based on a classic st...</td>\n",
       "      <td>['https://images-na.ssl-images-amazon.com/imag...</td>\n",
       "      <td>Parker</td>\n",
       "      <td>['Ebony black with metallic highlights and a g...</td>\n",
       "      <td>Office_Products</td>\n",
       "      <td>NaN</td>\n",
       "      <td>5.0</td>\n",
       "      <td>2018-01-01</td>\n",
       "      <td>I love this pen</td>\n",
       "      <td>I love this pen! I love the shape of it, the f...</td>\n",
       "      <td>0</td>\n",
       "      <td>1.0</td>\n",
       "    </tr>\n",
       "  </tbody>\n",
       "</table>\n",
       "</div>"
      ],
      "text/plain": [
       "          userName  verified  \\\n",
       "0  Amazon Customer      True   \n",
       "1            Carla      True   \n",
       "2           Jaclyn      True   \n",
       "3     Christinne M     False   \n",
       "4            Sandy      True   \n",
       "\n",
       "                                            itemName  \\\n",
       "0  Toblerone Swiss Milk Chocolate Bar, Crunchy Sa...   \n",
       "1  Prince of Peace Organic Tea, Oolong, 100 Tea Bags   \n",
       "2  Pet Champion Adjustable No-Pull Harness, Colla...   \n",
       "3  Koh-I-Noor Progresso Woodless Colored 24-Penci...   \n",
       "4  Parker Urban Premium Ebony Metal Chiseled, Bal...   \n",
       "\n",
       "                                         description  \\\n",
       "0  [\"Made from deliciously decadent ingredients, ...   \n",
       "1  ['Prince of Peace Enterprises, Inc., founded i...   \n",
       "2  [\"The Pet Champion Large/ Extra Large 22-36 in...   \n",
       "3  ['Koh-I-Noor Progresso Woodless Colored 24-Pen...   \n",
       "4  [\"Stunning craftsmanship based on a classic st...   \n",
       "\n",
       "                                               image            brand  \\\n",
       "0  ['https://images-na.ssl-images-amazon.com/imag...        Toblerone   \n",
       "1  ['https://images-na.ssl-images-amazon.com/imag...  Prince Of Peace   \n",
       "2  ['https://images-na.ssl-images-amazon.com/imag...     Pet Champion   \n",
       "3  ['https://images-na.ssl-images-amazon.com/imag...       KOH-I-NOOR   \n",
       "4  ['https://images-na.ssl-images-amazon.com/imag...           Parker   \n",
       "\n",
       "                                             feature  \\\n",
       "0                                                 []   \n",
       "1                                                 []   \n",
       "2  ['Features Bright Pink Lemonade pattern', 'Dua...   \n",
       "3  ['Rich, pigmented, solid color encased in lacq...   \n",
       "4  ['Ebony black with metallic highlights and a g...   \n",
       "\n",
       "                   category   price  rating  reviewTime  \\\n",
       "0              Prime_Pantry   $1.63     5.0  2018-01-01   \n",
       "1  Grocery_and_Gourmet_Food   $6.40     5.0  2018-01-01   \n",
       "2              Pet_Supplies   $7.99     5.0  2018-01-01   \n",
       "3    Arts_Crafts_and_Sewing  $14.18     5.0  2018-01-01   \n",
       "4           Office_Products     NaN     5.0  2018-01-01   \n",
       "\n",
       "                                             summary  \\\n",
       "0                                         Five Stars   \n",
       "1                                         Five Stars   \n",
       "2  she has an odd shape chest and her pull over h...   \n",
       "3                                           Loving!!   \n",
       "4                                    I love this pen   \n",
       "\n",
       "                                          reviewText  vote  sentiment  \n",
       "0           super smooth and yummy with crunchy bits     0        1.0  \n",
       "1                               Perfect for kombucha     0        1.0  \n",
       "2  Finally a harness that fits my puppy. I really...     0        1.0  \n",
       "3  I LOVE THEM!! I bought them at Micheals our of...     0        1.0  \n",
       "4  I love this pen! I love the shape of it, the f...     0        1.0  "
      ]
     },
     "execution_count": 122,
     "metadata": {},
     "output_type": "execute_result"
    }
   ],
   "source": [
    "df.head()"
   ]
  },
  {
   "cell_type": "markdown",
   "id": "9c409196-72ea-488c-869d-27d61e673dad",
   "metadata": {},
   "source": [
    "## Preparing dataframe for preprocessing"
   ]
  },
  {
   "cell_type": "code",
   "execution_count": 123,
   "id": "f8dd0e48-dcb7-41a5-8b7d-b5a2f36619b7",
   "metadata": {},
   "outputs": [],
   "source": [
    "reviews_to_clean = pd.DataFrame()\n",
    "reviews_to_clean = df['reviewText']\n",
    "\n",
    "summary_to_clean = pd.DataFrame()\n",
    "summary_to_clean = df['summary']"
   ]
  },
  {
   "cell_type": "code",
   "execution_count": 124,
   "id": "226554e2-e791-421f-b55a-ebaae203b7cd",
   "metadata": {},
   "outputs": [
    {
     "name": "stdout",
     "output_type": "stream",
     "text": [
      "0             super smooth and yummy with crunchy bits\n",
      "1                                 Perfect for kombucha\n",
      "2    Finally a harness that fits my puppy. I really...\n",
      "3    I LOVE THEM!! I bought them at Micheals our of...\n",
      "4    I love this pen! I love the shape of it, the f...\n",
      "Name: reviewText, dtype: object\n"
     ]
    }
   ],
   "source": [
    "print(reviews_to_clean.head(5))"
   ]
  },
  {
   "cell_type": "code",
   "execution_count": 125,
   "id": "f2693fe5-724c-4225-b56f-8c0dacd553ce",
   "metadata": {},
   "outputs": [
    {
     "name": "stdout",
     "output_type": "stream",
     "text": [
      "0                                           Five Stars\n",
      "1                                           Five Stars\n",
      "2    she has an odd shape chest and her pull over h...\n",
      "3                                             Loving!!\n",
      "4                                      I love this pen\n",
      "Name: summary, dtype: object\n"
     ]
    }
   ],
   "source": [
    "print(summary_to_clean.head(5))"
   ]
  },
  {
   "cell_type": "code",
   "execution_count": 126,
   "id": "40604f16-5a24-4554-b30b-c47b1866abde",
   "metadata": {},
   "outputs": [
    {
     "name": "stdout",
     "output_type": "stream",
     "text": [
      "<class 'pandas.core.series.Series'>\n",
      "<class 'pandas.core.series.Series'>\n"
     ]
    }
   ],
   "source": [
    "print(type(reviews_to_clean))\n",
    "print(type(summary_to_clean))"
   ]
  },
  {
   "cell_type": "code",
   "execution_count": 127,
   "id": "be38dbf6-664e-4a2a-9329-801faf0e9326",
   "metadata": {},
   "outputs": [
    {
     "name": "stdout",
     "output_type": "stream",
     "text": [
      "(551159,)\n",
      "(551159,)\n"
     ]
    }
   ],
   "source": [
    "print(reviews_to_clean.shape)\n",
    "print(summary_to_clean.shape)"
   ]
  },
  {
   "cell_type": "code",
   "execution_count": 128,
   "id": "7c74637f-17ef-46e1-b745-65cd8f8591b6",
   "metadata": {},
   "outputs": [
    {
     "name": "stderr",
     "output_type": "stream",
     "text": [
      "[nltk_data] Downloading package punkt_tab to /home/gitpod/nltk_data...\n",
      "[nltk_data]   Package punkt_tab is already up-to-date!\n",
      "[nltk_data] Downloading package stopwords to /home/gitpod/nltk_data...\n",
      "[nltk_data]   Package stopwords is already up-to-date!\n",
      "[nltk_data] Downloading package wordnet to /home/gitpod/nltk_data...\n",
      "[nltk_data]   Package wordnet is already up-to-date!\n"
     ]
    },
    {
     "data": {
      "text/plain": [
       "True"
      ]
     },
     "execution_count": 128,
     "metadata": {},
     "output_type": "execute_result"
    }
   ],
   "source": [
    "nltk.download('punkt_tab')\n",
    "nltk.download('stopwords')\n",
    "nltk.download('wordnet')"
   ]
  },
  {
   "cell_type": "code",
   "execution_count": 129,
   "id": "0efda403-f669-4c6a-8bc6-fae65f9bc967",
   "metadata": {},
   "outputs": [],
   "source": [
    "stop_words = stopwords.words('english')\n",
    "# print(stop_words)"
   ]
  },
  {
   "cell_type": "markdown",
   "id": "3a0876e8-2920-4625-88fa-ea6a0c9c5bb7",
   "metadata": {},
   "source": [
    "## Cleaning HTML aspects\n",
    "- includes tags and https:// "
   ]
  },
  {
   "cell_type": "code",
   "execution_count": 130,
   "id": "22717e14-24e3-490c-b35e-1d87d7c35a6d",
   "metadata": {},
   "outputs": [],
   "source": [
    "def clean_html(text):\n",
    "    # Remove URLs\n",
    "    text = re.sub(r'^https?:\\/\\/.*[\\r\\n]*', '', text, flags=re.MULTILINE)\n",
    "    # Remove HTML tags\n",
    "    text = re.sub('<.*?>+', '', text)\n",
    "    return text"
   ]
  },
  {
   "cell_type": "markdown",
   "id": "4a2b9e72-5b1a-48db-ba1b-0f0307f3564d",
   "metadata": {},
   "source": [
    "## Creating tokens"
   ]
  },
  {
   "cell_type": "code",
   "execution_count": 131,
   "id": "bf0f045e-41d5-4f5e-902c-dd45dfec2d87",
   "metadata": {},
   "outputs": [],
   "source": [
    "def tokenize_df(text):\n",
    "    if isinstance(text, str):  # If the input is a string\n",
    "        tokens = word_tokenize(text)\n",
    "        tokens = [token for token in tokens if token.isalpha()]  # Keep only alphabetic tokens\n",
    "        return tokens\n",
    "    elif isinstance(text, (int, float)):  # If the input is an integer or float\n",
    "        return text  # Return the number as is\n",
    "    else:\n",
    "        return []"
   ]
  },
  {
   "cell_type": "markdown",
   "id": "3464f39f-1bed-4876-b6e9-647273442e65",
   "metadata": {},
   "source": [
    "## Removing stopwords"
   ]
  },
  {
   "cell_type": "code",
   "execution_count": 132,
   "id": "7e0eca34-196f-43b1-bfac-d5f3ca664fe3",
   "metadata": {},
   "outputs": [],
   "source": [
    "def remove_stopwords(tokens):\n",
    "    stop_words = (stopwords.words(\"english\"))\n",
    "    filtered_tokens = [token for token in tokens if token.lower() not in stop_words]\n",
    "    return filtered_tokens"
   ]
  },
  {
   "cell_type": "markdown",
   "id": "f369aa7a-c997-4cd2-b5bb-eb9f7e85842a",
   "metadata": {},
   "source": [
    "## Lemmatization:\n",
    "- Spelling or semantics of words may have been affected via tokenisation or punctuation removal. This was done to try to preserve value of those that may have been affected"
   ]
  },
  {
   "cell_type": "code",
   "execution_count": 133,
   "id": "0ed4fb88-ed57-46aa-b4e1-5b710697b03f",
   "metadata": {},
   "outputs": [],
   "source": [
    "# def lemmatize_text(tokens):\n",
    "#     lemma = WordNetLemmatizer()\n",
    "#     lemma_token = [lemma.lemmatize(word) for word in tokens]\n",
    "#     return lemma_token\n",
    "\n",
    "def lemmatize_text(tokens):\n",
    "    if tokens is None:\n",
    "        return []  # Return an empty list if tokens is None\n",
    "    lemma = WordNetLemmatizer()\n",
    "    lemma_tokens = [lemma.lemmatize(word) for word in tokens if word is not None]  # Check for None\n",
    "    return lemma_tokens"
   ]
  },
  {
   "cell_type": "markdown",
   "id": "4f77b7dd-2075-4351-8da7-73760015925e",
   "metadata": {},
   "source": [
    "## Cleaning text utilizing prior functions"
   ]
  },
  {
   "cell_type": "code",
   "execution_count": 134,
   "id": "d2f2fdbe-482c-41d6-aef3-7da51eb3845a",
   "metadata": {},
   "outputs": [],
   "source": [
    "def clean_text(text):\n",
    "    if not isinstance(text, str):  # Check if the input is not a string\n",
    "        return ''  # Return an empty string or handle it as needed\n",
    "    text = clean_html(text)\n",
    "    tokens = tokenize_df(text)\n",
    "    tokens = [token.lower() for token in tokens]\n",
    "    tokens = remove_stopwords(tokens)\n",
    "    tokens = [token.translate(str.maketrans('', '', string.punctuation)) for token in tokens]\n",
    "    tokens = lemmatize_text(tokens)\n",
    "    return ' '.join(tokens)"
   ]
  },
  {
   "cell_type": "code",
   "execution_count": 135,
   "id": "b8702106-cb6f-4af9-86aa-059a8723d3b6",
   "metadata": {},
   "outputs": [],
   "source": [
    "cleaned_reviews = reviews_to_clean.apply(clean_text)\n",
    "# cleaned_summary = summary_to_clean.apply(clean_text)"
   ]
  },
  {
   "cell_type": "code",
   "execution_count": 136,
   "id": "8e700e03-8ae0-4c5c-a296-883765d330a9",
   "metadata": {},
   "outputs": [
    {
     "data": {
      "text/plain": [
       "0                       super smooth yummy crunchy bit\n",
       "1                                     perfect kombucha\n",
       "2    finally harness fit puppy really need harness ...\n",
       "3    love bought micheals curiosity wanting try dif...\n",
       "4    love pen love shape feel weight color highly r...\n",
       "Name: reviewText, dtype: object"
      ]
     },
     "execution_count": 136,
     "metadata": {},
     "output_type": "execute_result"
    }
   ],
   "source": [
    "cleaned_reviews.head()"
   ]
  },
  {
   "cell_type": "markdown",
   "id": "22492b8c-6437-449d-8699-615ad1311685",
   "metadata": {},
   "source": [
    "## Convert all instances of float or integer data to string:\n",
    "- This was done to avoid instances of float or integer.\n",
    "- Chose not to drop the values since it may hold value in our analysis"
   ]
  },
  {
   "cell_type": "code",
   "execution_count": 137,
   "id": "ba9c0c19-1edd-44a3-8434-79bab8b78255",
   "metadata": {},
   "outputs": [
    {
     "data": {
      "text/plain": [
       "0                            super smooth yummy crunchy bit\n",
       "1                                          perfect kombucha\n",
       "2         finally harness fit puppy really need harness ...\n",
       "3         love bought micheals curiosity wanting try dif...\n",
       "4         love pen love shape feel weight color highly r...\n",
       "                                ...                        \n",
       "551154                               cheap price weak chain\n",
       "551155                                       great deck box\n",
       "551156    putting weather station anticipate problem kee...\n",
       "551157    nice quality grilling table put grilling stuff...\n",
       "551158                       nice variety pack whole family\n",
       "Name: reviewText, Length: 551159, dtype: object"
      ]
     },
     "execution_count": 137,
     "metadata": {},
     "output_type": "execute_result"
    }
   ],
   "source": [
    "cleaned_reviews.apply(lambda x: re.sub(r\"\\s+\", \" \", x).strip()if isinstance(x, str) else x)"
   ]
  },
  {
   "cell_type": "code",
   "execution_count": 138,
   "id": "dac0d2a7-74f3-4680-a3ec-c4f19ea473cb",
   "metadata": {},
   "outputs": [
    {
     "data": {
      "text/plain": [
       "0                                                 five star\n",
       "1                                                 five star\n",
       "2         odd shape chest pull harness going big head ea...\n",
       "3                                                    loving\n",
       "4                                                  love pen\n",
       "                                ...                        \n",
       "551154                                             two star\n",
       "551155                             deck box good investment\n",
       "551156                                    keep old man roof\n",
       "551157                   easy assemble work well next grill\n",
       "551158                                 family love poptarts\n",
       "Name: summary, Length: 551159, dtype: object"
      ]
     },
     "execution_count": 138,
     "metadata": {},
     "output_type": "execute_result"
    }
   ],
   "source": [
    "cleaned_summary.apply(lambda x: re.sub(r\"\\s+\", \" \", x).strip()if isinstance(x, str) else x)"
   ]
  },
  {
   "cell_type": "markdown",
   "id": "afd45143-adb7-4f05-96a3-948e82f1ec0f",
   "metadata": {},
   "source": [
    "## Dropping values:\n",
    "- This was done to account for any rows that had no data. Avoids NaN representation for text_fit"
   ]
  },
  {
   "cell_type": "code",
   "execution_count": 139,
   "id": "e2f578aa-cddb-4c05-b03b-c6751e6e43b5",
   "metadata": {},
   "outputs": [],
   "source": [
    "cleaned_reviews = cleaned_reviews.fillna('').astype(str)"
   ]
  },
  {
   "cell_type": "code",
   "execution_count": 140,
   "id": "d448c76f-e163-4b9f-a6a9-23f08fe5af9c",
   "metadata": {},
   "outputs": [
    {
     "name": "stdout",
     "output_type": "stream",
     "text": [
      "0\n"
     ]
    }
   ],
   "source": [
    "print(cleaned_reviews.isnull().sum())"
   ]
  },
  {
   "cell_type": "code",
   "execution_count": 141,
   "id": "0b9f0869-0322-4f3a-bebd-c9d3eefb0c38",
   "metadata": {},
   "outputs": [],
   "source": [
    "def print_cloud(data):\n",
    "    text = \" \".join(review for review in data)\n",
    "    print (\"There are {} words in the combination of all reviews.\".format(len(text)))\n",
    "    stopwords_set = set(stopwords.words('english'))\n",
    "    wordcloud = WordCloud(stopwords=stopwords_set, background_color=\"white\").generate(text)\n",
    "    return wordcloud"
   ]
  },
  {
   "cell_type": "markdown",
   "id": "ed5c3eea-718b-43cc-a9e4-9ef17efb860a",
   "metadata": {},
   "source": [
    "## Visualisation\n",
    "- Small visualisation to check if cleaning went as expected"
   ]
  },
  {
   "cell_type": "code",
   "execution_count": 143,
   "id": "671602ab-df89-467b-b6eb-bc843807d381",
   "metadata": {},
   "outputs": [
    {
     "name": "stdout",
     "output_type": "stream",
     "text": [
      "There are 54532759 words in the combination of all reviews.\n"
     ]
    },
    {
     "data": {
      "image/png": "[encoded data removed]",
      "text/plain": [
       "<Figure size 640x480 with 1 Axes>"
      ]
     },
     "metadata": {},
     "output_type": "display_data"
    }
   ],
   "source": [
    "wordcloud = print_cloud(cleaned_reviews)\n",
    "fig = plt.figure(1)\n",
    "plt.imshow(wordcloud, interpolation='bilinear')\n",
    "plt.axis(\"off\")\n",
    "plt.show()"
   ]
  },
  {
   "cell_type": "code",
   "execution_count": 144,
   "id": "14cc6c7a-05d8-4b5a-946c-ae72d9e2e2dc",
   "metadata": {},
   "outputs": [
    {
     "name": "stdout",
     "output_type": "stream",
     "text": [
      "<class 'pandas.core.series.Series'>\n",
      "(551159,)\n"
     ]
    }
   ],
   "source": [
    "X = cleaned_reviews\n",
    "print(type(X))\n",
    "print(X.shape)"
   ]
  },
  {
   "cell_type": "code",
   "execution_count": 145,
   "id": "b88e6c23-456d-48d4-81ee-58e5fcd737c3",
   "metadata": {},
   "outputs": [
    {
     "name": "stdout",
     "output_type": "stream",
     "text": [
      "<class 'pandas.core.series.Series'>\n",
      "(551159,)\n",
      "40639\n"
     ]
    }
   ],
   "source": [
    "y = df['sentiment']\n",
    "print(type(y))\n",
    "print(y.shape)\n",
    "print(y.isnull().sum()) "
   ]
  },
  {
   "cell_type": "markdown",
   "id": "3b9011b3-0a65-4081-8194-daae1466b5b8",
   "metadata": {},
   "source": [
    "## Dropping NaN \n",
    "- Dropped those rows with NaN representations in sentiments based on the assumption their rating was a 3/5. Justified since the data loss is negligible when compared to that which remains"
   ]
  },
  {
   "cell_type": "code",
   "execution_count": 146,
   "id": "51b98846-4ad7-4433-953d-fd6944545e74",
   "metadata": {},
   "outputs": [
    {
     "name": "stdout",
     "output_type": "stream",
     "text": [
      "(510520,)\n",
      "(510520,)\n"
     ]
    }
   ],
   "source": [
    "y = y.dropna()\n",
    "X = X[y.index] \n",
    "print(X.shape)\n",
    "print(y.shape)"
   ]
  },
  {
   "cell_type": "code",
   "execution_count": 147,
   "id": "43f694c6-1289-4c62-9d8a-60c8e05dbd81",
   "metadata": {},
   "outputs": [],
   "source": [
    "def text_fit(X, y, model, clf_model, coef_show=1):\n",
    "    X_c = model.fit_transform(X)\n",
    "    print('# features: {}'.format(X_c.shape[1]))\n",
    "    X_train, X_test, y_train, y_test = train_test_split(X_c, y, random_state=0)\n",
    "    print('# train records: {}'.format(X_train.shape[0]))\n",
    "    print('# test records: {}'.format(X_test.shape[0]))\n",
    "    clf = clf_model.fit(X_train, y_train)\n",
    "    y_pred = clf.predict(X_test)\n",
    "    recall = recall_score(y_test,y_pred)\n",
    "    print ('Model Recall: {}'.format(recall))\n",
    "    if coef_show == 1: \n",
    "        w = model.get_feature_names_out()\n",
    "        coef = clf.coef_.tolist()[0]\n",
    "        coeff_df = pd.DataFrame({'Word' : w, 'Coefficient' : coef})\n",
    "        coeff_df = coeff_df.sort_values(['Coefficient', 'Word'], ascending=[0, 1])\n",
    "        print('')\n",
    "        print('-Top 20 positive-')\n",
    "        print(coeff_df.head(20).to_string(index=False))\n",
    "        print('')\n",
    "        print('-Top 20 negative-')        \n",
    "        print(coeff_df.tail(20).to_string(index=False))"
   ]
  },
  {
   "cell_type": "markdown",
   "id": "448503d7-698c-4f05-8cb7-480b04f9857e",
   "metadata": {},
   "source": [
    "## Interpretation\n",
    "- A recall of approximately 0.99 indicates that the model is very effective at identifying positive sentiments in the reviews.\n",
    "- The output lists the top 20 words (or n-grams) that are most strongly associated with positive sentiment, along with their coefficients.\n",
    "- The words listed here are the strongest indicators of positive sentiment in the reviews. The coefficients represent the weight of each word in the logistic regression model."
   ]
  },
  {
   "cell_type": "code",
   "execution_count": 148,
   "id": "c1861000-113d-4fa0-9e17-32bb5adf5e9a",
   "metadata": {
    "scrolled": true
   },
   "outputs": [
    {
     "name": "stdout",
     "output_type": "stream",
     "text": [
      "# features: 2268711\n",
      "# train records: 382890\n",
      "# test records: 127630\n",
      "Model Recall: 0.9913458563535912\n",
      "\n",
      "-Top 20 positive-\n",
      "            Word  Coefficient\n",
      "           great    20.230047\n",
      "            love    20.214720\n",
      "         perfect    13.603012\n",
      "       excellent    10.695125\n",
      "            best    10.560789\n",
      "       delicious    10.050529\n",
      "            nice     9.999580\n",
      "         amazing     9.881635\n",
      "       perfectly     9.705045\n",
      "            easy     8.707396\n",
      "         awesome     8.628141\n",
      "        favorite     7.827358\n",
      "          easier     7.522538\n",
      "       complaint     7.237981\n",
      "       fantastic     6.830259\n",
      "       wonderful     6.779819\n",
      "         pleased     6.700629\n",
      "highly recommend     6.680016\n",
      "          highly     6.634692\n",
      "       beautiful     6.494940\n",
      "\n",
      "-Top 20 negative-\n",
      "         Word  Coefficient\n",
      "        sorry    -7.111149\n",
      "  waste money    -7.129727\n",
      "        threw    -7.145452\n",
      "      garbage    -7.329550\n",
      "       poorly    -7.395356\n",
      "       refund    -7.576696\n",
      "        worse    -7.625465\n",
      "     returned    -7.717240\n",
      "      cheaply    -7.783348\n",
      "        broke    -8.419151\n",
      "        awful    -8.462631\n",
      "         poor    -8.950597\n",
      "     horrible    -9.147159\n",
      "     terrible    -9.493881\n",
      "    returning    -9.574196\n",
      "       return    -9.584628\n",
      "      useless    -9.918947\n",
      "        worst   -10.074581\n",
      "disappointing   -11.252022\n",
      " disappointed   -12.616024\n"
     ]
    }
   ],
   "source": [
    "tfidf_n = TfidfVectorizer(ngram_range=(1,2), stop_words = 'english')\n",
    "text_fit(X, y, tfidf_n, LogisticRegression())"
   ]
  },
  {
   "cell_type": "markdown",
   "id": "56d92894-ab1a-473c-b7f0-e84163acf0b6",
   "metadata": {},
   "source": [
    "## Usage of select percentile\n",
    "- f_classif for classification tasks (ANOVA F-value between label/feature)\n",
    "- Selecting only the most relevant features, it significantly reduces the dimensionality.\n",
    "- Reduces overfitting, as the model will focus on the most informative features.\n",
    "- Eliminating features that do not contribute significantly to the prediction, reduces the noise in the dataset; leads to better generalization on unseen data."
   ]
  },
  {
   "cell_type": "code",
   "execution_count": 149,
   "id": "039f6880-45ff-4a15-b4c5-41256abd1cb5",
   "metadata": {},
   "outputs": [],
   "source": [
    "def text_fit_v2(X, y, model, clf_model, select_percentile_value, coef_show=1):\n",
    "    X_c = model.fit_transform(X)\n",
    "    print('# features before applying select percentile: {}'.format(X_c.shape[1]))\n",
    "    select_percentile = SelectPercentile(score_func=f_classif, percentile=select_percentile_value)\n",
    "    X_transformed = select_percentile.fit_transform(X_c, y)\n",
    "    print('# features after applying select percentile: {}'.format(X_transformed.shape[1]))\n",
    "    X_train, X_test, y_train, y_test = train_test_split(X_transformed, y, random_state=0)\n",
    "    print('# train records: {}'.format(X_train.shape[0]))\n",
    "    print('# test records: {}'.format(X_test.shape[0]))\n",
    "    clf = clf_model.fit(X_train, y_train)\n",
    "    y_pred = clf.predict(X_test)\n",
    "    recall = recall_score(y_test,y_pred)\n",
    "    print ('Model Recall: {}'.format(recall))\n",
    "    if coef_show == 1:\n",
    "        idx = np.arange(0, X_c.shape[1])  #create an index array\n",
    "        features_to_keep = idx[select_percentile.get_support() == True]\n",
    "        cols = np.array(list(model.vocabulary_.keys()))\n",
    "        w = cols[features_to_keep]\n",
    "        coef = clf.coef_.tolist()[0]\n",
    "        coeff_df = pd.DataFrame({'Word' : w, 'Coefficient' : coef})\n",
    "        coeff_df = coeff_df.sort_values(['Coefficient', 'Word'], ascending=[0, 1])\n",
    "        print('')\n",
    "        print('-Top 20 positive-')\n",
    "        print(coeff_df.head(20).to_string(index=False))\n",
    "        print('')\n",
    "        print('-Top 20 negative-')        \n",
    "        print(coeff_df.tail(20).to_string(index=False))"
   ]
  },
  {
   "cell_type": "code",
   "execution_count": 157,
   "id": "feadda03-d7ab-4cc2-968f-1b6a6f3f9216",
   "metadata": {
    "scrolled": true
   },
   "outputs": [
    {
     "name": "stdout",
     "output_type": "stream",
     "text": [
      "# features before applying select percentile: 2268711\n",
      "# features after applying select percentile: 567178\n",
      "# train records: 382890\n",
      "# test records: 127630\n",
      "Model Recall: 0.9913370165745856\n",
      "\n",
      "-Top 20 positive-\n",
      "                 Word  Coefficient\n",
      "    hotsauce dripping    20.774149\n",
      "         cabinet scan    18.504783\n",
      "            acted way    13.441121\n",
      "       definitely toy    10.918197\n",
      "    quarantine update    10.564083\n",
      "           upper cost    10.344670\n",
      "   deliciousness girl     9.422179\n",
      "      stringing tower     9.199292\n",
      "        perfect power     9.175123\n",
      "  conditioner instead     9.115220\n",
      "        renewal great     8.164402\n",
      "       exercise hoped     7.805634\n",
      "            come xbox     7.273848\n",
      "warmer characteristic     7.101200\n",
      "            tone pack     6.531496\n",
      "        jumped return     6.412342\n",
      "            bien mais     6.274132\n",
      "         cheaper idea     6.165289\n",
      "             play let     6.160846\n",
      "       disc intrigued     6.035289\n",
      "\n",
      "-Top 20 negative-\n",
      "              Word  Coefficient\n",
      "       tuning dead    -6.914128\n",
      "      krate family    -7.003463\n",
      "    grated covered    -7.118707\n",
      "different receptor    -7.286759\n",
      "       dilution wo    -7.293212\n",
      "     suspect nasal    -7.374935\n",
      "        hold mouse    -7.496633\n",
      "   worked inserted    -7.577369\n",
      "        work place    -8.015254\n",
      "     vibrant eager    -8.453420\n",
      "        potato ham    -8.744489\n",
      "   marking surface    -8.785887\n",
      "       tip adapter    -9.129877\n",
      "     affect really    -9.201286\n",
      "        clasp risk    -9.275125\n",
      "       strand easy    -9.401005\n",
      "cable acknowledged    -9.647408\n",
      "          long imo   -10.500131\n",
      "        wire total   -10.812957\n",
      "      star control   -13.679247\n"
     ]
    }
   ],
   "source": [
    "tfidf_n = TfidfVectorizer(ngram_range=(1, 2), stop_words = 'english')\n",
    "text_fit_v2(X, y, tfidf_n, LogisticRegression(), 25, 1)"
   ]
  },
  {
   "cell_type": "code",
   "execution_count": 158,
   "id": "cbd91726-88f3-47ad-ac2a-ae5aeccd038e",
   "metadata": {},
   "outputs": [
    {
     "data": {
      "text/plain": [
       "0                       super smooth yummy crunchy bit\n",
       "1                                     perfect kombucha\n",
       "2    finally harness fit puppy really need harness ...\n",
       "3    love bought micheals curiosity wanting try dif...\n",
       "4    love pen love shape feel weight color highly r...\n",
       "Name: reviewText, dtype: object"
      ]
     },
     "execution_count": 158,
     "metadata": {},
     "output_type": "execute_result"
    }
   ],
   "source": [
    "cleaned_reviews.head()"
   ]
  },
  {
   "cell_type": "code",
   "execution_count": 159,
   "id": "4c931062",
   "metadata": {},
   "outputs": [
    {
     "name": "stdout",
     "output_type": "stream",
     "text": [
      "Requirement already satisfied: tensorflow in /home/gitpod/.pyenv/versions/3.9.10/lib/python3.9/site-packages (2.19.0)\n",
      "Requirement already satisfied: absl-py>=1.0.0 in /home/gitpod/.pyenv/versions/3.9.10/lib/python3.9/site-packages (from tensorflow) (2.2.1)\n",
      "Requirement already satisfied: astunparse>=1.6.0 in /home/gitpod/.pyenv/versions/3.9.10/lib/python3.9/site-packages (from tensorflow) (1.6.3)\n",
      "Requirement already satisfied: flatbuffers>=24.3.25 in /home/gitpod/.pyenv/versions/3.9.10/lib/python3.9/site-packages (from tensorflow) (25.2.10)\n",
      "Requirement already satisfied: gast!=0.5.0,!=0.5.1,!=0.5.2,>=0.2.1 in /home/gitpod/.pyenv/versions/3.9.10/lib/python3.9/site-packages (from tensorflow) (0.6.0)\n",
      "Requirement already satisfied: google-pasta>=0.1.1 in /home/gitpod/.pyenv/versions/3.9.10/lib/python3.9/site-packages (from tensorflow) (0.2.0)\n",
      "Requirement already satisfied: libclang>=13.0.0 in /home/gitpod/.pyenv/versions/3.9.10/lib/python3.9/site-packages (from tensorflow) (18.1.1)\n",
      "Requirement already satisfied: opt-einsum>=2.3.2 in /home/gitpod/.pyenv/versions/3.9.10/lib/python3.9/site-packages (from tensorflow) (3.4.0)\n",
      "Requirement already satisfied: packaging in /workspace/.pyenv_mirror/user/current/lib/python3.9/site-packages (from tensorflow) (24.2)\n",
      "Requirement already satisfied: protobuf!=4.21.0,!=4.21.1,!=4.21.2,!=4.21.3,!=4.21.4,!=4.21.5,<6.0.0dev,>=3.20.3 in /home/gitpod/.pyenv/versions/3.9.10/lib/python3.9/site-packages (from tensorflow) (5.29.4)\n",
      "Requirement already satisfied: requests<3,>=2.21.0 in /home/gitpod/.pyenv/versions/3.9.10/lib/python3.9/site-packages (from tensorflow) (2.32.3)\n",
      "Requirement already satisfied: setuptools in /home/gitpod/.pyenv/versions/3.9.10/lib/python3.9/site-packages (from tensorflow) (58.1.0)\n",
      "Requirement already satisfied: six>=1.12.0 in /workspace/.pyenv_mirror/user/current/lib/python3.9/site-packages (from tensorflow) (1.17.0)\n",
      "Requirement already satisfied: termcolor>=1.1.0 in /home/gitpod/.pyenv/versions/3.9.10/lib/python3.9/site-packages (from tensorflow) (3.0.1)\n",
      "Requirement already satisfied: typing-extensions>=3.6.6 in /workspace/.pyenv_mirror/user/current/lib/python3.9/site-packages (from tensorflow) (4.13.0)\n",
      "Requirement already satisfied: wrapt>=1.11.0 in /home/gitpod/.pyenv/versions/3.9.10/lib/python3.9/site-packages (from tensorflow) (1.17.2)\n",
      "Requirement already satisfied: grpcio<2.0,>=1.24.3 in /home/gitpod/.pyenv/versions/3.9.10/lib/python3.9/site-packages (from tensorflow) (1.71.0)\n",
      "Requirement already satisfied: tensorboard~=2.19.0 in /home/gitpod/.pyenv/versions/3.9.10/lib/python3.9/site-packages (from tensorflow) (2.19.0)\n",
      "Requirement already satisfied: keras>=3.5.0 in /home/gitpod/.pyenv/versions/3.9.10/lib/python3.9/site-packages (from tensorflow) (3.9.1)\n",
      "Requirement already satisfied: numpy<2.2.0,>=1.26.0 in /workspace/.pyenv_mirror/user/current/lib/python3.9/site-packages (from tensorflow) (2.0.2)\n",
      "Requirement already satisfied: h5py>=3.11.0 in /home/gitpod/.pyenv/versions/3.9.10/lib/python3.9/site-packages (from tensorflow) (3.13.0)\n",
      "Requirement already satisfied: ml-dtypes<1.0.0,>=0.5.1 in /home/gitpod/.pyenv/versions/3.9.10/lib/python3.9/site-packages (from tensorflow) (0.5.1)\n",
      "Requirement already satisfied: tensorflow-io-gcs-filesystem>=0.23.1 in /home/gitpod/.pyenv/versions/3.9.10/lib/python3.9/site-packages (from tensorflow) (0.37.1)\n",
      "Requirement already satisfied: wheel<1.0,>=0.23.0 in /home/gitpod/.pyenv/versions/3.9.10/lib/python3.9/site-packages (from astunparse>=1.6.0->tensorflow) (0.45.1)\n",
      "Requirement already satisfied: rich in /home/gitpod/.pyenv/versions/3.9.10/lib/python3.9/site-packages (from keras>=3.5.0->tensorflow) (14.0.0)\n",
      "Requirement already satisfied: namex in /home/gitpod/.pyenv/versions/3.9.10/lib/python3.9/site-packages (from keras>=3.5.0->tensorflow) (0.0.8)\n",
      "Requirement already satisfied: optree in /home/gitpod/.pyenv/versions/3.9.10/lib/python3.9/site-packages (from keras>=3.5.0->tensorflow) (0.14.1)\n",
      "Requirement already satisfied: charset-normalizer<4,>=2 in /home/gitpod/.pyenv/versions/3.9.10/lib/python3.9/site-packages (from requests<3,>=2.21.0->tensorflow) (3.4.1)\n",
      "Requirement already satisfied: idna<4,>=2.5 in /home/gitpod/.pyenv/versions/3.9.10/lib/python3.9/site-packages (from requests<3,>=2.21.0->tensorflow) (3.10)\n",
      "Requirement already satisfied: urllib3<3,>=1.21.1 in /home/gitpod/.pyenv/versions/3.9.10/lib/python3.9/site-packages (from requests<3,>=2.21.0->tensorflow) (2.3.0)\n",
      "Requirement already satisfied: certifi>=2017.4.17 in /home/gitpod/.pyenv/versions/3.9.10/lib/python3.9/site-packages (from requests<3,>=2.21.0->tensorflow) (2025.1.31)\n",
      "Requirement already satisfied: markdown>=2.6.8 in /home/gitpod/.pyenv/versions/3.9.10/lib/python3.9/site-packages (from tensorboard~=2.19.0->tensorflow) (3.7)\n",
      "Requirement already satisfied: tensorboard-data-server<0.8.0,>=0.7.0 in /home/gitpod/.pyenv/versions/3.9.10/lib/python3.9/site-packages (from tensorboard~=2.19.0->tensorflow) (0.7.2)\n",
      "Requirement already satisfied: werkzeug>=1.0.1 in /workspace/.pyenv_mirror/user/current/lib/python3.9/site-packages (from tensorboard~=2.19.0->tensorflow) (2.2.3)\n",
      "Requirement already satisfied: importlib-metadata>=4.4 in /workspace/.pyenv_mirror/user/current/lib/python3.9/site-packages (from markdown>=2.6.8->tensorboard~=2.19.0->tensorflow) (8.6.1)\n",
      "Requirement already satisfied: MarkupSafe>=2.1.1 in /workspace/.pyenv_mirror/user/current/lib/python3.9/site-packages (from werkzeug>=1.0.1->tensorboard~=2.19.0->tensorflow) (3.0.2)\n",
      "Requirement already satisfied: markdown-it-py>=2.2.0 in /home/gitpod/.pyenv/versions/3.9.10/lib/python3.9/site-packages (from rich->keras>=3.5.0->tensorflow) (3.0.0)\n",
      "Requirement already satisfied: pygments<3.0.0,>=2.13.0 in /workspace/.pyenv_mirror/user/current/lib/python3.9/site-packages (from rich->keras>=3.5.0->tensorflow) (2.19.1)\n",
      "Requirement already satisfied: zipp>=3.20 in /workspace/.pyenv_mirror/user/current/lib/python3.9/site-packages (from importlib-metadata>=4.4->markdown>=2.6.8->tensorboard~=2.19.0->tensorflow) (3.21.0)\n",
      "Requirement already satisfied: mdurl~=0.1 in /home/gitpod/.pyenv/versions/3.9.10/lib/python3.9/site-packages (from markdown-it-py>=2.2.0->rich->keras>=3.5.0->tensorflow) (0.1.2)\n",
      "Note: you may need to restart the kernel to use updated packages.\n"
     ]
    }
   ],
   "source": [
    "%pip install tensorflow"
   ]
  },
  {
   "cell_type": "code",
   "execution_count": 160,
   "id": "7e21ff36",
   "metadata": {},
   "outputs": [],
   "source": [
    "from numpy import array\n",
    "import tensorflow as tf"
   ]
  },
  {
   "cell_type": "code",
   "execution_count": 161,
   "id": "bc6879ca",
   "metadata": {},
   "outputs": [],
   "source": [
    "from sklearn.model_selection import train_test_split\n",
    "from tensorflow.keras.preprocessing.text import Tokenizer, one_hot\n",
    "from tensorflow.keras.preprocessing.sequence import pad_sequences\n",
    "from tensorflow.keras.models import Sequential\n",
    "from tensorflow.keras.layers import Activation, Dropout, Dense, Flatten, GlobalMaxPooling1D, Embedding, Conv1D, LSTM"
   ]
  },
  {
   "cell_type": "code",
   "execution_count": 162,
   "id": "dba34b04",
   "metadata": {},
   "outputs": [
    {
     "data": {
      "text/plain": [
       "0                       super smooth yummy crunchy bit\n",
       "1                                     perfect kombucha\n",
       "2    finally harness fit puppy really need harness ...\n",
       "3    love bought micheals curiosity wanting try dif...\n",
       "4    love pen love shape feel weight color highly r...\n",
       "Name: reviewText, dtype: object"
      ]
     },
     "execution_count": 162,
     "metadata": {},
     "output_type": "execute_result"
    }
   ],
   "source": [
    "cleaned_reviews.head(5)"
   ]
  },
  {
   "cell_type": "code",
   "execution_count": 163,
   "id": "be545483",
   "metadata": {},
   "outputs": [
    {
     "data": {
      "text/plain": [
       "0    1.0\n",
       "1    1.0\n",
       "2    1.0\n",
       "3    1.0\n",
       "4    1.0\n",
       "Name: sentiment, dtype: float64"
      ]
     },
     "execution_count": 163,
     "metadata": {},
     "output_type": "execute_result"
    }
   ],
   "source": [
    "df['sentiment'].head(5)"
   ]
  },
  {
   "cell_type": "code",
   "execution_count": 170,
   "id": "188feee8",
   "metadata": {},
   "outputs": [],
   "source": [
    "reviews = []\n",
    "sentiments = []\n",
    "\n",
    "reviews = cleaned_reviews\n",
    "sentiments = df['sentiment']\n",
    "sentiments = np.array(list(map(lambda x: 1 if x==1 else 0, sentiments)))"
   ]
  },
  {
   "cell_type": "code",
   "execution_count": 171,
   "id": "08e0373f",
   "metadata": {},
   "outputs": [
    {
     "name": "stdout",
     "output_type": "stream",
     "text": [
      "[1 1 1 ... 1 1 1]\n"
     ]
    }
   ],
   "source": [
    "print(sentiments)"
   ]
  },
  {
   "cell_type": "code",
   "execution_count": 172,
   "id": "08e0373f",
   "metadata": {},
   "outputs": [],
   "source": [
    "X_train, X_test, y_train, y_test = train_test_split(reviews, sentiments, \n",
    "                                                test_size=0.20, random_state=42)"
   ]
  },
  {
   "cell_type": "code",
   "execution_count": 173,
   "id": "2f6d1c23",
   "metadata": {},
   "outputs": [],
   "source": [
    "word_tokenizer = Tokenizer()\n",
    "word_tokenizer.fit_on_texts(X_train)\n",
    "\n",
    "X_train = word_tokenizer.texts_to_sequences(X_train)\n",
    "X_test = word_tokenizer.texts_to_sequences(X_test)"
   ]
  },
  {
   "cell_type": "code",
   "execution_count": 174,
   "id": "9f288394",
   "metadata": {},
   "outputs": [],
   "source": [
    "import io\n",
    "import json"
   ]
  },
  {
   "cell_type": "code",
   "execution_count": 175,
   "id": "a2017da2",
   "metadata": {},
   "outputs": [],
   "source": [
    "tokenizer_json = word_tokenizer.to_json()\n",
    "with io.open('embedded.json', 'w', encoding = 'utf-8') as f:\n",
    "    f.write(json.dumps(tokenizer_json, ensure_ascii=False))"
   ]
  },
  {
   "cell_type": "code",
   "execution_count": 176,
   "id": "fd829971",
   "metadata": {},
   "outputs": [
    {
     "data": {
      "text/plain": [
       "63246"
      ]
     },
     "execution_count": 176,
     "metadata": {},
     "output_type": "execute_result"
    }
   ],
   "source": [
    "vocab_length = len(word_tokenizer.word_index) + 1\n",
    "vocab_length"
   ]
  },
  {
   "cell_type": "code",
   "execution_count": 177,
   "id": "aa6fc80b",
   "metadata": {},
   "outputs": [],
   "source": [
    "maxlen = 100\n",
    "\n",
    "X_train = pad_sequences(X_train, padding='post', maxlen=maxlen)\n",
    "X_test = pad_sequences(X_test, padding='post', maxlen=maxlen)"
   ]
  },
  {
   "cell_type": "code",
   "execution_count": 178,
   "id": "b986ca0b",
   "metadata": {},
   "outputs": [],
   "source": [
    "from numpy import asarray\n",
    "from numpy import zeros\n",
    "\n",
    "embeddings_dictionary = dict()\n",
    "glove_file = open('glove.6B.100d.txt', encoding=\"utf8\")\n",
    "\n",
    "for line in glove_file:\n",
    "    records = line.split()\n",
    "    word = records[0]\n",
    "    vector_dimensions = asarray(records[1:], dtype='float32')\n",
    "    embeddings_dictionary [word] = vector_dimensions\n",
    "glove_file.close()"
   ]
  },
  {
   "cell_type": "code",
   "execution_count": 179,
   "id": "8e93f858",
   "metadata": {},
   "outputs": [],
   "source": [
    "embedding_matrix = zeros((vocab_length, 100))\n",
    "for word, index in word_tokenizer.word_index.items():\n",
    "    embedding_vector = embeddings_dictionary.get(word)\n",
    "    if embedding_vector is not None:\n",
    "        embedding_matrix[index] = embedding_vector"
   ]
  },
  {
   "cell_type": "code",
   "execution_count": 180,
   "id": "ba7ddf67",
   "metadata": {},
   "outputs": [
    {
     "data": {
      "text/plain": [
       "(63246, 100)"
      ]
     },
     "execution_count": 180,
     "metadata": {},
     "output_type": "execute_result"
    }
   ],
   "source": [
    "embedding_matrix.shape"
   ]
  },
  {
   "cell_type": "code",
   "execution_count": 181,
   "id": "e5d86c8c",
   "metadata": {},
   "outputs": [],
   "source": [
    "from keras.layers import LSTM"
   ]
  },
  {
   "cell_type": "code",
   "execution_count": 182,
   "id": "06ad3f88",
   "metadata": {},
   "outputs": [
    {
     "name": "stderr",
     "output_type": "stream",
     "text": [
      "/home/gitpod/.pyenv/versions/3.9.10/lib/python3.9/site-packages/keras/src/layers/core/embedding.py:90: UserWarning: Argument `input_length` is deprecated. Just remove it.\n",
      "  warnings.warn(\n"
     ]
    }
   ],
   "source": [
    "lstm_model = Sequential()\n",
    "embedding_layer = Embedding(vocab_length, 100, weights=[embedding_matrix], \n",
    "                    input_length=100, trainable=False)\n",
    "\n",
    "lstm_model.add(embedding_layer)\n",
    "lstm_model.add(LSTM(128))\n",
    "\n",
    "lstm_model.add(Dense(1, activation='sigmoid'))"
   ]
  },
  {
   "cell_type": "code",
   "execution_count": 183,
   "id": "37680107",
   "metadata": {},
   "outputs": [],
   "source": [
    "lstm_model.compile(optimizer='adam', loss='binary_crossentropy', \n",
    "                    metrics=['acc'])\n",
    "\n"
   ]
  },
  {
   "cell_type": "code",
   "execution_count": 184,
   "id": "a6f6f66e",
   "metadata": {},
   "outputs": [
    {
     "name": "stdout",
     "output_type": "stream",
     "text": [
      "Epoch 1/6\n",
      "\u001b[1m2756/2756\u001b[0m \u001b[32m━━━━━━━━━━━━━━━━━━━━\u001b[0m\u001b[37m\u001b[0m \u001b[1m352s\u001b[0m 127ms/step - acc: 0.8211 - loss: 0.4731 - val_acc: 0.8437 - val_loss: 0.3567\n",
      "Epoch 2/6\n",
      "\u001b[1m2756/2756\u001b[0m \u001b[32m━━━━━━━━━━━━━━━━━━━━\u001b[0m\u001b[37m\u001b[0m \u001b[1m323s\u001b[0m 117ms/step - acc: 0.8631 - loss: 0.3162 - val_acc: 0.8849 - val_loss: 0.2768\n",
      "Epoch 3/6\n",
      "\u001b[1m2756/2756\u001b[0m \u001b[32m━━━━━━━━━━━━━━━━━━━━\u001b[0m\u001b[37m\u001b[0m \u001b[1m317s\u001b[0m 115ms/step - acc: 0.8897 - loss: 0.2660 - val_acc: 0.8908 - val_loss: 0.2622\n",
      "Epoch 4/6\n",
      "\u001b[1m2756/2756\u001b[0m \u001b[32m━━━━━━━━━━━━━━━━━━━━\u001b[0m\u001b[37m\u001b[0m \u001b[1m317s\u001b[0m 115ms/step - acc: 0.8978 - loss: 0.2486 - val_acc: 0.8931 - val_loss: 0.2573\n",
      "Epoch 5/6\n",
      "\u001b[1m2756/2756\u001b[0m \u001b[32m━━━━━━━━━━━━━━━━━━━━\u001b[0m\u001b[37m\u001b[0m \u001b[1m305s\u001b[0m 111ms/step - acc: 0.9053 - loss: 0.2332 - val_acc: 0.8954 - val_loss: 0.2532\n",
      "Epoch 6/6\n",
      "\u001b[1m2756/2756\u001b[0m \u001b[32m━━━━━━━━━━━━━━━━━━━━\u001b[0m\u001b[37m\u001b[0m \u001b[1m309s\u001b[0m 112ms/step - acc: 0.9117 - loss: 0.2211 - val_acc: 0.8939 - val_loss: 0.2543\n"
     ]
    }
   ],
   "source": [
    "lstm_model_history = lstm_model.fit(X_train, y_train, batch_size=128, epochs=6, \n",
    "                                        verbose=1,validation_split=0.2)"
   ]
  },
  {
   "cell_type": "code",
   "execution_count": 185,
   "id": "a05d400d",
   "metadata": {},
   "outputs": [
    {
     "name": "stdout",
     "output_type": "stream",
     "text": [
      "\u001b[1m3445/3445\u001b[0m \u001b[32m━━━━━━━━━━━━━━━━━━━━\u001b[0m\u001b[37m\u001b[0m \u001b[1m65s\u001b[0m 19ms/step - acc: 0.8946 - loss: 0.2544\n"
     ]
    }
   ],
   "source": [
    "score = lstm_model.evaluate(X_test, y_test, verbose=1)"
   ]
  },
  {
   "cell_type": "code",
   "execution_count": 186,
   "id": "fd9522c8",
   "metadata": {},
   "outputs": [
    {
     "name": "stdout",
     "output_type": "stream",
     "text": [
      "Requirement already satisfied: matplotlib in /workspace/.pyenv_mirror/user/current/lib/python3.9/site-packages (3.9.4)\n",
      "Requirement already satisfied: contourpy>=1.0.1 in /workspace/.pyenv_mirror/user/current/lib/python3.9/site-packages (from matplotlib) (1.3.0)\n",
      "Requirement already satisfied: cycler>=0.10 in /workspace/.pyenv_mirror/user/current/lib/python3.9/site-packages (from matplotlib) (0.12.1)\n",
      "Requirement already satisfied: fonttools>=4.22.0 in /workspace/.pyenv_mirror/user/current/lib/python3.9/site-packages (from matplotlib) (4.56.0)\n",
      "Requirement already satisfied: kiwisolver>=1.3.1 in /workspace/.pyenv_mirror/user/current/lib/python3.9/site-packages (from matplotlib) (1.4.7)\n",
      "Requirement already satisfied: numpy>=1.23 in /workspace/.pyenv_mirror/user/current/lib/python3.9/site-packages (from matplotlib) (2.0.2)\n",
      "Requirement already satisfied: packaging>=20.0 in /workspace/.pyenv_mirror/user/current/lib/python3.9/site-packages (from matplotlib) (24.2)\n",
      "Requirement already satisfied: pillow>=8 in /workspace/.pyenv_mirror/user/current/lib/python3.9/site-packages (from matplotlib) (11.2.0)\n",
      "Requirement already satisfied: pyparsing>=2.3.1 in /workspace/.pyenv_mirror/user/current/lib/python3.9/site-packages (from matplotlib) (3.2.3)\n",
      "Requirement already satisfied: python-dateutil>=2.7 in /workspace/.pyenv_mirror/user/current/lib/python3.9/site-packages (from matplotlib) (2.9.0.post0)\n",
      "Requirement already satisfied: importlib-resources>=3.2.0 in /workspace/.pyenv_mirror/user/current/lib/python3.9/site-packages (from matplotlib) (6.5.2)\n",
      "Requirement already satisfied: zipp>=3.1.0 in /workspace/.pyenv_mirror/user/current/lib/python3.9/site-packages (from importlib-resources>=3.2.0->matplotlib) (3.21.0)\n",
      "Requirement already satisfied: six>=1.5 in /workspace/.pyenv_mirror/user/current/lib/python3.9/site-packages (from python-dateutil>=2.7->matplotlib) (1.17.0)\n",
      "Note: you may need to restart the kernel to use updated packages.\n"
     ]
    }
   ],
   "source": [
    "pip install matplotlib"
   ]
  },
  {
   "cell_type": "code",
   "execution_count": 187,
   "id": "9eb7dc2a",
   "metadata": {},
   "outputs": [
    {
     "data": {
      "image/png": "[encoded data removed]",
      "text/plain": [
       "<Figure size 640x480 with 1 Axes>"
      ]
     },
     "metadata": {},
     "output_type": "display_data"
    },
    {
     "data": {
      "image/png": "[encoded data removed]",
      "text/plain": [
       "<Figure size 640x480 with 1 Axes>"
      ]
     },
     "metadata": {},
     "output_type": "display_data"
    }
   ],
   "source": [
    "import matplotlib.pyplot as plt\n",
    "\n",
    "plt.plot(lstm_model_history.history['acc'])\n",
    "plt.plot(lstm_model_history.history['val_acc'])\n",
    "\n",
    "plt.title('model accuracy')\n",
    "plt.ylabel('accuracy')\n",
    "plt.xlabel('epoch')\n",
    "plt.legend(['train','test'], loc='upper left')\n",
    "plt.show()\n",
    "\n",
    "plt.plot(lstm_model_history.history['loss'])\n",
    "plt.plot(lstm_model_history.history['val_loss'])\n",
    "\n",
    "plt.title('model loss')\n",
    "plt.ylabel('loss')\n",
    "plt.xlabel('epoch')\n",
    "plt.legend(['train','test'], loc='upper left')\n",
    "plt.show()"
   ]
  },
  {
   "cell_type": "code",
   "execution_count": null,
   "id": "5e20e6e2",
   "metadata": {},
   "outputs": [],
   "source": []
  }
 ],
 "metadata": {
  "kernelspec": {
   "display_name": "Python 3",
   "language": "python",
   "name": "python3"
  },
  "language_info": {
   "codemirror_mode": {
    "name": "ipython",
    "version": 3
   },
   "file_extension": ".py",
   "mimetype": "text/x-python",
   "name": "python",
   "nbconvert_exporter": "python",
   "pygments_lexer": "ipython3",
   "version": "3.9.10"
  }
 },
 "nbformat": 4,
 "nbformat_minor": 5
}
