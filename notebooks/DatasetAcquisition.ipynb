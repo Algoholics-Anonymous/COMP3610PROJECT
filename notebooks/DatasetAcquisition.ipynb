{
 "cells": [
  {
   "cell_type": "code",
   "execution_count": 46,
   "id": "b8bb63b4",
   "metadata": {},
   "outputs": [
    {
     "name": "stderr",
     "output_type": "stream",
     "text": [
      "[nltk_data] Downloading package punkt_tab to\n",
      "[nltk_data]     C:\\Users\\saeed\\AppData\\Roaming\\nltk_data...\n",
      "[nltk_data]   Package punkt_tab is already up-to-date!\n",
      "[nltk_data] Downloading package stopwords to\n",
      "[nltk_data]     C:\\Users\\saeed\\AppData\\Roaming\\nltk_data...\n",
      "[nltk_data]   Package stopwords is already up-to-date!\n",
      "[nltk_data] Downloading package wordnet to\n",
      "[nltk_data]     C:\\Users\\saeed\\AppData\\Roaming\\nltk_data...\n",
      "[nltk_data]   Package wordnet is already up-to-date!\n"
     ]
    },
    {
     "data": {
      "text/plain": [
       "True"
      ]
     },
     "execution_count": 46,
     "metadata": {},
     "output_type": "execute_result"
    }
   ],
   "source": [
    "from utils.bigdata_a3_utils import *\n",
    "import pandas as pd\n",
    "import os\n",
    "from datasets import load_dataset\n",
    "from tqdm import tqdm\n",
    "import pandas as pd\n",
    "# from utils.preprocessing import *\n",
    "import pandas as pd\n",
    "import re\n",
    "import string\n",
    "import nltk\n",
    "from nltk.corpus import stopwords\n",
    "from nltk.tokenize import word_tokenize\n",
    "from nltk.stem import WordNetLemmatizer\n",
    "from nltk.corpus import wordnet\n",
    "nltk.download('punkt_tab')\n",
    "nltk.download('stopwords')\n",
    "nltk.download('wordnet')"
   ]
  },
  {
   "cell_type": "code",
   "execution_count": 47,
   "id": "c2fcff52",
   "metadata": {},
   "outputs": [],
   "source": [
    "os.makedirs(\"custom_dataset\", exist_ok=True)"
   ]
  },
  {
   "cell_type": "code",
   "execution_count": 48,
   "id": "4a94090f",
   "metadata": {},
   "outputs": [],
   "source": [
    "MAX_ROWS = 10000"
   ]
  },
  {
   "cell_type": "code",
   "execution_count": 49,
   "id": "fb0f1505",
   "metadata": {},
   "outputs": [],
   "source": [
    "reviews_csv_path = \"custom_dataset/reviews.csv\"\n",
    "metadata_csv_path = \"custom_dataset/metadata.csv\""
   ]
  },
  {
   "cell_type": "code",
   "execution_count": 50,
   "id": "af7a24ed",
   "metadata": {},
   "outputs": [],
   "source": [
    "# # for i, category in VALID_CATEGORIES:\n",
    "# for i, category in enumerate(tqdm(VALID_CATEGORIES, desc=\"Processing categories\")):\n",
    "#     print(f\"Processing {category}...\")\n",
    "\n",
    "#     try:\n",
    "#         review_dataset = load_dataset(\n",
    "#             \"McAuley-Lab/Amazon-Reviews-2023\", \n",
    "#             f\"raw_review_{category}\", \n",
    "#             trust_remote_code=True\n",
    "#         )\n",
    "\n",
    "#         review_df = pd.DataFrame(review_dataset['full'][:MAX_ROWS])\n",
    "\n",
    "#         review_df[\"category\"] = category \n",
    "        \n",
    "#         mode = 'w' if i == 0 else 'a'\n",
    "#         header = i == 0\n",
    "\n",
    "#         review_df.to_csv(reviews_csv_path, mode=mode, header=header, index=False)\n",
    "\n",
    "#         print(f\"Appended {len(review_df)} rows of {category} to {reviews_csv_path}.\")\n",
    "#     except Exception as e:\n",
    "#         print(f\"Error loading dataset for {category}: {e}\")\n",
    "    \n",
    "#     try:\n",
    "#         meta_dataset = load_dataset(\n",
    "#             \"McAuley-Lab/Amazon-Reviews-2023\", \n",
    "#             f\"raw_meta_{category}\", \n",
    "#             trust_remote_code=True\n",
    "#         )\n",
    "        \n",
    "#         # Convert to pandas DataFrame and limit to MAX_ROWS\n",
    "#         meta_df = pd.DataFrame(meta_dataset['full'][:MAX_ROWS])\n",
    "\n",
    "#         meta_df['category'] = category\n",
    "\n",
    "#         mode = 'w' if i == 0 else 'a'\n",
    "#         header = i == 0\n",
    "\n",
    "#         meta_df.to_csv(metadata_csv_path, mode=mode, header=header, index=False)\n",
    "#         print(f\"Loaded {len(meta_df)} rows of {category} metadata.\")\n",
    "#     except Exception as e:\n",
    "#         print(f\"Error loading dataset for {category}: {e}\")"
   ]
  },
  {
   "cell_type": "code",
   "execution_count": 51,
   "id": "509ec902",
   "metadata": {},
   "outputs": [
    {
     "name": "stderr",
     "output_type": "stream",
     "text": [
      "Processing categories:   0%|          | 0/34 [00:00<?, ?it/s]"
     ]
    },
    {
     "name": "stdout",
     "output_type": "stream",
     "text": [
      "\n",
      "Processing category: All_Beauty\n",
      "  ✓ Appended 10000 reviews from All_Beauty to custom_dataset/reviews.csv\n"
     ]
    },
    {
     "name": "stderr",
     "output_type": "stream",
     "text": [
      "Processing categories:   3%|▎         | 1/34 [00:10<06:02, 10.98s/it]"
     ]
    },
    {
     "name": "stdout",
     "output_type": "stream",
     "text": [
      "  ✓ Appended 10000 metadata records from All_Beauty to custom_dataset/metadata.csv\n",
      "\n",
      "Processing category: Amazon_Fashion\n",
      "  ✓ Appended 10000 reviews from Amazon_Fashion to custom_dataset/reviews.csv\n"
     ]
    },
    {
     "name": "stderr",
     "output_type": "stream",
     "text": [
      "Processing categories:   6%|▌         | 2/34 [00:20<05:14,  9.84s/it]"
     ]
    },
    {
     "name": "stdout",
     "output_type": "stream",
     "text": [
      "  ✓ Appended 10000 metadata records from Amazon_Fashion to custom_dataset/metadata.csv\n",
      "\n",
      "Processing category: Appliances\n",
      "  ✓ Appended 10000 reviews from Appliances to custom_dataset/reviews.csv\n"
     ]
    },
    {
     "name": "stderr",
     "output_type": "stream",
     "text": [
      "Processing categories:   9%|▉         | 3/34 [00:32<05:38, 10.91s/it]"
     ]
    },
    {
     "name": "stdout",
     "output_type": "stream",
     "text": [
      "  ✓ Appended 10000 metadata records from Appliances to custom_dataset/metadata.csv\n",
      "\n",
      "Processing category: Arts_Crafts_and_Sewing\n",
      "  ✓ Appended 10000 reviews from Arts_Crafts_and_Sewing to custom_dataset/reviews.csv\n"
     ]
    },
    {
     "name": "stderr",
     "output_type": "stream",
     "text": [
      "Processing categories:  12%|█▏        | 4/34 [00:43<05:32, 11.07s/it]"
     ]
    },
    {
     "name": "stdout",
     "output_type": "stream",
     "text": [
      "  ✓ Appended 10000 metadata records from Arts_Crafts_and_Sewing to custom_dataset/metadata.csv\n",
      "\n",
      "Processing category: Automotive\n",
      "  ✓ Appended 10000 reviews from Automotive to custom_dataset/reviews.csv\n"
     ]
    },
    {
     "name": "stderr",
     "output_type": "stream",
     "text": [
      "Processing categories:  15%|█▍        | 5/34 [00:54<05:16, 10.93s/it]"
     ]
    },
    {
     "name": "stdout",
     "output_type": "stream",
     "text": [
      "  ✓ Appended 10000 metadata records from Automotive to custom_dataset/metadata.csv\n",
      "\n",
      "Processing category: Baby_Products\n",
      "  ✓ Appended 10000 reviews from Baby_Products to custom_dataset/reviews.csv\n"
     ]
    },
    {
     "name": "stderr",
     "output_type": "stream",
     "text": [
      "Processing categories:  18%|█▊        | 6/34 [01:06<05:18, 11.39s/it]"
     ]
    },
    {
     "name": "stdout",
     "output_type": "stream",
     "text": [
      "  ✓ Appended 10000 metadata records from Baby_Products to custom_dataset/metadata.csv\n",
      "\n",
      "Processing category: Beauty_and_Personal_Care\n",
      "  ✓ Appended 10000 reviews from Beauty_and_Personal_Care to custom_dataset/reviews.csv\n"
     ]
    },
    {
     "name": "stderr",
     "output_type": "stream",
     "text": [
      "Processing categories:  21%|██        | 7/34 [01:17<05:04, 11.28s/it]"
     ]
    },
    {
     "name": "stdout",
     "output_type": "stream",
     "text": [
      "  ✓ Appended 10000 metadata records from Beauty_and_Personal_Care to custom_dataset/metadata.csv\n",
      "\n",
      "Processing category: Books\n",
      "  ✓ Appended 10000 reviews from Books to custom_dataset/reviews.csv\n"
     ]
    },
    {
     "name": "stderr",
     "output_type": "stream",
     "text": [
      "Processing categories:  24%|██▎       | 8/34 [01:32<05:22, 12.42s/it]"
     ]
    },
    {
     "name": "stdout",
     "output_type": "stream",
     "text": [
      "  ✓ Appended 10000 metadata records from Books to custom_dataset/metadata.csv\n",
      "\n",
      "Processing category: CDs_and_Vinyl\n",
      "  ✓ Appended 10000 reviews from CDs_and_Vinyl to custom_dataset/reviews.csv\n"
     ]
    },
    {
     "name": "stderr",
     "output_type": "stream",
     "text": [
      "Processing categories:  26%|██▋       | 9/34 [01:40<04:35, 11.02s/it]"
     ]
    },
    {
     "name": "stdout",
     "output_type": "stream",
     "text": [
      "  ✓ Appended 10000 metadata records from CDs_and_Vinyl to custom_dataset/metadata.csv\n",
      "\n",
      "Processing category: Cell_Phones_and_Accessories\n",
      "  ✓ Appended 10000 reviews from Cell_Phones_and_Accessories to custom_dataset/reviews.csv\n"
     ]
    },
    {
     "name": "stderr",
     "output_type": "stream",
     "text": [
      "Processing categories:  29%|██▉       | 10/34 [01:51<04:22, 10.96s/it]"
     ]
    },
    {
     "name": "stdout",
     "output_type": "stream",
     "text": [
      "  ✓ Appended 10000 metadata records from Cell_Phones_and_Accessories to custom_dataset/metadata.csv\n",
      "\n",
      "Processing category: Clothing_Shoes_and_Jewelry\n",
      "  ✓ Appended 10000 reviews from Clothing_Shoes_and_Jewelry to custom_dataset/reviews.csv\n"
     ]
    },
    {
     "name": "stderr",
     "output_type": "stream",
     "text": [
      "Processing categories:  32%|███▏      | 11/34 [02:00<03:57, 10.32s/it]"
     ]
    },
    {
     "name": "stdout",
     "output_type": "stream",
     "text": [
      "  ✓ Appended 10000 metadata records from Clothing_Shoes_and_Jewelry to custom_dataset/metadata.csv\n",
      "\n",
      "Processing category: Digital_Music\n",
      "  ✓ Appended 10000 reviews from Digital_Music to custom_dataset/reviews.csv\n"
     ]
    },
    {
     "name": "stderr",
     "output_type": "stream",
     "text": [
      "Processing categories:  35%|███▌      | 12/34 [02:05<03:15,  8.88s/it]"
     ]
    },
    {
     "name": "stdout",
     "output_type": "stream",
     "text": [
      "  ✓ Appended 10000 metadata records from Digital_Music to custom_dataset/metadata.csv\n",
      "\n",
      "Processing category: Electronics\n",
      "  ✓ Appended 10000 reviews from Electronics to custom_dataset/reviews.csv\n"
     ]
    },
    {
     "name": "stderr",
     "output_type": "stream",
     "text": [
      "Processing categories:  38%|███▊      | 13/34 [02:15<03:13,  9.23s/it]"
     ]
    },
    {
     "name": "stdout",
     "output_type": "stream",
     "text": [
      "  ✓ Appended 10000 metadata records from Electronics to custom_dataset/metadata.csv\n",
      "\n",
      "Processing category: Gift_Cards\n",
      "  ✓ Appended 10000 reviews from Gift_Cards to custom_dataset/reviews.csv\n"
     ]
    },
    {
     "name": "stderr",
     "output_type": "stream",
     "text": [
      "Processing categories:  41%|████      | 14/34 [02:18<02:26,  7.31s/it]"
     ]
    },
    {
     "name": "stdout",
     "output_type": "stream",
     "text": [
      "  ✓ Appended 1137 metadata records from Gift_Cards to custom_dataset/metadata.csv\n",
      "\n",
      "Processing category: Grocery_and_Gourmet_Food\n",
      "  ✓ Appended 10000 reviews from Grocery_and_Gourmet_Food to custom_dataset/reviews.csv\n"
     ]
    },
    {
     "name": "stderr",
     "output_type": "stream",
     "text": [
      "Processing categories:  44%|████▍     | 15/34 [02:26<02:24,  7.62s/it]"
     ]
    },
    {
     "name": "stdout",
     "output_type": "stream",
     "text": [
      "  ✓ Appended 10000 metadata records from Grocery_and_Gourmet_Food to custom_dataset/metadata.csv\n",
      "\n",
      "Processing category: Handmade_Products\n",
      "  ✓ Appended 10000 reviews from Handmade_Products to custom_dataset/reviews.csv\n"
     ]
    },
    {
     "name": "stderr",
     "output_type": "stream",
     "text": [
      "Processing categories:  47%|████▋     | 16/34 [02:35<02:23,  7.99s/it]"
     ]
    },
    {
     "name": "stdout",
     "output_type": "stream",
     "text": [
      "  ✓ Appended 10000 metadata records from Handmade_Products to custom_dataset/metadata.csv\n",
      "\n",
      "Processing category: Health_and_Household\n",
      "  ✓ Appended 10000 reviews from Health_and_Household to custom_dataset/reviews.csv\n"
     ]
    },
    {
     "name": "stderr",
     "output_type": "stream",
     "text": [
      "Processing categories:  50%|█████     | 17/34 [02:45<02:23,  8.44s/it]"
     ]
    },
    {
     "name": "stdout",
     "output_type": "stream",
     "text": [
      "  ✓ Appended 10000 metadata records from Health_and_Household to custom_dataset/metadata.csv\n",
      "\n",
      "Processing category: Health_and_Personal_Care\n",
      "  ✓ Appended 10000 reviews from Health_and_Personal_Care to custom_dataset/reviews.csv\n"
     ]
    },
    {
     "name": "stderr",
     "output_type": "stream",
     "text": [
      "Processing categories:  53%|█████▎    | 18/34 [02:51<02:06,  7.93s/it]"
     ]
    },
    {
     "name": "stdout",
     "output_type": "stream",
     "text": [
      "  ✓ Appended 10000 metadata records from Health_and_Personal_Care to custom_dataset/metadata.csv\n",
      "\n",
      "Processing category: Home_and_Kitchen\n",
      "  ✓ Appended 10000 reviews from Home_and_Kitchen to custom_dataset/reviews.csv\n"
     ]
    },
    {
     "name": "stderr",
     "output_type": "stream",
     "text": [
      "Processing categories:  56%|█████▌    | 19/34 [03:01<02:06,  8.43s/it]"
     ]
    },
    {
     "name": "stdout",
     "output_type": "stream",
     "text": [
      "  ✓ Appended 10000 metadata records from Home_and_Kitchen to custom_dataset/metadata.csv\n",
      "\n",
      "Processing category: Industrial_and_Scientific\n",
      "  ✓ Appended 10000 reviews from Industrial_and_Scientific to custom_dataset/reviews.csv\n"
     ]
    },
    {
     "name": "stderr",
     "output_type": "stream",
     "text": [
      "Processing categories:  59%|█████▉    | 20/34 [03:10<01:59,  8.56s/it]"
     ]
    },
    {
     "name": "stdout",
     "output_type": "stream",
     "text": [
      "  ✓ Appended 10000 metadata records from Industrial_and_Scientific to custom_dataset/metadata.csv\n",
      "\n",
      "Processing category: Kindle_Store\n",
      "  ✓ Appended 10000 reviews from Kindle_Store to custom_dataset/reviews.csv\n"
     ]
    },
    {
     "name": "stderr",
     "output_type": "stream",
     "text": [
      "Processing categories:  62%|██████▏   | 21/34 [03:21<02:01,  9.35s/it]"
     ]
    },
    {
     "name": "stdout",
     "output_type": "stream",
     "text": [
      "  ✓ Appended 10000 metadata records from Kindle_Store to custom_dataset/metadata.csv\n",
      "\n",
      "Processing category: Magazine_Subscriptions\n",
      "  ✓ Appended 10000 reviews from Magazine_Subscriptions to custom_dataset/reviews.csv\n"
     ]
    },
    {
     "name": "stderr",
     "output_type": "stream",
     "text": [
      "Processing categories:  65%|██████▍   | 22/34 [03:25<01:33,  7.81s/it]"
     ]
    },
    {
     "name": "stdout",
     "output_type": "stream",
     "text": [
      "  ✓ Appended 3391 metadata records from Magazine_Subscriptions to custom_dataset/metadata.csv\n",
      "\n",
      "Processing category: Movies_and_TV\n",
      "  ✓ Appended 10000 reviews from Movies_and_TV to custom_dataset/reviews.csv\n"
     ]
    },
    {
     "name": "stderr",
     "output_type": "stream",
     "text": [
      "Processing categories:  68%|██████▊   | 23/34 [03:32<01:21,  7.45s/it]"
     ]
    },
    {
     "name": "stdout",
     "output_type": "stream",
     "text": [
      "  ✓ Appended 10000 metadata records from Movies_and_TV to custom_dataset/metadata.csv\n",
      "\n",
      "Processing category: Musical_Instruments\n",
      "  ✓ Appended 10000 reviews from Musical_Instruments to custom_dataset/reviews.csv\n"
     ]
    },
    {
     "name": "stderr",
     "output_type": "stream",
     "text": [
      "Processing categories:  71%|███████   | 24/34 [03:41<01:19,  7.93s/it]"
     ]
    },
    {
     "name": "stdout",
     "output_type": "stream",
     "text": [
      "  ✓ Appended 10000 metadata records from Musical_Instruments to custom_dataset/metadata.csv\n",
      "\n",
      "Processing category: Office_Products\n",
      "  ✓ Appended 10000 reviews from Office_Products to custom_dataset/reviews.csv\n"
     ]
    },
    {
     "name": "stderr",
     "output_type": "stream",
     "text": [
      "Processing categories:  74%|███████▎  | 25/34 [03:50<01:14,  8.27s/it]"
     ]
    },
    {
     "name": "stdout",
     "output_type": "stream",
     "text": [
      "  ✓ Appended 10000 metadata records from Office_Products to custom_dataset/metadata.csv\n",
      "\n",
      "Processing category: Patio_Lawn_and_Garden\n",
      "  ✓ Appended 10000 reviews from Patio_Lawn_and_Garden to custom_dataset/reviews.csv\n"
     ]
    },
    {
     "name": "stderr",
     "output_type": "stream",
     "text": [
      "Processing categories:  76%|███████▋  | 26/34 [03:59<01:09,  8.63s/it]"
     ]
    },
    {
     "name": "stdout",
     "output_type": "stream",
     "text": [
      "  ✓ Appended 10000 metadata records from Patio_Lawn_and_Garden to custom_dataset/metadata.csv\n",
      "\n",
      "Processing category: Pet_Supplies\n",
      "  ✓ Appended 10000 reviews from Pet_Supplies to custom_dataset/reviews.csv\n"
     ]
    },
    {
     "name": "stderr",
     "output_type": "stream",
     "text": [
      "Processing categories:  79%|███████▉  | 27/34 [04:09<01:03,  9.02s/it]"
     ]
    },
    {
     "name": "stdout",
     "output_type": "stream",
     "text": [
      "  ✓ Appended 10000 metadata records from Pet_Supplies to custom_dataset/metadata.csv\n",
      "\n",
      "Processing category: Software\n",
      "  ✓ Appended 10000 reviews from Software to custom_dataset/reviews.csv\n"
     ]
    },
    {
     "name": "stderr",
     "output_type": "stream",
     "text": [
      "Processing categories:  82%|████████▏ | 28/34 [04:18<00:52,  8.78s/it]"
     ]
    },
    {
     "name": "stdout",
     "output_type": "stream",
     "text": [
      "  ✓ Appended 10000 metadata records from Software to custom_dataset/metadata.csv\n",
      "\n",
      "Processing category: Sports_and_Outdoors\n",
      "  ✓ Appended 10000 reviews from Sports_and_Outdoors to custom_dataset/reviews.csv\n"
     ]
    },
    {
     "name": "stderr",
     "output_type": "stream",
     "text": [
      "Processing categories:  85%|████████▌ | 29/34 [04:26<00:43,  8.68s/it]"
     ]
    },
    {
     "name": "stdout",
     "output_type": "stream",
     "text": [
      "  ✓ Appended 10000 metadata records from Sports_and_Outdoors to custom_dataset/metadata.csv\n",
      "\n",
      "Processing category: Subscription_Boxes\n",
      "  ✓ Appended 10000 reviews from Subscription_Boxes to custom_dataset/reviews.csv\n"
     ]
    },
    {
     "name": "stderr",
     "output_type": "stream",
     "text": [
      "Processing categories:  88%|████████▊ | 30/34 [04:30<00:28,  7.16s/it]"
     ]
    },
    {
     "name": "stdout",
     "output_type": "stream",
     "text": [
      "  ✓ Appended 641 metadata records from Subscription_Boxes to custom_dataset/metadata.csv\n",
      "\n",
      "Processing category: Tools_and_Home_Improvement\n",
      "  ✓ Appended 10000 reviews from Tools_and_Home_Improvement to custom_dataset/reviews.csv\n"
     ]
    },
    {
     "name": "stderr",
     "output_type": "stream",
     "text": [
      "Processing categories:  91%|█████████ | 31/34 [04:39<00:23,  7.80s/it]"
     ]
    },
    {
     "name": "stdout",
     "output_type": "stream",
     "text": [
      "  ✓ Appended 10000 metadata records from Tools_and_Home_Improvement to custom_dataset/metadata.csv\n",
      "\n",
      "Processing category: Toys_and_Games\n",
      "  ✓ Appended 10000 reviews from Toys_and_Games to custom_dataset/reviews.csv\n"
     ]
    },
    {
     "name": "stderr",
     "output_type": "stream",
     "text": [
      "Processing categories:  94%|█████████▍| 32/34 [04:49<00:17,  8.50s/it]"
     ]
    },
    {
     "name": "stdout",
     "output_type": "stream",
     "text": [
      "  ✓ Appended 10000 metadata records from Toys_and_Games to custom_dataset/metadata.csv\n",
      "\n",
      "Processing category: Video_Games\n",
      "  ✓ Appended 10000 reviews from Video_Games to custom_dataset/reviews.csv\n"
     ]
    },
    {
     "name": "stderr",
     "output_type": "stream",
     "text": [
      "Processing categories:  97%|█████████▋| 33/34 [04:59<00:08,  8.80s/it]"
     ]
    },
    {
     "name": "stdout",
     "output_type": "stream",
     "text": [
      "  ✓ Appended 10000 metadata records from Video_Games to custom_dataset/metadata.csv\n",
      "\n",
      "Processing category: Unknown\n",
      "  ✓ Appended 10000 reviews from Unknown to custom_dataset/reviews.csv\n"
     ]
    },
    {
     "name": "stderr",
     "output_type": "stream",
     "text": [
      "Processing categories: 100%|██████████| 34/34 [05:06<00:00,  9.00s/it]"
     ]
    },
    {
     "name": "stdout",
     "output_type": "stream",
     "text": [
      "  ✓ Appended 10000 metadata records from Unknown to custom_dataset/metadata.csv\n",
      "\n",
      "All categories processed!\n",
      "Review data saved to: custom_dataset/reviews.csv\n",
      "Metadata saved to: custom_dataset/metadata.csv\n"
     ]
    },
    {
     "name": "stderr",
     "output_type": "stream",
     "text": [
      "\n"
     ]
    }
   ],
   "source": [
    "first_review_df = None\n",
    "first_meta_df = None\n",
    "\n",
    "# Process each category\n",
    "for category in tqdm(VALID_CATEGORIES, desc=\"Processing categories\"):\n",
    "    print(f\"\\nProcessing category: {category}\")\n",
    "    \n",
    "    # Process review data\n",
    "    try:\n",
    "        # Use streaming mode with iterable dataset\n",
    "        review_dataset = load_dataset(\n",
    "            \"McAuley-Lab/Amazon-Reviews-2023\", \n",
    "            f\"raw_review_{category}\", \n",
    "            trust_remote_code=True,\n",
    "            split=\"full\",\n",
    "            streaming=True\n",
    "        )\n",
    "        \n",
    "        # Create an iterator for the dataset\n",
    "        review_iter = iter(review_dataset)\n",
    "        \n",
    "        # Collect reviews into a list (up to MAX_ROWS)\n",
    "        reviews = []\n",
    "        count = 0\n",
    "        \n",
    "        for item in review_iter:\n",
    "            if count >= MAX_ROWS:\n",
    "                break\n",
    "                \n",
    "            # Create a new dictionary instead of modifying the item in-place\n",
    "            review_item = dict(item)\n",
    "            review_item['category'] = category\n",
    "            reviews.append(review_item)\n",
    "            count += 1\n",
    "            \n",
    "            # Process in batches to conserve memory\n",
    "            if len(reviews) >= 1000 or count >= MAX_ROWS:\n",
    "                review_df = pd.DataFrame(reviews)\n",
    "                \n",
    "                # Check if this is the first batch we're writing\n",
    "                if first_review_df is None:\n",
    "                    review_df.to_csv(reviews_csv_path, mode='w', header=True, index=False)\n",
    "                    first_review_df = True\n",
    "                else:\n",
    "                    review_df.to_csv(reviews_csv_path, mode='a', header=False, index=False)\n",
    "                \n",
    "                # Clear the batch\n",
    "                reviews = []\n",
    "        \n",
    "        print(f\"  ✓ Appended {count} reviews from {category} to {reviews_csv_path}\")\n",
    "    except Exception as e:\n",
    "        print(f\"  ✗ Error processing reviews for {category}: {str(e)}\")\n",
    "    \n",
    "    # Process metadata\n",
    "    try:\n",
    "        # Use streaming mode with iterable dataset\n",
    "        meta_dataset = load_dataset(\n",
    "            \"McAuley-Lab/Amazon-Reviews-2023\", \n",
    "            f\"raw_meta_{category}\", \n",
    "            trust_remote_code=True,\n",
    "            split=\"full\",\n",
    "            streaming=True\n",
    "        )\n",
    "        \n",
    "        # Create an iterator for the dataset\n",
    "        meta_iter = iter(meta_dataset)\n",
    "        \n",
    "        # Collect metadata into a list (up to MAX_ROWS)\n",
    "        metadata = []\n",
    "        count = 0\n",
    "        \n",
    "        for item in meta_iter:\n",
    "            if count >= MAX_ROWS:\n",
    "                break\n",
    "                \n",
    "            # Create a new dictionary instead of modifying the item in-place\n",
    "            meta_item = dict(item)\n",
    "            meta_item['category'] = category\n",
    "            metadata.append(meta_item)\n",
    "            count += 1\n",
    "            \n",
    "            # Process in batches to conserve memory\n",
    "            if len(metadata) >= 1000 or count >= MAX_ROWS:\n",
    "                meta_df = pd.DataFrame(metadata)\n",
    "                \n",
    "                # Check if this is the first batch we're writing\n",
    "                if first_meta_df is None:\n",
    "                    meta_df.to_csv(metadata_csv_path, mode='w', header=True, index=False)\n",
    "                    first_meta_df = True\n",
    "                else:\n",
    "                    meta_df.to_csv(metadata_csv_path, mode='a', header=False, index=False)\n",
    "                \n",
    "                # Clear the batch\n",
    "                metadata = []\n",
    "        \n",
    "        print(f\"  ✓ Appended {count} metadata records from {category} to {metadata_csv_path}\")\n",
    "    except Exception as e:\n",
    "        print(f\"  ✗ Error processing metadata for {category}: {str(e)}\")\n",
    "\n",
    "print(f\"\\nAll categories processed!\")\n",
    "print(f\"Review data saved to: {reviews_csv_path}\")\n",
    "print(f\"Metadata saved to: {metadata_csv_path}\")"
   ]
  },
  {
   "cell_type": "code",
   "execution_count": 52,
   "id": "e7856125",
   "metadata": {},
   "outputs": [
    {
     "name": "stdout",
     "output_type": "stream",
     "text": [
      "[INFO] Deleting Hugging Face cache at: C:\\Users\\saeed\\.cache\\huggingface\\datasets\n",
      "[SUCCESS] Cache directory deleted.\n"
     ]
    }
   ],
   "source": [
    "delete_cache_directory()"
   ]
  },
  {
   "cell_type": "code",
   "execution_count": 53,
   "id": "e06e48e9",
   "metadata": {},
   "outputs": [],
   "source": [
    "def mergedatasets():\n",
    "    reviews = pd.read_csv(\"custom_dataset/reviews.csv\")\n",
    "    metadata = pd.read_csv(\"custom_dataset/metadata.csv\")\n",
    "\n",
    "    merged = pd.merge(reviews, metadata, on= 'parent_asin', how='inner', suffixes=('_review', '_metadata'))\n",
    "    return merged"
   ]
  },
  {
   "cell_type": "code",
   "execution_count": 54,
   "id": "0ee7a164",
   "metadata": {},
   "outputs": [
    {
     "name": "stderr",
     "output_type": "stream",
     "text": [
      "C:\\Users\\saeed\\AppData\\Local\\Temp\\ipykernel_25088\\3673331556.py:3: DtypeWarning: Columns (6,14,15) have mixed types. Specify dtype option on import or set low_memory=False.\n",
      "  metadata = pd.read_csv(\"custom_dataset/metadata.csv\")\n"
     ]
    }
   ],
   "source": [
    "merged = pd.DataFrame()\n",
    "merged = mergedatasets()"
   ]
  },
  {
   "cell_type": "code",
   "execution_count": 55,
   "id": "f84c5f10",
   "metadata": {},
   "outputs": [
    {
     "data": {
      "text/plain": [
       "(40278, 27)"
      ]
     },
     "execution_count": 55,
     "metadata": {},
     "output_type": "execute_result"
    }
   ],
   "source": [
    "merged.shape"
   ]
  },
  {
   "cell_type": "code",
   "execution_count": 56,
   "id": "14428f53",
   "metadata": {},
   "outputs": [
    {
     "data": {
      "text/plain": [
       "Index(['rating', 'title_review', 'text', 'images_review', 'asin',\n",
       "       'parent_asin', 'user_id', 'timestamp', 'helpful_vote',\n",
       "       'verified_purchase', 'category_review', 'main_category',\n",
       "       'title_metadata', 'average_rating', 'rating_number', 'features',\n",
       "       'description', 'price', 'images_metadata', 'videos', 'store',\n",
       "       'categories', 'details', 'bought_together', 'subtitle', 'author',\n",
       "       'category_metadata'],\n",
       "      dtype='object')"
      ]
     },
     "execution_count": 56,
     "metadata": {},
     "output_type": "execute_result"
    }
   ],
   "source": [
    "merged.columns"
   ]
  },
  {
   "cell_type": "code",
   "execution_count": 57,
   "id": "8fa86e4e",
   "metadata": {},
   "outputs": [],
   "source": [
    "merged = merged[merged['text'].str.strip().astype(bool)]"
   ]
  },
  {
   "cell_type": "code",
   "execution_count": 58,
   "id": "be6ea433",
   "metadata": {},
   "outputs": [
    {
     "data": {
      "text/plain": [
       "(40272, 27)"
      ]
     },
     "execution_count": 58,
     "metadata": {},
     "output_type": "execute_result"
    }
   ],
   "source": [
    "merged.shape"
   ]
  },
  {
   "cell_type": "code",
   "execution_count": 59,
   "id": "fdb43a80",
   "metadata": {},
   "outputs": [],
   "source": [
    "merged = merged.drop_duplicates(subset=['user_id', 'asin', 'text'], keep='first')"
   ]
  },
  {
   "cell_type": "code",
   "execution_count": 60,
   "id": "a23b619c",
   "metadata": {},
   "outputs": [
    {
     "data": {
      "text/plain": [
       "(40187, 27)"
      ]
     },
     "execution_count": 60,
     "metadata": {},
     "output_type": "execute_result"
    }
   ],
   "source": [
    "merged.shape"
   ]
  },
  {
   "cell_type": "code",
   "execution_count": 61,
   "id": "4321485e",
   "metadata": {},
   "outputs": [],
   "source": [
    "def extract_brand(row):\n",
    "    # Check if store exists and is not empty after stripping\n",
    "    store_value = row.get('store')\n",
    "    if isinstance(store_value, str) and store_value.strip():\n",
    "        return store_value.strip()  # Return store if it has a non-empty value\n",
    "    \n",
    "    # Try to extract brand from details\n",
    "    elif row.get('details'):\n",
    "        # Use a regex pattern similar to your original function\n",
    "        match = re.search(r\"Brand[:\\s\\-]*([A-Za-z0-9&\\s]+)\", row['details'], re.IGNORECASE)\n",
    "        if match:\n",
    "            return match.group(1).strip()  # Return the brand found in details\n",
    "    \n",
    "    # Default fallback\n",
    "    return 'Unknown'"
   ]
  },
  {
   "cell_type": "code",
   "execution_count": 62,
   "id": "1dbf2d3c",
   "metadata": {},
   "outputs": [],
   "source": [
    "merged.loc[:, 'brand'] = merged.apply(extract_brand, axis=1)"
   ]
  },
  {
   "cell_type": "code",
   "execution_count": 64,
   "id": "3e7e9be0",
   "metadata": {},
   "outputs": [],
   "source": [
    "merged.loc[:, 'review_length'] = merged['text'].apply(lambda x: len(x.split()) if isinstance(x, str) else 0)"
   ]
  },
  {
   "cell_type": "code",
   "execution_count": 68,
   "id": "7b0c3d82",
   "metadata": {},
   "outputs": [
    {
     "data": {
      "application/vnd.microsoft.datawrangler.viewer.v0+json": {
       "columns": [
        {
         "name": "index",
         "rawType": "int64",
         "type": "integer"
        },
        {
         "name": "rating",
         "rawType": "float64",
         "type": "float"
        },
        {
         "name": "title_review",
         "rawType": "object",
         "type": "string"
        },
        {
         "name": "text",
         "rawType": "object",
         "type": "string"
        },
        {
         "name": "images_review",
         "rawType": "object",
         "type": "string"
        },
        {
         "name": "asin",
         "rawType": "object",
         "type": "string"
        },
        {
         "name": "parent_asin",
         "rawType": "object",
         "type": "string"
        },
        {
         "name": "user_id",
         "rawType": "object",
         "type": "string"
        },
        {
         "name": "timestamp",
         "rawType": "int64",
         "type": "integer"
        },
        {
         "name": "helpful_vote",
         "rawType": "int64",
         "type": "integer"
        },
        {
         "name": "verified_purchase",
         "rawType": "bool",
         "type": "boolean"
        },
        {
         "name": "category_review",
         "rawType": "object",
         "type": "string"
        },
        {
         "name": "main_category",
         "rawType": "object",
         "type": "string"
        },
        {
         "name": "title_metadata",
         "rawType": "object",
         "type": "string"
        },
        {
         "name": "average_rating",
         "rawType": "float64",
         "type": "float"
        },
        {
         "name": "rating_number",
         "rawType": "float64",
         "type": "float"
        },
        {
         "name": "features",
         "rawType": "object",
         "type": "string"
        },
        {
         "name": "description",
         "rawType": "object",
         "type": "string"
        },
        {
         "name": "price",
         "rawType": "object",
         "type": "unknown"
        },
        {
         "name": "images_metadata",
         "rawType": "object",
         "type": "string"
        },
        {
         "name": "videos",
         "rawType": "object",
         "type": "string"
        },
        {
         "name": "store",
         "rawType": "object",
         "type": "string"
        },
        {
         "name": "categories",
         "rawType": "object",
         "type": "string"
        },
        {
         "name": "details",
         "rawType": "object",
         "type": "string"
        },
        {
         "name": "bought_together",
         "rawType": "float64",
         "type": "float"
        },
        {
         "name": "subtitle",
         "rawType": "object",
         "type": "unknown"
        },
        {
         "name": "author",
         "rawType": "object",
         "type": "unknown"
        },
        {
         "name": "category_metadata",
         "rawType": "object",
         "type": "string"
        },
        {
         "name": "brand",
         "rawType": "object",
         "type": "string"
        },
        {
         "name": "review_length",
         "rawType": "int64",
         "type": "integer"
        }
       ],
       "conversionMethod": "pd.DataFrame",
       "ref": "e5aad9ed-2ef9-467c-a3a5-6d05d1e789a2",
       "rows": [
        [
         "0",
         "3.0",
         "Meh",
         "These were lightweight and soft but much too small for my liking. I would have preferred two of these together to make one loc. For that reason I will not be repurchasing.",
         "[{'small_image_url': 'https://m.media-amazon.com/images/I/81FN4c0VHzL._SL256_.jpg', 'medium_image_url': 'https://m.media-amazon.com/images/I/81FN4c0VHzL._SL800_.jpg', 'large_image_url': 'https://m.media-amazon.com/images/I/81FN4c0VHzL._SL1600_.jpg', 'attachment_type': 'IMAGE'}]",
         "B088SZDGXG",
         "B08BBQ29N5",
         "AEYORY2AVPMCPDV57CE337YU5LXA",
         "1634275259292",
         "0",
         "True",
         "All_Beauty",
         "All Beauty",
         "Niseyo new Faux Locs 24 Inch Crochet Hair 6 Packs 120 Strands Long Soft Ombre Natural Crochet Braids (24'' 6Pcs T27)",
         "4.3",
         "62.0",
         "[]",
         "[]",
         null,
         "{'hi_res': ['https://m.media-amazon.com/images/I/61IdecPxMYL._SL1000_.jpg', 'https://m.media-amazon.com/images/I/61RDsKKv57L._SL1001_.jpg', 'https://m.media-amazon.com/images/I/71GiJjugRRL._SL1001_.jpg', 'https://m.media-amazon.com/images/I/71mT8DS1xbL._SL1001_.jpg', 'https://m.media-amazon.com/images/I/71hD0a5p9fL._SL1001_.jpg'], 'large': ['https://m.media-amazon.com/images/I/51Eh2NWQdXL.jpg', 'https://m.media-amazon.com/images/I/511QTk+HoKL.jpg', 'https://m.media-amazon.com/images/I/51woBK2NLuL.jpg', 'https://m.media-amazon.com/images/I/51mg72oaxPL.jpg', 'https://m.media-amazon.com/images/I/61RD3cm6NXL.jpg'], 'thumb': ['https://m.media-amazon.com/images/I/51Eh2NWQdXL._SS40_.jpg', 'https://m.media-amazon.com/images/I/511QTk+HoKL._SS40_.jpg', 'https://m.media-amazon.com/images/I/51woBK2NLuL._SS40_.jpg', 'https://m.media-amazon.com/images/I/51mg72oaxPL._SS40_.jpg', 'https://m.media-amazon.com/images/I/61RD3cm6NXL._SS40_.jpg'], 'variant': ['MAIN', 'PT01', 'PT02', 'PT03', 'PT04']}",
         "{'title': ['She loved them !', 'NEW FAUX 24 inch', 'I actually needed a 7th pack'], 'url': ['https://www.amazon.com/vdp/2821259379264c3797cce678460f8268?ref=dp_vse_rvc_0', 'https://www.amazon.com/vdp/6079aa64b30b4683beac0efd52081400?ref=dp_vse_rvc_1', 'https://www.amazon.com/vdp/033946862f034a03accb848d22d575f5?ref=dp_vse_rvc_2'], 'user_id': ['AHCD4LW2NA5WQD6DUYXFFR3X6TKQ', '', 'AH73TXO7I3BKNUL7FIFD2TUEW74A']}",
         "Niseyo",
         "[]",
         "{\"Brand\": \"Niseyo\", \"Extension Length\": \"24 Inches\", \"Hair Type\": \"All\", \"Material Feature\": \"Natural\", \"Product Dimensions\": \"15 x 8 x 3 inches; 1.57 Pounds\", \"UPC\": \"782931053590\"}",
         null,
         null,
         null,
         "All_Beauty",
         "Niseyo",
         "32"
        ]
       ],
       "shape": {
        "columns": 29,
        "rows": 1
       }
      },
      "text/html": [
       "<div>\n",
       "<style scoped>\n",
       "    .dataframe tbody tr th:only-of-type {\n",
       "        vertical-align: middle;\n",
       "    }\n",
       "\n",
       "    .dataframe tbody tr th {\n",
       "        vertical-align: top;\n",
       "    }\n",
       "\n",
       "    .dataframe thead th {\n",
       "        text-align: right;\n",
       "    }\n",
       "</style>\n",
       "<table border=\"1\" class=\"dataframe\">\n",
       "  <thead>\n",
       "    <tr style=\"text-align: right;\">\n",
       "      <th></th>\n",
       "      <th>rating</th>\n",
       "      <th>title_review</th>\n",
       "      <th>text</th>\n",
       "      <th>images_review</th>\n",
       "      <th>asin</th>\n",
       "      <th>parent_asin</th>\n",
       "      <th>user_id</th>\n",
       "      <th>timestamp</th>\n",
       "      <th>helpful_vote</th>\n",
       "      <th>verified_purchase</th>\n",
       "      <th>...</th>\n",
       "      <th>videos</th>\n",
       "      <th>store</th>\n",
       "      <th>categories</th>\n",
       "      <th>details</th>\n",
       "      <th>bought_together</th>\n",
       "      <th>subtitle</th>\n",
       "      <th>author</th>\n",
       "      <th>category_metadata</th>\n",
       "      <th>brand</th>\n",
       "      <th>review_length</th>\n",
       "    </tr>\n",
       "  </thead>\n",
       "  <tbody>\n",
       "    <tr>\n",
       "      <th>0</th>\n",
       "      <td>3.0</td>\n",
       "      <td>Meh</td>\n",
       "      <td>These were lightweight and soft but much too s...</td>\n",
       "      <td>[{'small_image_url': 'https://m.media-amazon.c...</td>\n",
       "      <td>B088SZDGXG</td>\n",
       "      <td>B08BBQ29N5</td>\n",
       "      <td>AEYORY2AVPMCPDV57CE337YU5LXA</td>\n",
       "      <td>1634275259292</td>\n",
       "      <td>0</td>\n",
       "      <td>True</td>\n",
       "      <td>...</td>\n",
       "      <td>{'title': ['She loved them !', 'NEW FAUX 24 in...</td>\n",
       "      <td>Niseyo</td>\n",
       "      <td>[]</td>\n",
       "      <td>{\"Brand\": \"Niseyo\", \"Extension Length\": \"24 In...</td>\n",
       "      <td>NaN</td>\n",
       "      <td>NaN</td>\n",
       "      <td>NaN</td>\n",
       "      <td>All_Beauty</td>\n",
       "      <td>Niseyo</td>\n",
       "      <td>32</td>\n",
       "    </tr>\n",
       "  </tbody>\n",
       "</table>\n",
       "<p>1 rows × 29 columns</p>\n",
       "</div>"
      ],
      "text/plain": [
       "   rating title_review                                               text  \\\n",
       "0     3.0          Meh  These were lightweight and soft but much too s...   \n",
       "\n",
       "                                       images_review        asin parent_asin  \\\n",
       "0  [{'small_image_url': 'https://m.media-amazon.c...  B088SZDGXG  B08BBQ29N5   \n",
       "\n",
       "                        user_id      timestamp  helpful_vote  \\\n",
       "0  AEYORY2AVPMCPDV57CE337YU5LXA  1634275259292             0   \n",
       "\n",
       "   verified_purchase  ...                                             videos  \\\n",
       "0               True  ...  {'title': ['She loved them !', 'NEW FAUX 24 in...   \n",
       "\n",
       "    store categories                                            details  \\\n",
       "0  Niseyo         []  {\"Brand\": \"Niseyo\", \"Extension Length\": \"24 In...   \n",
       "\n",
       "   bought_together subtitle author category_metadata   brand review_length  \n",
       "0              NaN      NaN    NaN        All_Beauty  Niseyo            32  \n",
       "\n",
       "[1 rows x 29 columns]"
      ]
     },
     "execution_count": 68,
     "metadata": {},
     "output_type": "execute_result"
    }
   ],
   "source": [
    "merged.head(1)"
   ]
  },
  {
   "cell_type": "code",
   "execution_count": 66,
   "id": "9beb8c26",
   "metadata": {},
   "outputs": [],
   "source": [
    "analysis_path = \"custom_dataset/analysis.csv\""
   ]
  },
  {
   "cell_type": "code",
   "execution_count": 69,
   "id": "38feef5e",
   "metadata": {},
   "outputs": [
    {
     "name": "stderr",
     "output_type": "stream",
     "text": [
      "C:\\Users\\saeed\\AppData\\Local\\Temp\\ipykernel_25088\\585969604.py:15: SettingWithCopyWarning: \n",
      "A value is trying to be set on a copy of a slice from a DataFrame\n",
      "\n",
      "See the caveats in the documentation: https://pandas.pydata.org/pandas-docs/stable/user_guide/indexing.html#returning-a-view-versus-a-copy\n",
      "  merged.rename(columns=needed_columns, inplace=True)\n"
     ]
    },
    {
     "data": {
      "text/plain": [
       "(40187, 10)"
      ]
     },
     "execution_count": 69,
     "metadata": {},
     "output_type": "execute_result"
    }
   ],
   "source": [
    "needed_columns = {\n",
    "                'main_category': 'category',\n",
    "                'brand': 'brand',\n",
    "                'title_metadata': 'item',\n",
    "                'rating': 'rating',\n",
    "                'text': 'reviewText',\n",
    "                'review_length': 'text_length',\n",
    "                'timestamp': 'timestamp',\n",
    "                'rating_number': 'numRating',\n",
    "                'average_rating': 'average_rating',\n",
    "                'helpful_vote':'total_votes'\n",
    "                }\n",
    "\n",
    "merged = merged[list(needed_columns.keys())]\n",
    "merged.rename(columns=needed_columns, inplace=True)\n",
    "merged.shape"
   ]
  },
  {
   "cell_type": "code",
   "execution_count": 70,
   "id": "c8078b23",
   "metadata": {},
   "outputs": [],
   "source": [
    "merged.to_csv(analysis_path, index=False)"
   ]
  },
  {
   "cell_type": "code",
   "execution_count": 71,
   "id": "33196576",
   "metadata": {},
   "outputs": [],
   "source": [
    "df = pd.read_csv(analysis_path)"
   ]
  },
  {
   "cell_type": "code",
   "execution_count": 72,
   "id": "7a342cb2",
   "metadata": {},
   "outputs": [
    {
     "data": {
      "application/vnd.microsoft.datawrangler.viewer.v0+json": {
       "columns": [
        {
         "name": "index",
         "rawType": "int64",
         "type": "integer"
        },
        {
         "name": "category",
         "rawType": "object",
         "type": "string"
        },
        {
         "name": "brand",
         "rawType": "object",
         "type": "string"
        },
        {
         "name": "item",
         "rawType": "object",
         "type": "string"
        },
        {
         "name": "rating",
         "rawType": "float64",
         "type": "float"
        },
        {
         "name": "reviewText",
         "rawType": "object",
         "type": "string"
        },
        {
         "name": "text_length",
         "rawType": "int64",
         "type": "integer"
        },
        {
         "name": "timestamp",
         "rawType": "int64",
         "type": "integer"
        },
        {
         "name": "numRating",
         "rawType": "float64",
         "type": "float"
        },
        {
         "name": "average_rating",
         "rawType": "float64",
         "type": "float"
        },
        {
         "name": "total_votes",
         "rawType": "int64",
         "type": "integer"
        }
       ],
       "conversionMethod": "pd.DataFrame",
       "ref": "62d7d1c2-3e13-4c36-b088-64a3c3ca6d84",
       "rows": [
        [
         "0",
         "All Beauty",
         "Niseyo",
         "Niseyo new Faux Locs 24 Inch Crochet Hair 6 Packs 120 Strands Long Soft Ombre Natural Crochet Braids (24'' 6Pcs T27)",
         "3.0",
         "These were lightweight and soft but much too small for my liking. I would have preferred two of these together to make one loc. For that reason I will not be repurchasing.",
         "32",
         "1634275259292",
         "62.0",
         "4.3",
         "0"
        ]
       ],
       "shape": {
        "columns": 10,
        "rows": 1
       }
      },
      "text/html": [
       "<div>\n",
       "<style scoped>\n",
       "    .dataframe tbody tr th:only-of-type {\n",
       "        vertical-align: middle;\n",
       "    }\n",
       "\n",
       "    .dataframe tbody tr th {\n",
       "        vertical-align: top;\n",
       "    }\n",
       "\n",
       "    .dataframe thead th {\n",
       "        text-align: right;\n",
       "    }\n",
       "</style>\n",
       "<table border=\"1\" class=\"dataframe\">\n",
       "  <thead>\n",
       "    <tr style=\"text-align: right;\">\n",
       "      <th></th>\n",
       "      <th>category</th>\n",
       "      <th>brand</th>\n",
       "      <th>item</th>\n",
       "      <th>rating</th>\n",
       "      <th>reviewText</th>\n",
       "      <th>text_length</th>\n",
       "      <th>timestamp</th>\n",
       "      <th>numRating</th>\n",
       "      <th>average_rating</th>\n",
       "      <th>total_votes</th>\n",
       "    </tr>\n",
       "  </thead>\n",
       "  <tbody>\n",
       "    <tr>\n",
       "      <th>0</th>\n",
       "      <td>All Beauty</td>\n",
       "      <td>Niseyo</td>\n",
       "      <td>Niseyo new Faux Locs 24 Inch Crochet Hair 6 Pa...</td>\n",
       "      <td>3.0</td>\n",
       "      <td>These were lightweight and soft but much too s...</td>\n",
       "      <td>32</td>\n",
       "      <td>1634275259292</td>\n",
       "      <td>62.0</td>\n",
       "      <td>4.3</td>\n",
       "      <td>0</td>\n",
       "    </tr>\n",
       "  </tbody>\n",
       "</table>\n",
       "</div>"
      ],
      "text/plain": [
       "     category   brand                                               item  \\\n",
       "0  All Beauty  Niseyo  Niseyo new Faux Locs 24 Inch Crochet Hair 6 Pa...   \n",
       "\n",
       "   rating                                         reviewText  text_length  \\\n",
       "0     3.0  These were lightweight and soft but much too s...           32   \n",
       "\n",
       "       timestamp  numRating  average_rating  total_votes  \n",
       "0  1634275259292       62.0             4.3            0  "
      ]
     },
     "execution_count": 72,
     "metadata": {},
     "output_type": "execute_result"
    }
   ],
   "source": [
    "df.head(1)"
   ]
  },
  {
   "cell_type": "code",
   "execution_count": 73,
   "id": "62e0d090",
   "metadata": {},
   "outputs": [
    {
     "data": {
      "application/vnd.microsoft.datawrangler.viewer.v0+json": {
       "columns": [
        {
         "name": "index",
         "rawType": "int64",
         "type": "integer"
        },
        {
         "name": "category",
         "rawType": "object",
         "type": "string"
        },
        {
         "name": "brand",
         "rawType": "object",
         "type": "string"
        },
        {
         "name": "item",
         "rawType": "object",
         "type": "string"
        },
        {
         "name": "rating",
         "rawType": "float64",
         "type": "float"
        },
        {
         "name": "reviewText",
         "rawType": "object",
         "type": "string"
        },
        {
         "name": "text_length",
         "rawType": "int64",
         "type": "integer"
        },
        {
         "name": "timestamp",
         "rawType": "int64",
         "type": "integer"
        },
        {
         "name": "numRating",
         "rawType": "float64",
         "type": "float"
        },
        {
         "name": "average_rating",
         "rawType": "float64",
         "type": "float"
        },
        {
         "name": "total_votes",
         "rawType": "int64",
         "type": "integer"
        }
       ],
       "conversionMethod": "pd.DataFrame",
       "ref": "5c18bf5f-bfd4-47f4-bc4c-1eaef94880d0",
       "rows": [
        [
         "0",
         "All Beauty",
         "Niseyo",
         "Niseyo new Faux Locs 24 Inch Crochet Hair 6 Packs 120 Strands Long Soft Ombre Natural Crochet Braids (24'' 6Pcs T27)",
         "3.0",
         "These were lightweight and soft but much too small for my liking. I would have preferred two of these together to make one loc. For that reason I will not be repurchasing.",
         "32",
         "1634275259292",
         "62.0",
         "4.3",
         "0"
        ]
       ],
       "shape": {
        "columns": 10,
        "rows": 1
       }
      },
      "text/html": [
       "<div>\n",
       "<style scoped>\n",
       "    .dataframe tbody tr th:only-of-type {\n",
       "        vertical-align: middle;\n",
       "    }\n",
       "\n",
       "    .dataframe tbody tr th {\n",
       "        vertical-align: top;\n",
       "    }\n",
       "\n",
       "    .dataframe thead th {\n",
       "        text-align: right;\n",
       "    }\n",
       "</style>\n",
       "<table border=\"1\" class=\"dataframe\">\n",
       "  <thead>\n",
       "    <tr style=\"text-align: right;\">\n",
       "      <th></th>\n",
       "      <th>category</th>\n",
       "      <th>brand</th>\n",
       "      <th>item</th>\n",
       "      <th>rating</th>\n",
       "      <th>reviewText</th>\n",
       "      <th>text_length</th>\n",
       "      <th>timestamp</th>\n",
       "      <th>numRating</th>\n",
       "      <th>average_rating</th>\n",
       "      <th>total_votes</th>\n",
       "    </tr>\n",
       "  </thead>\n",
       "  <tbody>\n",
       "    <tr>\n",
       "      <th>0</th>\n",
       "      <td>All Beauty</td>\n",
       "      <td>Niseyo</td>\n",
       "      <td>Niseyo new Faux Locs 24 Inch Crochet Hair 6 Pa...</td>\n",
       "      <td>3.0</td>\n",
       "      <td>These were lightweight and soft but much too s...</td>\n",
       "      <td>32</td>\n",
       "      <td>1634275259292</td>\n",
       "      <td>62.0</td>\n",
       "      <td>4.3</td>\n",
       "      <td>0</td>\n",
       "    </tr>\n",
       "  </tbody>\n",
       "</table>\n",
       "</div>"
      ],
      "text/plain": [
       "     category   brand                                               item  \\\n",
       "0  All Beauty  Niseyo  Niseyo new Faux Locs 24 Inch Crochet Hair 6 Pa...   \n",
       "\n",
       "   rating                                         reviewText  text_length  \\\n",
       "0     3.0  These were lightweight and soft but much too s...           32   \n",
       "\n",
       "       timestamp  numRating  average_rating  total_votes  \n",
       "0  1634275259292       62.0             4.3            0  "
      ]
     },
     "execution_count": 73,
     "metadata": {},
     "output_type": "execute_result"
    }
   ],
   "source": [
    "df.head(1)"
   ]
  },
  {
   "cell_type": "code",
   "execution_count": 74,
   "id": "64772224",
   "metadata": {},
   "outputs": [
    {
     "name": "stdout",
     "output_type": "stream",
     "text": [
      "(40187, 10)\n",
      "category          2699\n",
      "brand                0\n",
      "item                 4\n",
      "rating               0\n",
      "reviewText          12\n",
      "text_length          0\n",
      "timestamp            0\n",
      "numRating          286\n",
      "average_rating       0\n",
      "total_votes          0\n",
      "dtype: int64\n"
     ]
    }
   ],
   "source": [
    "print(df.shape)\n",
    "print(df.isnull().sum()) "
   ]
  },
  {
   "cell_type": "markdown",
   "id": "961bc6d9",
   "metadata": {},
   "source": [
    "## Custom popularity metric\n",
    "Popularity Score (PS)\n",
    "PS= 𝛼 × Number of Reviews + 𝛽 × Average Rating+ 𝛾 × Total Votes\n",
    "\n",
    "Where:\n",
    "\n",
    "Number of Reviews = total reviews per item per month (or week).\n",
    "\n",
    "Average Rating = mean of ratings per item per month.\n",
    "\n",
    "Total Votes = sum of votes (helpfulness) on the reviews per item per month.\n",
    "\n",
    "α, β, γ = tunable weights based on what you want to emphasize more."
   ]
  },
  {
   "cell_type": "code",
   "execution_count": 75,
   "id": "e3e0e17a",
   "metadata": {},
   "outputs": [],
   "source": [
    "alpha = 0.6\n",
    "beta = 0.3\n",
    "gamma = 0.1"
   ]
  },
  {
   "cell_type": "code",
   "execution_count": 76,
   "id": "1134e142",
   "metadata": {},
   "outputs": [],
   "source": [
    "df[\"popularity_score\"] = ((alpha * df[\"numRating\"]) + (beta * df[\"average_rating\"]) + (gamma * df[\"total_votes\"]))"
   ]
  },
  {
   "cell_type": "code",
   "execution_count": 77,
   "id": "0f159654",
   "metadata": {},
   "outputs": [
    {
     "data": {
      "application/vnd.microsoft.datawrangler.viewer.v0+json": {
       "columns": [
        {
         "name": "index",
         "rawType": "int64",
         "type": "integer"
        },
        {
         "name": "category",
         "rawType": "object",
         "type": "string"
        },
        {
         "name": "brand",
         "rawType": "object",
         "type": "string"
        },
        {
         "name": "item",
         "rawType": "object",
         "type": "string"
        },
        {
         "name": "rating",
         "rawType": "float64",
         "type": "float"
        },
        {
         "name": "reviewText",
         "rawType": "object",
         "type": "string"
        },
        {
         "name": "text_length",
         "rawType": "int64",
         "type": "integer"
        },
        {
         "name": "timestamp",
         "rawType": "int64",
         "type": "integer"
        },
        {
         "name": "numRating",
         "rawType": "float64",
         "type": "float"
        },
        {
         "name": "average_rating",
         "rawType": "float64",
         "type": "float"
        },
        {
         "name": "total_votes",
         "rawType": "int64",
         "type": "integer"
        },
        {
         "name": "popularity_score",
         "rawType": "float64",
         "type": "float"
        }
       ],
       "conversionMethod": "pd.DataFrame",
       "ref": "6784b61b-f06a-493e-84c8-ad62e831a2e9",
       "rows": [
        [
         "0",
         "All Beauty",
         "Niseyo",
         "Niseyo new Faux Locs 24 Inch Crochet Hair 6 Packs 120 Strands Long Soft Ombre Natural Crochet Braids (24'' 6Pcs T27)",
         "3.0",
         "These were lightweight and soft but much too small for my liking. I would have preferred two of these together to make one loc. For that reason I will not be repurchasing.",
         "32",
         "1634275259292",
         "62.0",
         "4.3",
         "0",
         "38.489999999999995"
        ]
       ],
       "shape": {
        "columns": 11,
        "rows": 1
       }
      },
      "text/html": [
       "<div>\n",
       "<style scoped>\n",
       "    .dataframe tbody tr th:only-of-type {\n",
       "        vertical-align: middle;\n",
       "    }\n",
       "\n",
       "    .dataframe tbody tr th {\n",
       "        vertical-align: top;\n",
       "    }\n",
       "\n",
       "    .dataframe thead th {\n",
       "        text-align: right;\n",
       "    }\n",
       "</style>\n",
       "<table border=\"1\" class=\"dataframe\">\n",
       "  <thead>\n",
       "    <tr style=\"text-align: right;\">\n",
       "      <th></th>\n",
       "      <th>category</th>\n",
       "      <th>brand</th>\n",
       "      <th>item</th>\n",
       "      <th>rating</th>\n",
       "      <th>reviewText</th>\n",
       "      <th>text_length</th>\n",
       "      <th>timestamp</th>\n",
       "      <th>numRating</th>\n",
       "      <th>average_rating</th>\n",
       "      <th>total_votes</th>\n",
       "      <th>popularity_score</th>\n",
       "    </tr>\n",
       "  </thead>\n",
       "  <tbody>\n",
       "    <tr>\n",
       "      <th>0</th>\n",
       "      <td>All Beauty</td>\n",
       "      <td>Niseyo</td>\n",
       "      <td>Niseyo new Faux Locs 24 Inch Crochet Hair 6 Pa...</td>\n",
       "      <td>3.0</td>\n",
       "      <td>These were lightweight and soft but much too s...</td>\n",
       "      <td>32</td>\n",
       "      <td>1634275259292</td>\n",
       "      <td>62.0</td>\n",
       "      <td>4.3</td>\n",
       "      <td>0</td>\n",
       "      <td>38.49</td>\n",
       "    </tr>\n",
       "  </tbody>\n",
       "</table>\n",
       "</div>"
      ],
      "text/plain": [
       "     category   brand                                               item  \\\n",
       "0  All Beauty  Niseyo  Niseyo new Faux Locs 24 Inch Crochet Hair 6 Pa...   \n",
       "\n",
       "   rating                                         reviewText  text_length  \\\n",
       "0     3.0  These were lightweight and soft but much too s...           32   \n",
       "\n",
       "       timestamp  numRating  average_rating  total_votes  popularity_score  \n",
       "0  1634275259292       62.0             4.3            0             38.49  "
      ]
     },
     "execution_count": 77,
     "metadata": {},
     "output_type": "execute_result"
    }
   ],
   "source": [
    "df.head(1)"
   ]
  },
  {
   "cell_type": "code",
   "execution_count": 78,
   "id": "9ba7a4d8",
   "metadata": {},
   "outputs": [],
   "source": [
    "reviews_to_clean = df[\"reviewText\"]"
   ]
  },
  {
   "cell_type": "code",
   "execution_count": 79,
   "id": "18c8af20",
   "metadata": {},
   "outputs": [
    {
     "data": {
      "text/plain": [
       "0    These were lightweight and soft but much too s...\n",
       "Name: reviewText, dtype: object"
      ]
     },
     "execution_count": 79,
     "metadata": {},
     "output_type": "execute_result"
    }
   ],
   "source": [
    "reviews_to_clean.head(1)"
   ]
  },
  {
   "cell_type": "code",
   "execution_count": 80,
   "id": "e5009072",
   "metadata": {},
   "outputs": [],
   "source": [
    "def clean_html(text):\n",
    "    # Remove URLs\n",
    "    text = re.sub(r'^https?:\\/\\/.*[\\r\\n]*', '', text, flags=re.MULTILINE)\n",
    "    # Remove HTML tags\n",
    "    text = re.sub('<.*?>+', '', text)\n",
    "    return text"
   ]
  },
  {
   "cell_type": "code",
   "execution_count": 81,
   "id": "0c46ed63",
   "metadata": {},
   "outputs": [],
   "source": [
    "def tokenize_df(text):\n",
    "    if isinstance(text, str):  # If the input is a string\n",
    "        tokens = word_tokenize(text)\n",
    "        tokens = [token for token in tokens if token.isalpha()]  # Keep only alphabetic tokens\n",
    "        return tokens\n",
    "    elif isinstance(text, (int, float)):  # If the input is an integer or float\n",
    "        return text  # Return the number as is\n",
    "    else:\n",
    "        return []"
   ]
  },
  {
   "cell_type": "code",
   "execution_count": 82,
   "id": "8a8493d2",
   "metadata": {},
   "outputs": [],
   "source": [
    "def remove_stopwords(tokens):\n",
    "    stop_words = (stopwords.words(\"english\"))\n",
    "    filtered_tokens = [token for token in tokens if token.lower() not in stop_words]\n",
    "    return filtered_tokens"
   ]
  },
  {
   "cell_type": "code",
   "execution_count": 83,
   "id": "865844a2",
   "metadata": {},
   "outputs": [],
   "source": [
    "def lemmatize_text(tokens):\n",
    "    if tokens is None:\n",
    "        return []  # Return an empty list if tokens is None\n",
    "    lemma = WordNetLemmatizer()\n",
    "    lemma_tokens = [lemma.lemmatize(word) for word in tokens if word is not None]  # Check for None\n",
    "    return lemma_tokens"
   ]
  },
  {
   "cell_type": "code",
   "execution_count": 84,
   "id": "d798a4a9",
   "metadata": {},
   "outputs": [],
   "source": [
    "def clean_text(text):\n",
    "    if not isinstance(text, str):  # Check if the input is not a string\n",
    "        return ''  # Return an empty string or handle it as needed\n",
    "    text = clean_html(text)\n",
    "    tokens = tokenize_df(text)\n",
    "    tokens = [token.lower() for token in tokens]\n",
    "    tokens = remove_stopwords(tokens)\n",
    "    tokens = [token.translate(str.maketrans('', '', string.punctuation)) for token in tokens]\n",
    "    tokens = lemmatize_text(tokens)\n",
    "    return ' '.join(tokens)"
   ]
  },
  {
   "cell_type": "code",
   "execution_count": 85,
   "id": "3c803d70",
   "metadata": {},
   "outputs": [],
   "source": [
    "cleaned_reviews = reviews_to_clean.apply(clean_text)"
   ]
  },
  {
   "cell_type": "code",
   "execution_count": 86,
   "id": "5dde3ffd",
   "metadata": {},
   "outputs": [],
   "source": [
    "cleaned_reviews = cleaned_reviews.apply(lambda x: re.sub(r\"\\s+\", \" \", str(x)).strip() if isinstance(x, (str, float, int)) else x)"
   ]
  },
  {
   "cell_type": "code",
   "execution_count": 87,
   "id": "e67d1b88",
   "metadata": {},
   "outputs": [],
   "source": [
    "df.rename(columns={'reviewText': 'cleanedText'}, inplace=True)"
   ]
  },
  {
   "cell_type": "code",
   "execution_count": 88,
   "id": "2cbbc508",
   "metadata": {},
   "outputs": [
    {
     "data": {
      "text/plain": [
       "Index(['category', 'brand', 'item', 'rating', 'cleanedText', 'text_length',\n",
       "       'timestamp', 'numRating', 'average_rating', 'total_votes',\n",
       "       'popularity_score'],\n",
       "      dtype='object')"
      ]
     },
     "execution_count": 88,
     "metadata": {},
     "output_type": "execute_result"
    }
   ],
   "source": [
    "df.columns"
   ]
  },
  {
   "cell_type": "code",
   "execution_count": 89,
   "id": "8debd65d",
   "metadata": {},
   "outputs": [],
   "source": [
    "df[\"cleanedText\"] = cleaned_reviews"
   ]
  },
  {
   "cell_type": "code",
   "execution_count": 90,
   "id": "ddbb24fb",
   "metadata": {},
   "outputs": [],
   "source": [
    "df[\"brand\"] = df[\"brand\"].apply(clean_text)"
   ]
  },
  {
   "cell_type": "code",
   "execution_count": 91,
   "id": "bb609562",
   "metadata": {},
   "outputs": [
    {
     "data": {
      "text/plain": [
       "0                 niseyo\n",
       "1               bali boo\n",
       "2                 iryasa\n",
       "3             fine touch\n",
       "4                  annie\n",
       "              ...       \n",
       "40182             gagowa\n",
       "40183              pepsi\n",
       "40184    annie homegrown\n",
       "40185                kar\n",
       "40186          funkyfish\n",
       "Name: brand, Length: 40187, dtype: object"
      ]
     },
     "execution_count": 91,
     "metadata": {},
     "output_type": "execute_result"
    }
   ],
   "source": [
    "df[\"brand\"]"
   ]
  },
  {
   "cell_type": "code",
   "execution_count": 92,
   "id": "8bb63237",
   "metadata": {},
   "outputs": [],
   "source": [
    "df['timestamp'] = pd.to_datetime(df['timestamp'], unit='ms')"
   ]
  },
  {
   "cell_type": "code",
   "execution_count": 95,
   "id": "c59dd68a",
   "metadata": {},
   "outputs": [
    {
     "data": {
      "application/vnd.microsoft.datawrangler.viewer.v0+json": {
       "columns": [
        {
         "name": "index",
         "rawType": "int64",
         "type": "integer"
        },
        {
         "name": "category",
         "rawType": "object",
         "type": "string"
        },
        {
         "name": "brand",
         "rawType": "object",
         "type": "string"
        },
        {
         "name": "item",
         "rawType": "object",
         "type": "string"
        },
        {
         "name": "rating",
         "rawType": "float64",
         "type": "float"
        },
        {
         "name": "cleanedText",
         "rawType": "object",
         "type": "string"
        },
        {
         "name": "text_length",
         "rawType": "int64",
         "type": "integer"
        },
        {
         "name": "timestamp",
         "rawType": "datetime64[ns]",
         "type": "datetime"
        },
        {
         "name": "numRating",
         "rawType": "float64",
         "type": "float"
        },
        {
         "name": "average_rating",
         "rawType": "float64",
         "type": "float"
        },
        {
         "name": "total_votes",
         "rawType": "int64",
         "type": "integer"
        },
        {
         "name": "popularity_score",
         "rawType": "float64",
         "type": "float"
        }
       ],
       "conversionMethod": "pd.DataFrame",
       "ref": "63dfa52b-39e2-4f60-856f-ab6df73acc02",
       "rows": [
        [
         "0",
         "All Beauty",
         "niseyo",
         "Niseyo new Faux Locs 24 Inch Crochet Hair 6 Packs 120 Strands Long Soft Ombre Natural Crochet Braids (24'' 6Pcs T27)",
         "3.0",
         "lightweight soft much small liking would preferred two together make one loc reason repurchasing",
         "32",
         "2021-10-15 05:20:59.292000",
         "62.0",
         "4.3",
         "0",
         "38.489999999999995"
        ]
       ],
       "shape": {
        "columns": 11,
        "rows": 1
       }
      },
      "text/html": [
       "<div>\n",
       "<style scoped>\n",
       "    .dataframe tbody tr th:only-of-type {\n",
       "        vertical-align: middle;\n",
       "    }\n",
       "\n",
       "    .dataframe tbody tr th {\n",
       "        vertical-align: top;\n",
       "    }\n",
       "\n",
       "    .dataframe thead th {\n",
       "        text-align: right;\n",
       "    }\n",
       "</style>\n",
       "<table border=\"1\" class=\"dataframe\">\n",
       "  <thead>\n",
       "    <tr style=\"text-align: right;\">\n",
       "      <th></th>\n",
       "      <th>category</th>\n",
       "      <th>brand</th>\n",
       "      <th>item</th>\n",
       "      <th>rating</th>\n",
       "      <th>cleanedText</th>\n",
       "      <th>text_length</th>\n",
       "      <th>timestamp</th>\n",
       "      <th>numRating</th>\n",
       "      <th>average_rating</th>\n",
       "      <th>total_votes</th>\n",
       "      <th>popularity_score</th>\n",
       "    </tr>\n",
       "  </thead>\n",
       "  <tbody>\n",
       "    <tr>\n",
       "      <th>0</th>\n",
       "      <td>All Beauty</td>\n",
       "      <td>niseyo</td>\n",
       "      <td>Niseyo new Faux Locs 24 Inch Crochet Hair 6 Pa...</td>\n",
       "      <td>3.0</td>\n",
       "      <td>lightweight soft much small liking would prefe...</td>\n",
       "      <td>32</td>\n",
       "      <td>2021-10-15 05:20:59.292</td>\n",
       "      <td>62.0</td>\n",
       "      <td>4.3</td>\n",
       "      <td>0</td>\n",
       "      <td>38.49</td>\n",
       "    </tr>\n",
       "  </tbody>\n",
       "</table>\n",
       "</div>"
      ],
      "text/plain": [
       "     category   brand                                               item  \\\n",
       "0  All Beauty  niseyo  Niseyo new Faux Locs 24 Inch Crochet Hair 6 Pa...   \n",
       "\n",
       "   rating                                        cleanedText  text_length  \\\n",
       "0     3.0  lightweight soft much small liking would prefe...           32   \n",
       "\n",
       "                timestamp  numRating  average_rating  total_votes  \\\n",
       "0 2021-10-15 05:20:59.292       62.0             4.3            0   \n",
       "\n",
       "   popularity_score  \n",
       "0             38.49  "
      ]
     },
     "execution_count": 95,
     "metadata": {},
     "output_type": "execute_result"
    }
   ],
   "source": [
    "df.head(1)"
   ]
  },
  {
   "cell_type": "code",
   "execution_count": 94,
   "id": "a86eb8ad",
   "metadata": {},
   "outputs": [],
   "source": [
    "df.to_csv(\"csvs/AnalysisDataset.csv\")"
   ]
  },
  {
   "cell_type": "code",
   "execution_count": null,
   "id": "f74782e7",
   "metadata": {},
   "outputs": [],
   "source": []
  }
 ],
 "metadata": {
  "kernelspec": {
   "display_name": "base",
   "language": "python",
   "name": "python3"
  },
  "language_info": {
   "codemirror_mode": {
    "name": "ipython",
    "version": 3
   },
   "file_extension": ".py",
   "mimetype": "text/x-python",
   "name": "python",
   "nbconvert_exporter": "python",
   "pygments_lexer": "ipython3",
   "version": "3.12.3"
  }
 },
 "nbformat": 4,
 "nbformat_minor": 5
}
