{
 "cells": [
  {
   "cell_type": "code",
   "execution_count": 132,
   "id": "5a389e84",
   "metadata": {},
   "outputs": [
    {
     "name": "stdout",
     "output_type": "stream",
     "text": [
      "Requirement already satisfied: imbalanced-learn in c:\\users\\kaila\\appdata\\local\\programs\\python\\python312\\lib\\site-packages (0.13.0)\n",
      "Requirement already satisfied: numpy<3,>=1.24.3 in c:\\users\\kaila\\appdata\\local\\programs\\python\\python312\\lib\\site-packages (from imbalanced-learn) (2.1.3)\n",
      "Requirement already satisfied: scipy<2,>=1.10.1 in c:\\users\\kaila\\appdata\\local\\programs\\python\\python312\\lib\\site-packages (from imbalanced-learn) (1.15.2)\n",
      "Requirement already satisfied: scikit-learn<2,>=1.3.2 in c:\\users\\kaila\\appdata\\local\\programs\\python\\python312\\lib\\site-packages (from imbalanced-learn) (1.6.1)\n",
      "Requirement already satisfied: sklearn-compat<1,>=0.1 in c:\\users\\kaila\\appdata\\local\\programs\\python\\python312\\lib\\site-packages (from imbalanced-learn) (0.1.3)\n",
      "Requirement already satisfied: joblib<2,>=1.1.1 in c:\\users\\kaila\\appdata\\local\\programs\\python\\python312\\lib\\site-packages (from imbalanced-learn) (1.4.2)\n",
      "Requirement already satisfied: threadpoolctl<4,>=2.0.0 in c:\\users\\kaila\\appdata\\local\\programs\\python\\python312\\lib\\site-packages (from imbalanced-learn) (3.6.0)\n"
     ]
    },
    {
     "name": "stderr",
     "output_type": "stream",
     "text": [
      "\n",
      "[notice] A new release of pip is available: 25.0.1 -> 25.1.1\n",
      "[notice] To update, run: python.exe -m pip install --upgrade pip\n",
      "\n",
      "[notice] A new release of pip is available: 25.0.1 -> 25.1.1\n",
      "[notice] To update, run: python.exe -m pip install --upgrade pip\n"
     ]
    },
    {
     "name": "stdout",
     "output_type": "stream",
     "text": [
      "Requirement already satisfied: nltk in c:\\users\\kaila\\appdata\\local\\programs\\python\\python312\\lib\\site-packages (3.9.1)\n",
      "Requirement already satisfied: click in c:\\users\\kaila\\appdata\\local\\programs\\python\\python312\\lib\\site-packages (from nltk) (8.1.7)\n",
      "Requirement already satisfied: joblib in c:\\users\\kaila\\appdata\\local\\programs\\python\\python312\\lib\\site-packages (from nltk) (1.4.2)\n",
      "Requirement already satisfied: regex>=2021.8.3 in c:\\users\\kaila\\appdata\\local\\programs\\python\\python312\\lib\\site-packages (from nltk) (2024.11.6)\n",
      "Requirement already satisfied: tqdm in c:\\users\\kaila\\appdata\\local\\programs\\python\\python312\\lib\\site-packages (from nltk) (4.67.1)\n",
      "Requirement already satisfied: colorama in c:\\users\\kaila\\appdata\\local\\programs\\python\\python312\\lib\\site-packages (from click->nltk) (0.4.6)\n"
     ]
    },
    {
     "name": "stderr",
     "output_type": "stream",
     "text": [
      "[nltk_data] Downloading package averaged_perceptron_tagger_eng to\n",
      "[nltk_data]     C:\\Users\\kaila\\AppData\\Roaming\\nltk_data...\n",
      "[nltk_data]   Package averaged_perceptron_tagger_eng is already up-to-\n",
      "[nltk_data]       date!\n",
      "[nltk_data] Downloading package punkt_tab to\n",
      "[nltk_data]     C:\\Users\\kaila\\AppData\\Roaming\\nltk_data...\n",
      "[nltk_data]   Package punkt_tab is already up-to-date!\n",
      "[nltk_data] Downloading package stopwords to\n",
      "[nltk_data]     C:\\Users\\kaila\\AppData\\Roaming\\nltk_data...\n",
      "[nltk_data]   Package stopwords is already up-to-date!\n",
      "[nltk_data] Downloading package wordnet to\n",
      "[nltk_data]     C:\\Users\\kaila\\AppData\\Roaming\\nltk_data...\n",
      "[nltk_data]   Package wordnet is already up-to-date!\n"
     ]
    },
    {
     "name": "stdout",
     "output_type": "stream",
     "text": [
      "Requirement already satisfied: wordcloud in c:\\users\\kaila\\appdata\\local\\programs\\python\\python312\\lib\\site-packages (1.9.4)\n",
      "Requirement already satisfied: numpy>=1.6.1 in c:\\users\\kaila\\appdata\\local\\programs\\python\\python312\\lib\\site-packages (from wordcloud) (2.1.3)\n",
      "Requirement already satisfied: pillow in c:\\users\\kaila\\appdata\\local\\programs\\python\\python312\\lib\\site-packages (from wordcloud) (11.1.0)\n",
      "Requirement already satisfied: matplotlib in c:\\users\\kaila\\appdata\\local\\programs\\python\\python312\\lib\\site-packages (from wordcloud) (3.10.0)\n",
      "Requirement already satisfied: contourpy>=1.0.1 in c:\\users\\kaila\\appdata\\local\\programs\\python\\python312\\lib\\site-packages (from matplotlib->wordcloud) (1.3.1)\n",
      "Requirement already satisfied: cycler>=0.10 in c:\\users\\kaila\\appdata\\local\\programs\\python\\python312\\lib\\site-packages (from matplotlib->wordcloud) (0.12.1)\n",
      "Requirement already satisfied: fonttools>=4.22.0 in c:\\users\\kaila\\appdata\\local\\programs\\python\\python312\\lib\\site-packages (from matplotlib->wordcloud) (4.56.0)\n",
      "Requirement already satisfied: kiwisolver>=1.3.1 in c:\\users\\kaila\\appdata\\local\\programs\\python\\python312\\lib\\site-packages (from matplotlib->wordcloud) (1.4.8)\n",
      "Requirement already satisfied: packaging>=20.0 in c:\\users\\kaila\\appdata\\local\\programs\\python\\python312\\lib\\site-packages (from matplotlib->wordcloud) (24.1)\n",
      "Requirement already satisfied: pyparsing>=2.3.1 in c:\\users\\kaila\\appdata\\local\\programs\\python\\python312\\lib\\site-packages (from matplotlib->wordcloud) (3.2.1)\n",
      "Requirement already satisfied: python-dateutil>=2.7 in c:\\users\\kaila\\appdata\\local\\programs\\python\\python312\\lib\\site-packages (from matplotlib->wordcloud) (2.9.0.post0)\n",
      "Requirement already satisfied: six>=1.5 in c:\\users\\kaila\\appdata\\local\\programs\\python\\python312\\lib\\site-packages (from python-dateutil>=2.7->matplotlib->wordcloud) (1.17.0)\n"
     ]
    },
    {
     "name": "stderr",
     "output_type": "stream",
     "text": [
      "\n",
      "[notice] A new release of pip is available: 25.0.1 -> 25.1.1\n",
      "[notice] To update, run: python.exe -m pip install --upgrade pip\n"
     ]
    },
    {
     "name": "stdout",
     "output_type": "stream",
     "text": [
      "Requirement already satisfied: tensorflow in c:\\users\\kaila\\appdata\\local\\programs\\python\\python312\\lib\\site-packages (2.19.0)\n",
      "Requirement already satisfied: absl-py>=1.0.0 in c:\\users\\kaila\\appdata\\local\\programs\\python\\python312\\lib\\site-packages (from tensorflow) (2.2.2)\n",
      "Requirement already satisfied: astunparse>=1.6.0 in c:\\users\\kaila\\appdata\\local\\programs\\python\\python312\\lib\\site-packages (from tensorflow) (1.6.3)\n",
      "Requirement already satisfied: flatbuffers>=24.3.25 in c:\\users\\kaila\\appdata\\local\\programs\\python\\python312\\lib\\site-packages (from tensorflow) (25.2.10)\n",
      "Requirement already satisfied: gast!=0.5.0,!=0.5.1,!=0.5.2,>=0.2.1 in c:\\users\\kaila\\appdata\\local\\programs\\python\\python312\\lib\\site-packages (from tensorflow) (0.6.0)\n",
      "Requirement already satisfied: google-pasta>=0.1.1 in c:\\users\\kaila\\appdata\\local\\programs\\python\\python312\\lib\\site-packages (from tensorflow) (0.2.0)\n",
      "Requirement already satisfied: libclang>=13.0.0 in c:\\users\\kaila\\appdata\\local\\programs\\python\\python312\\lib\\site-packages (from tensorflow) (18.1.1)\n",
      "Requirement already satisfied: opt-einsum>=2.3.2 in c:\\users\\kaila\\appdata\\local\\programs\\python\\python312\\lib\\site-packages (from tensorflow) (3.4.0)\n",
      "Requirement already satisfied: packaging in c:\\users\\kaila\\appdata\\local\\programs\\python\\python312\\lib\\site-packages (from tensorflow) (24.1)\n",
      "Requirement already satisfied: protobuf!=4.21.0,!=4.21.1,!=4.21.2,!=4.21.3,!=4.21.4,!=4.21.5,<6.0.0dev,>=3.20.3 in c:\\users\\kaila\\appdata\\local\\programs\\python\\python312\\lib\\site-packages (from tensorflow) (5.29.4)\n",
      "Requirement already satisfied: requests<3,>=2.21.0 in c:\\users\\kaila\\appdata\\local\\programs\\python\\python312\\lib\\site-packages (from tensorflow) (2.32.3)\n",
      "Requirement already satisfied: setuptools in c:\\users\\kaila\\appdata\\local\\programs\\python\\python312\\lib\\site-packages (from tensorflow) (75.8.0)\n",
      "Requirement already satisfied: six>=1.12.0 in c:\\users\\kaila\\appdata\\local\\programs\\python\\python312\\lib\\site-packages (from tensorflow) (1.17.0)\n",
      "Requirement already satisfied: termcolor>=1.1.0 in c:\\users\\kaila\\appdata\\local\\programs\\python\\python312\\lib\\site-packages (from tensorflow) (2.3.0)\n",
      "Requirement already satisfied: typing-extensions>=3.6.6 in c:\\users\\kaila\\appdata\\local\\programs\\python\\python312\\lib\\site-packages (from tensorflow) (4.12.2)\n",
      "Requirement already satisfied: wrapt>=1.11.0 in c:\\users\\kaila\\appdata\\local\\programs\\python\\python312\\lib\\site-packages (from tensorflow) (1.17.2)\n",
      "Requirement already satisfied: grpcio<2.0,>=1.24.3 in c:\\users\\kaila\\appdata\\local\\programs\\python\\python312\\lib\\site-packages (from tensorflow) (1.71.0)\n",
      "Requirement already satisfied: tensorboard~=2.19.0 in c:\\users\\kaila\\appdata\\local\\programs\\python\\python312\\lib\\site-packages (from tensorflow) (2.19.0)\n",
      "Requirement already satisfied: keras>=3.5.0 in c:\\users\\kaila\\appdata\\local\\programs\\python\\python312\\lib\\site-packages (from tensorflow) (3.9.2)\n",
      "Requirement already satisfied: numpy<2.2.0,>=1.26.0 in c:\\users\\kaila\\appdata\\local\\programs\\python\\python312\\lib\\site-packages (from tensorflow) (2.1.3)\n",
      "Requirement already satisfied: h5py>=3.11.0 in c:\\users\\kaila\\appdata\\local\\programs\\python\\python312\\lib\\site-packages (from tensorflow) (3.13.0)\n",
      "Requirement already satisfied: ml-dtypes<1.0.0,>=0.5.1 in c:\\users\\kaila\\appdata\\local\\programs\\python\\python312\\lib\\site-packages (from tensorflow) (0.5.1)\n",
      "Requirement already satisfied: wheel<1.0,>=0.23.0 in c:\\users\\kaila\\appdata\\local\\programs\\python\\python312\\lib\\site-packages (from astunparse>=1.6.0->tensorflow) (0.45.1)\n",
      "Requirement already satisfied: rich in c:\\users\\kaila\\appdata\\local\\programs\\python\\python312\\lib\\site-packages (from keras>=3.5.0->tensorflow) (14.0.0)\n",
      "Requirement already satisfied: namex in c:\\users\\kaila\\appdata\\local\\programs\\python\\python312\\lib\\site-packages (from keras>=3.5.0->tensorflow) (0.0.8)\n",
      "Requirement already satisfied: optree in c:\\users\\kaila\\appdata\\local\\programs\\python\\python312\\lib\\site-packages (from keras>=3.5.0->tensorflow) (0.14.1)\n",
      "Requirement already satisfied: charset-normalizer<4,>=2 in c:\\users\\kaila\\appdata\\local\\programs\\python\\python312\\lib\\site-packages (from requests<3,>=2.21.0->tensorflow) (3.4.1)\n",
      "Requirement already satisfied: idna<4,>=2.5 in c:\\users\\kaila\\appdata\\local\\programs\\python\\python312\\lib\\site-packages (from requests<3,>=2.21.0->tensorflow) (3.10)\n",
      "Requirement already satisfied: urllib3<3,>=1.21.1 in c:\\users\\kaila\\appdata\\local\\programs\\python\\python312\\lib\\site-packages (from requests<3,>=2.21.0->tensorflow) (2.3.0)\n",
      "Requirement already satisfied: certifi>=2017.4.17 in c:\\users\\kaila\\appdata\\local\\programs\\python\\python312\\lib\\site-packages (from requests<3,>=2.21.0->tensorflow) (2025.1.31)\n",
      "Requirement already satisfied: markdown>=2.6.8 in c:\\users\\kaila\\appdata\\local\\programs\\python\\python312\\lib\\site-packages (from tensorboard~=2.19.0->tensorflow) (3.7)\n",
      "Requirement already satisfied: tensorboard-data-server<0.8.0,>=0.7.0 in c:\\users\\kaila\\appdata\\local\\programs\\python\\python312\\lib\\site-packages (from tensorboard~=2.19.0->tensorflow) (0.7.2)\n",
      "Requirement already satisfied: werkzeug>=1.0.1 in c:\\users\\kaila\\appdata\\local\\programs\\python\\python312\\lib\\site-packages (from tensorboard~=2.19.0->tensorflow) (3.1.3)\n",
      "Requirement already satisfied: MarkupSafe>=2.1.1 in c:\\users\\kaila\\appdata\\local\\programs\\python\\python312\\lib\\site-packages (from werkzeug>=1.0.1->tensorboard~=2.19.0->tensorflow) (3.0.2)\n",
      "Requirement already satisfied: markdown-it-py>=2.2.0 in c:\\users\\kaila\\appdata\\local\\programs\\python\\python312\\lib\\site-packages (from rich->keras>=3.5.0->tensorflow) (3.0.0)\n",
      "Requirement already satisfied: pygments<3.0.0,>=2.13.0 in c:\\users\\kaila\\appdata\\roaming\\python\\python312\\site-packages (from rich->keras>=3.5.0->tensorflow) (2.19.1)\n",
      "Requirement already satisfied: mdurl~=0.1 in c:\\users\\kaila\\appdata\\local\\programs\\python\\python312\\lib\\site-packages (from markdown-it-py>=2.2.0->rich->keras>=3.5.0->tensorflow) (0.1.2)\n"
     ]
    },
    {
     "name": "stderr",
     "output_type": "stream",
     "text": [
      "\n",
      "[notice] A new release of pip is available: 25.0.1 -> 25.1.1\n",
      "[notice] To update, run: python.exe -m pip install --upgrade pip\n"
     ]
    }
   ],
   "source": [
    "import pandas as pd\n",
    "import numpy as np\n",
    "import matplotlib.pyplot as plt\n",
    "import seaborn as sns\n",
    "from numpy import array\n",
    "# import string\n",
    "# from string import punctuation\n",
    "# from itertools import chain\n",
    "\n",
    "from sklearn.model_selection import train_test_split\n",
    "from sklearn.metrics import recall_score, f1_score\n",
    "\n",
    "from sklearn.feature_extraction.text import CountVectorizer\n",
    "from sklearn.feature_extraction.text import TfidfVectorizer\n",
    "from sklearn.linear_model import LogisticRegression\n",
    "from sklearn.decomposition import NMF, LatentDirichletAllocation, TruncatedSVD\n",
    "from sklearn.feature_selection import SelectPercentile, chi2, f_regression, f_classif\n",
    "from sklearn.utils import shuffle\n",
    "from scipy.stats import pearsonr\n",
    "\n",
    "! pip install imbalanced-learn\n",
    "from imblearn.over_sampling import SMOTE\n",
    "# from sklearn import svm\n",
    "\n",
    "# nltk.download('stopwords')\n",
    "# from nltk.stem import WordNetLemmatizer\n",
    "# from nltk import ngrams\n",
    "\n",
    "import re\n",
    "import string\n",
    "\n",
    "! pip install nltk\n",
    "import nltk\n",
    "from nltk import pos_tag\n",
    "from nltk.corpus import stopwords\n",
    "from nltk.tokenize import word_tokenize\n",
    "from nltk.stem import WordNetLemmatizer\n",
    "from nltk.corpus import wordnet\n",
    "nltk.download('averaged_perceptron_tagger_eng')\n",
    "nltk.download('punkt_tab')\n",
    "nltk.download('stopwords')\n",
    "nltk.download('wordnet')\n",
    "\n",
    "\n",
    "! pip install wordcloud\n",
    "from wordcloud import WordCloud, STOPWORDS\n",
    "\n",
    "! pip install tensorflow\n",
    "\n",
    "import tensorflow as tf\n",
    "from sklearn.model_selection import train_test_split\n",
    "from tensorflow.keras.preprocessing.text import Tokenizer, one_hot\n",
    "from tensorflow.keras.preprocessing.text import tokenizer_from_json\n",
    "from tensorflow.keras.preprocessing.sequence import pad_sequences\n",
    "from tensorflow.keras.models import Sequential\n",
    "from tensorflow.keras.layers import Activation, Dropout, Dense, Flatten, GlobalMaxPooling1D, Embedding, Conv1D, LSTM\n",
    "import io\n",
    "import json\n",
    "from collections import Counter\n",
    "import gc\n",
    "import pandas as pd\n",
    "import numpy as np\n",
    "import matplotlib.pyplot as plt\n",
    "import seaborn as sns\n",
    "from matplotlib.ticker import MaxNLocator\n",
    "import matplotlib.dates as mdates\n",
    "from datetime import datetime\n",
    "import matplotlib.gridspec as gridspec\n"
   ]
  },
  {
   "cell_type": "markdown",
   "id": "2c2e4a41",
   "metadata": {},
   "source": [
    "# Model Predictions"
   ]
  },
  {
   "cell_type": "code",
   "execution_count": null,
   "id": "e95496d6",
   "metadata": {},
   "outputs": [],
   "source": [
    "analysis_set = pd.read_csv(\"csv's/AnalysisDataset.csv\")"
   ]
  },
  {
   "cell_type": "code",
   "execution_count": null,
   "id": "f3034a29",
   "metadata": {},
   "outputs": [],
   "source": [
    "reviews = analysis_set[\"cleanedText\"]\n",
    "reviews = reviews.apply(lambda x: re.sub(r\"\\s+\", \" \", str(x)).strip() if isinstance(x, (str, float, int)) else x)"
   ]
  },
  {
   "cell_type": "code",
   "execution_count": null,
   "id": "ad8f65eb",
   "metadata": {},
   "outputs": [],
   "source": [
    "unseen_reviews = []\n",
    "for review in reviews:\n",
    "    unseen_reviews.append(review)"
   ]
  },
  {
   "cell_type": "code",
   "execution_count": null,
   "id": "2b728120",
   "metadata": {},
   "outputs": [],
   "source": [
    "with open('embedded.json') as f:\n",
    "    data = json.load(f)\n",
    "    loaded_tokenizer = tokenizer_from_json(data)"
   ]
  },
  {
   "cell_type": "code",
   "execution_count": null,
   "id": "c9a3cd56",
   "metadata": {},
   "outputs": [],
   "source": [
    "unseen_tokenized = loaded_tokenizer.texts_to_sequences(unseen_reviews)\n",
    "unseen_padded = pad_sequences(unseen_tokenized, padding='post', maxlen=100)"
   ]
  },
  {
   "cell_type": "code",
   "execution_count": null,
   "id": "5e938cc8",
   "metadata": {},
   "outputs": [],
   "source": [
    "from keras.models import load_model\n",
    "\n",
    "model_path = 'lstm_model.keras'\n",
    "pretrained_lstm_model = load_model(model_path)\n",
    "pretrained_lstm_model.summary()\n",
    "preds = pd.Series()\n",
    "preds = pretrained_lstm_model.predict(unseen_padded)\n",
    "# unseen_sentiments"
   ]
  },
  {
   "cell_type": "code",
   "execution_count": null,
   "id": "362cd872",
   "metadata": {},
   "outputs": [],
   "source": [
    "preds = (preds > 0.5).astype(int).flatten()"
   ]
  },
  {
   "cell_type": "code",
   "execution_count": null,
   "id": "d5055bcb",
   "metadata": {},
   "outputs": [],
   "source": [
    "analysis_set[\"predictedSentiment\"] = preds\n",
    "analysis_set.head(1)"
   ]
  },
  {
   "cell_type": "code",
   "execution_count": null,
   "id": "1f3b5f7d",
   "metadata": {},
   "outputs": [],
   "source": [
    "analysis_set.to_csv(\"csv's/Predictions.csv\")"
   ]
  },
  {
   "cell_type": "code",
   "execution_count": 61,
   "id": "a852f686",
   "metadata": {},
   "outputs": [],
   "source": [
    "df = pd.DataFrame()\n",
    "df = pd.read_csv(\"csv's/Predictions.csv\")"
   ]
  },
  {
   "cell_type": "code",
   "execution_count": 62,
   "id": "bf4e6b2e",
   "metadata": {},
   "outputs": [],
   "source": [
    "positives = df[df['predictedSentiment']==1]\n",
    "positives.to_csv(\"csv's/PositiveSentiments.csv\")"
   ]
  },
  {
   "cell_type": "code",
   "execution_count": 63,
   "id": "e22f1b7f",
   "metadata": {},
   "outputs": [],
   "source": [
    "df = pd.DataFrame()\n",
    "df = pd.read_csv(\"csv's/PositiveSentiments.csv\")"
   ]
  },
  {
   "cell_type": "code",
   "execution_count": 64,
   "id": "e77e8ba1",
   "metadata": {},
   "outputs": [],
   "source": [
    "alpha = 0.7\n",
    "beta = 0.25\n",
    "gamma = 0.05"
   ]
  },
  {
   "cell_type": "code",
   "execution_count": 65,
   "id": "b259991c",
   "metadata": {},
   "outputs": [],
   "source": [
    "df['timestamp'] = pd.to_datetime(df['timestamp'], errors='coerce')\n",
    "df['month'] = df['timestamp'].dt.month\n",
    "df['year'] = df['timestamp'].dt.year"
   ]
  },
  {
   "cell_type": "markdown",
   "id": "82357a7c",
   "metadata": {},
   "source": [
    "# Category Popularity\n",
    "## CPS - Category Popularity Score\n",
    "This is used to compare positive popularity across categories over time"
   ]
  },
  {
   "cell_type": "code",
   "execution_count": 99,
   "id": "e710a6cd",
   "metadata": {},
   "outputs": [],
   "source": [
    "cps_vals = {}\n",
    "ppcps_vals = {}\n",
    "bpcps_vals = {}\n",
    "ppbps_vals = {}"
   ]
  },
  {
   "cell_type": "code",
   "execution_count": null,
   "id": "b9f2e865",
   "metadata": {},
   "outputs": [],
   "source": [
    "for category in df['category'].unique():\n",
    "    category_data = df[df['category']==category]\n",
    "\n",
    "    for year in category_data['year'].unique():\n",
    "        for month in category_data['month'].unique():\n",
    "            category_by_year_month = category_data[(category_data[\"year\"]==year) & (category_data[\"month\"]==month)]\n",
    "            \n",
    "            if not category_by_year_month.empty:\n",
    "                monthly_total_reviews = category_by_year_month[\"numRating\"].sum()\n",
    "                monthly_total_average_rating = category_by_year_month[\"average_rating\"].sum()\n",
    "                monthly_total_votes = category_by_year_month[\"total_votes\"].sum()\n",
    "\n",
    "                cps = ((alpha * monthly_total_reviews) +\n",
    "                        (beta * monthly_total_average_rating) +\n",
    "                        (gamma * monthly_total_votes))\n",
    "                \n",
    "                cps_vals[(category, year, month)] = cps"
   ]
  },
  {
   "cell_type": "code",
   "execution_count": 69,
   "id": "8764d7d1",
   "metadata": {},
   "outputs": [
    {
     "data": {
      "text/plain": [
       "42473"
      ]
     },
     "execution_count": 69,
     "metadata": {},
     "output_type": "execute_result"
    }
   ],
   "source": [
    "gc.collect()"
   ]
  },
  {
   "cell_type": "code",
   "execution_count": 70,
   "id": "882253b1",
   "metadata": {},
   "outputs": [],
   "source": [
    "cps_summary = pd.DataFrame([(cat, yr, mo, val) \n",
    "                           for (cat, yr, mo), val in cps_vals.items()],\n",
    "                           columns=['category', 'year', 'month', 'CPS'])"
   ]
  },
  {
   "cell_type": "code",
   "execution_count": 71,
   "id": "ddd1fe4a",
   "metadata": {},
   "outputs": [],
   "source": [
    "cps_summary = cps_summary.sort_values(['year', 'month', 'category'])"
   ]
  },
  {
   "cell_type": "code",
   "execution_count": 72,
   "id": "58fd8e8c",
   "metadata": {},
   "outputs": [],
   "source": [
    "cps_summary[\"CPS\"] = np.log1p(cps_summary[\"CPS\"])\n",
    "min_val = cps_summary[\"CPS\"].min()\n",
    "max_val = cps_summary[\"CPS\"].max()\n",
    "cps_summary[\"CPS scaled\"] = 0 + (cps_summary[\"CPS\"] - min_val) * (100 - 0) / (max_val - min_val)"
   ]
  },
  {
   "cell_type": "code",
   "execution_count": 73,
   "id": "fc37ef2e",
   "metadata": {},
   "outputs": [
    {
     "data": {
      "text/html": [
       "<div>\n",
       "<style scoped>\n",
       "    .dataframe tbody tr th:only-of-type {\n",
       "        vertical-align: middle;\n",
       "    }\n",
       "\n",
       "    .dataframe tbody tr th {\n",
       "        vertical-align: top;\n",
       "    }\n",
       "\n",
       "    .dataframe thead th {\n",
       "        text-align: right;\n",
       "    }\n",
       "</style>\n",
       "<table border=\"1\" class=\"dataframe\">\n",
       "  <thead>\n",
       "    <tr style=\"text-align: right;\">\n",
       "      <th></th>\n",
       "      <th>category</th>\n",
       "      <th>year</th>\n",
       "      <th>month</th>\n",
       "      <th>CPS</th>\n",
       "      <th>CPS scaled</th>\n",
       "    </tr>\n",
       "  </thead>\n",
       "  <tbody>\n",
       "    <tr>\n",
       "      <th>5657</th>\n",
       "      <td>Digital Music</td>\n",
       "      <td>1998</td>\n",
       "      <td>4</td>\n",
       "      <td>2.953607</td>\n",
       "      <td>11.528284</td>\n",
       "    </tr>\n",
       "    <tr>\n",
       "      <th>5661</th>\n",
       "      <td>Digital Music</td>\n",
       "      <td>1998</td>\n",
       "      <td>6</td>\n",
       "      <td>3.045712</td>\n",
       "      <td>12.039228</td>\n",
       "    </tr>\n",
       "    <tr>\n",
       "      <th>5658</th>\n",
       "      <td>Digital Music</td>\n",
       "      <td>1998</td>\n",
       "      <td>7</td>\n",
       "      <td>9.140170</td>\n",
       "      <td>45.847677</td>\n",
       "    </tr>\n",
       "  </tbody>\n",
       "</table>\n",
       "</div>"
      ],
      "text/plain": [
       "           category  year  month       CPS  CPS scaled\n",
       "5657  Digital Music  1998      4  2.953607   11.528284\n",
       "5661  Digital Music  1998      6  3.045712   12.039228\n",
       "5658  Digital Music  1998      7  9.140170   45.847677"
      ]
     },
     "execution_count": 73,
     "metadata": {},
     "output_type": "execute_result"
    }
   ],
   "source": [
    "cps_summary.head(3)"
   ]
  },
  {
   "cell_type": "code",
   "execution_count": 74,
   "id": "47b5eb49",
   "metadata": {},
   "outputs": [
    {
     "data": {
      "text/plain": [
       "0"
      ]
     },
     "execution_count": 74,
     "metadata": {},
     "output_type": "execute_result"
    }
   ],
   "source": [
    "cps_summary.to_csv(\"csv's/CPS_Summary.csv\")\n",
    "del cps_summary\n",
    "gc.collect()"
   ]
  },
  {
   "cell_type": "markdown",
   "id": "3c1e1a42",
   "metadata": {},
   "source": [
    "# Product popularity \n",
    "## PPCPS - Product per Category popularity score\n",
    "Used to compare products within the same category over time"
   ]
  },
  {
   "cell_type": "code",
   "execution_count": 101,
   "id": "1b90e8b3",
   "metadata": {},
   "outputs": [],
   "source": [
    "for category in df['category'].unique():\n",
    "    category_data = df[df['category']==category]\n",
    "\n",
    "    for product in category_data['item'].unique():\n",
    "        product_data = category_data[category_data['item']==product]\n",
    "        if not product_data.empty:\n",
    "            prod_total_reviews = product_data[\"numRating\"].sum()\n",
    "            prod_average_rating = product_data[\"average_rating\"].sum()\n",
    "            prod_total_votes = product_data[\"total_votes\"].sum()\n",
    "\n",
    "            if 'timestamp' in product_data.columns and not product_data['timestamp'].empty:\n",
    "                timestamp = pd.to_datetime(product_data['timestamp'].iloc[0])\n",
    "\n",
    "                if pd.notna(timestamp):\n",
    "                    timestamp = pd.to_datetime(timestamp)\n",
    "                    year = int(timestamp.year)\n",
    "                    month = int(timestamp.month)\n",
    "                    # print(f\"{year}/{month}\")\n",
    "            \n",
    "                    ppcps = ((alpha * prod_total_reviews) +\n",
    "                            (beta * prod_average_rating) + \n",
    "                            (gamma * prod_total_votes))\n",
    "                                \n",
    "                    ppcps_vals[(category, product, year, month)] = ppcps"
   ]
  },
  {
   "cell_type": "code",
   "execution_count": 102,
   "id": "4b228f8f",
   "metadata": {},
   "outputs": [],
   "source": [
    "ppcps_summary = pd.DataFrame([\n",
    "    (cat, prod, yr, mo, val) \n",
    "    for (cat, prod, yr, mo), val in ppcps_vals.items()\n",
    "], columns=['category', 'product', 'year', 'month', 'PPCPS'])"
   ]
  },
  {
   "cell_type": "code",
   "execution_count": 103,
   "id": "7071bde6",
   "metadata": {},
   "outputs": [],
   "source": [
    "ppcps_summary = ppcps_summary.sort_values(['year', 'month', 'category', 'product'])"
   ]
  },
  {
   "cell_type": "code",
   "execution_count": 104,
   "id": "9488007f",
   "metadata": {},
   "outputs": [],
   "source": [
    "ppcps_summary[\"PPCPS\"] = np.log1p(ppcps_summary[\"PPCPS\"])\n",
    "min_val = ppcps_summary[\"PPCPS\"].min()\n",
    "max_val = ppcps_summary[\"PPCPS\"].max()\n",
    "ppcps_summary[\"PPCPS scaled\"] = 0 + (ppcps_summary[\"PPCPS\"] - min_val) * (100 - 0) / (max_val - min_val)"
   ]
  },
  {
   "cell_type": "code",
   "execution_count": 106,
   "id": "3cce8a5a",
   "metadata": {},
   "outputs": [],
   "source": [
    "ppcps_summary.to_csv(\"csv's/PPCPS_Summary.csv\")"
   ]
  },
  {
   "cell_type": "markdown",
   "id": "02a81358",
   "metadata": {},
   "source": [
    "## PPBPS - Product per Brand Popularity score \n",
    "Used to compare products across the brand"
   ]
  },
  {
   "cell_type": "code",
   "execution_count": 107,
   "id": "40798180",
   "metadata": {},
   "outputs": [],
   "source": [
    "for category in df['category'].unique():\n",
    "    category_data = df[df['category']==category]\n",
    "\n",
    "    for brand in category_data['brand'].unique():\n",
    "        brand_data = category_data[category_data['brand']==brand]\n",
    "\n",
    "        for product in brand_data['item'].unique():\n",
    "            product_data = brand_data[brand_data['item']==product]\n",
    "\n",
    "            if not product_data.empty:\n",
    "                prod_total_reviews = product_data[\"numRating\"].sum()\n",
    "                prod_average_rating = product_data[\"average_rating\"].sum()\n",
    "                prod_total_votes = product_data[\"total_votes\"].sum()\n",
    "\n",
    "                if 'timestamp' in product_data.columns and not product_data['timestamp'].empty:\n",
    "                    timestamp = pd.to_datetime(product_data['timestamp'].iloc[0])\n",
    "\n",
    "                    if pd.notna(timestamp):\n",
    "                        timestamp = pd.to_datetime(timestamp)\n",
    "                        \n",
    "                        year = int(timestamp.year)\n",
    "                        month = int(timestamp.month)\n",
    "            \n",
    "                        ppbps = ((alpha * prod_total_reviews) +\n",
    "                                (beta * prod_average_rating) + \n",
    "                                (gamma * prod_total_votes))\n",
    "                                    \n",
    "                        ppbps_vals[(year, month, category, brand, product)] = ppbps\n",
    "                "
   ]
  },
  {
   "cell_type": "code",
   "execution_count": 108,
   "id": "81f6197c",
   "metadata": {},
   "outputs": [],
   "source": [
    "ppbps_summary = pd.DataFrame([(yr, mo, cat, brand, prod, val) \n",
    "                           for (yr, mo, cat, brand, prod), val in ppbps_vals.items()],\n",
    "                           columns=['year', 'month', 'category', 'brand', 'product', 'PPBPS'])"
   ]
  },
  {
   "cell_type": "code",
   "execution_count": 109,
   "id": "31dc3771",
   "metadata": {},
   "outputs": [],
   "source": [
    "ppbps_summary = ppbps_summary.sort_values(['year', 'month', 'category', 'brand'])"
   ]
  },
  {
   "cell_type": "code",
   "execution_count": 110,
   "id": "de5ad5fd",
   "metadata": {},
   "outputs": [],
   "source": [
    "ppbps_summary[\"PPBPS\"] = np.log1p(ppbps_summary[\"PPBPS\"])\n",
    "min_val = ppbps_summary[\"PPBPS\"].min()\n",
    "max_val = ppbps_summary[\"PPBPS\"].max()\n",
    "ppbps_summary[\"PPBPS scaled\"] = 0 + (ppbps_summary[\"PPBPS\"] - min_val) * (100 - 0) / (max_val - min_val)"
   ]
  },
  {
   "cell_type": "code",
   "execution_count": 111,
   "id": "39ee75de",
   "metadata": {},
   "outputs": [
    {
     "data": {
      "text/plain": [
       "(np.float64(100.0), np.float64(0.0))"
      ]
     },
     "execution_count": 111,
     "metadata": {},
     "output_type": "execute_result"
    }
   ],
   "source": [
    "ppbps_summary['PPBPS scaled'].max(), ppbps_summary['PPBPS scaled'].min()"
   ]
  },
  {
   "cell_type": "code",
   "execution_count": 112,
   "id": "87ae6bd9",
   "metadata": {},
   "outputs": [],
   "source": [
    "ppbps_summary.to_csv(\"csv's/PPBPS_Summary.csv\")"
   ]
  },
  {
   "cell_type": "markdown",
   "id": "58a45b42",
   "metadata": {},
   "source": [
    "# Brand Popularity\n",
    "## BPCPS - Brand per Category Popularity Score\n",
    "Used to compare brands across a category over time"
   ]
  },
  {
   "cell_type": "code",
   "execution_count": 113,
   "id": "03a15510",
   "metadata": {},
   "outputs": [],
   "source": [
    "for category in df[\"category\"].unique():\n",
    "    category_data = df[df[\"category\"]==category]\n",
    "\n",
    "    for brand in category_data[\"brand\"].unique():\n",
    "        brand_data = category_data[category_data['brand']==brand]\n",
    "\n",
    "        if brand_data.empty:\n",
    "            continue \n",
    "\n",
    "        for year in brand_data['year'].unique():\n",
    "            for month in brand_data['month'].unique():\n",
    "                brand_by_year_month = brand_data[(brand_data['year']==year) & (brand_data['month']==month)]\n",
    "\n",
    "                if not brand_by_year_month.empty:\n",
    "                    brand_total_reviews = brand_by_year_month['numRating'].sum()\n",
    "                    brand_total_average_rating = brand_by_year_month['average_rating'].sum()\n",
    "                    brand_total_votes = brand_by_year_month['total_votes'].sum()\n",
    "\n",
    "                    bpcps = ((alpha * brand_total_reviews) +\n",
    "                             (beta * brand_total_average_rating)+ \n",
    "                             (gamma * brand_total_votes))\n",
    "\n",
    "                    bpcps_vals[(category, brand, year, month)] = bpcps"
   ]
  },
  {
   "cell_type": "code",
   "execution_count": 114,
   "id": "c4f5880a",
   "metadata": {},
   "outputs": [
    {
     "data": {
      "text/plain": [
       "4052"
      ]
     },
     "execution_count": 114,
     "metadata": {},
     "output_type": "execute_result"
    }
   ],
   "source": [
    "gc.collect()"
   ]
  },
  {
   "cell_type": "code",
   "execution_count": 115,
   "id": "7800b941",
   "metadata": {},
   "outputs": [],
   "source": [
    "bpcps_summary = pd.DataFrame([(cat, br, yr, mo, val) \n",
    "                           for (cat, br, yr, mo), val in bpcps_vals.items()],\n",
    "                           columns=['category', 'brand', 'year', 'month', 'BPCPS'])"
   ]
  },
  {
   "cell_type": "code",
   "execution_count": 116,
   "id": "3f579307",
   "metadata": {},
   "outputs": [],
   "source": [
    "bpcps_summary = bpcps_summary.sort_values(['category', 'brand', 'year', 'month'])"
   ]
  },
  {
   "cell_type": "code",
   "execution_count": 117,
   "id": "0da2de1c",
   "metadata": {},
   "outputs": [],
   "source": [
    "bpcps_summary[\"BPCPS\"] = np.log1p(bpcps_summary[\"BPCPS\"])\n",
    "min_val = bpcps_summary[\"BPCPS\"].min()\n",
    "max_val = bpcps_summary[\"BPCPS\"].max()\n",
    "bpcps_summary[\"BPCPS scaled\"] = 0 + (bpcps_summary[\"BPCPS\"] - min_val) * (100 - 0) / (max_val - min_val)"
   ]
  },
  {
   "cell_type": "code",
   "execution_count": 118,
   "id": "edaacda7",
   "metadata": {},
   "outputs": [],
   "source": [
    "bpcps_summary.to_csv(\"csv's/BPCPS_Summary.csv\")"
   ]
  }
 ],
 "metadata": {
  "kernelspec": {
   "display_name": "Python 3",
   "language": "python",
   "name": "python3"
  },
  "language_info": {
   "codemirror_mode": {
    "name": "ipython",
    "version": 3
   },
   "file_extension": ".py",
   "mimetype": "text/x-python",
   "name": "python",
   "nbconvert_exporter": "python",
   "pygments_lexer": "ipython3",
   "version": "3.12.6"
  }
 },
 "nbformat": 4,
 "nbformat_minor": 5
}
