{
 "cells": [
  {
   "cell_type": "code",
   "execution_count": 1,
   "id": "8a82d60c",
   "metadata": {},
   "outputs": [
    {
     "name": "stdout",
     "output_type": "stream",
     "text": [
      "Requirement already satisfied: imbalanced-learn in c:\\users\\kaila\\appdata\\local\\programs\\python\\python312\\lib\\site-packages (0.13.0)\n",
      "Requirement already satisfied: numpy<3,>=1.24.3 in c:\\users\\kaila\\appdata\\local\\programs\\python\\python312\\lib\\site-packages (from imbalanced-learn) (2.1.3)\n",
      "Requirement already satisfied: scipy<2,>=1.10.1 in c:\\users\\kaila\\appdata\\local\\programs\\python\\python312\\lib\\site-packages (from imbalanced-learn) (1.15.2)\n",
      "Requirement already satisfied: scikit-learn<2,>=1.3.2 in c:\\users\\kaila\\appdata\\local\\programs\\python\\python312\\lib\\site-packages (from imbalanced-learn) (1.6.1)\n",
      "Requirement already satisfied: sklearn-compat<1,>=0.1 in c:\\users\\kaila\\appdata\\local\\programs\\python\\python312\\lib\\site-packages (from imbalanced-learn) (0.1.3)\n",
      "Requirement already satisfied: joblib<2,>=1.1.1 in c:\\users\\kaila\\appdata\\local\\programs\\python\\python312\\lib\\site-packages (from imbalanced-learn) (1.4.2)\n",
      "Requirement already satisfied: threadpoolctl<4,>=2.0.0 in c:\\users\\kaila\\appdata\\local\\programs\\python\\python312\\lib\\site-packages (from imbalanced-learn) (3.6.0)\n"
     ]
    },
    {
     "name": "stderr",
     "output_type": "stream",
     "text": [
      "\n",
      "[notice] A new release of pip is available: 25.0.1 -> 25.1.1\n",
      "[notice] To update, run: python.exe -m pip install --upgrade pip\n",
      "\n",
      "[notice] A new release of pip is available: 25.0.1 -> 25.1.1\n",
      "[notice] To update, run: python.exe -m pip install --upgrade pip\n"
     ]
    },
    {
     "name": "stdout",
     "output_type": "stream",
     "text": [
      "Requirement already satisfied: nltk in c:\\users\\kaila\\appdata\\local\\programs\\python\\python312\\lib\\site-packages (3.9.1)\n",
      "Requirement already satisfied: click in c:\\users\\kaila\\appdata\\local\\programs\\python\\python312\\lib\\site-packages (from nltk) (8.1.7)\n",
      "Requirement already satisfied: joblib in c:\\users\\kaila\\appdata\\local\\programs\\python\\python312\\lib\\site-packages (from nltk) (1.4.2)\n",
      "Requirement already satisfied: regex>=2021.8.3 in c:\\users\\kaila\\appdata\\local\\programs\\python\\python312\\lib\\site-packages (from nltk) (2024.11.6)\n",
      "Requirement already satisfied: tqdm in c:\\users\\kaila\\appdata\\local\\programs\\python\\python312\\lib\\site-packages (from nltk) (4.67.1)\n",
      "Requirement already satisfied: colorama in c:\\users\\kaila\\appdata\\local\\programs\\python\\python312\\lib\\site-packages (from click->nltk) (0.4.6)\n"
     ]
    },
    {
     "name": "stderr",
     "output_type": "stream",
     "text": [
      "[nltk_data] Downloading package averaged_perceptron_tagger_eng to\n",
      "[nltk_data]     C:\\Users\\kaila\\AppData\\Roaming\\nltk_data...\n",
      "[nltk_data]   Package averaged_perceptron_tagger_eng is already up-to-\n",
      "[nltk_data]       date!\n",
      "[nltk_data] Downloading package punkt_tab to\n",
      "[nltk_data]     C:\\Users\\kaila\\AppData\\Roaming\\nltk_data...\n",
      "[nltk_data]   Package punkt_tab is already up-to-date!\n",
      "[nltk_data] Downloading package stopwords to\n",
      "[nltk_data]     C:\\Users\\kaila\\AppData\\Roaming\\nltk_data...\n",
      "[nltk_data]   Package stopwords is already up-to-date!\n",
      "[nltk_data] Downloading package wordnet to\n",
      "[nltk_data]     C:\\Users\\kaila\\AppData\\Roaming\\nltk_data...\n",
      "[nltk_data]   Package wordnet is already up-to-date!\n"
     ]
    },
    {
     "name": "stdout",
     "output_type": "stream",
     "text": [
      "Requirement already satisfied: wordcloud in c:\\users\\kaila\\appdata\\local\\programs\\python\\python312\\lib\\site-packages (1.9.4)\n",
      "Requirement already satisfied: numpy>=1.6.1 in c:\\users\\kaila\\appdata\\local\\programs\\python\\python312\\lib\\site-packages (from wordcloud) (2.1.3)\n",
      "Requirement already satisfied: pillow in c:\\users\\kaila\\appdata\\local\\programs\\python\\python312\\lib\\site-packages (from wordcloud) (11.1.0)\n",
      "Requirement already satisfied: matplotlib in c:\\users\\kaila\\appdata\\local\\programs\\python\\python312\\lib\\site-packages (from wordcloud) (3.10.0)\n",
      "Requirement already satisfied: contourpy>=1.0.1 in c:\\users\\kaila\\appdata\\local\\programs\\python\\python312\\lib\\site-packages (from matplotlib->wordcloud) (1.3.1)\n",
      "Requirement already satisfied: cycler>=0.10 in c:\\users\\kaila\\appdata\\local\\programs\\python\\python312\\lib\\site-packages (from matplotlib->wordcloud) (0.12.1)\n",
      "Requirement already satisfied: fonttools>=4.22.0 in c:\\users\\kaila\\appdata\\local\\programs\\python\\python312\\lib\\site-packages (from matplotlib->wordcloud) (4.56.0)\n",
      "Requirement already satisfied: kiwisolver>=1.3.1 in c:\\users\\kaila\\appdata\\local\\programs\\python\\python312\\lib\\site-packages (from matplotlib->wordcloud) (1.4.8)\n",
      "Requirement already satisfied: packaging>=20.0 in c:\\users\\kaila\\appdata\\local\\programs\\python\\python312\\lib\\site-packages (from matplotlib->wordcloud) (24.1)\n",
      "Requirement already satisfied: pyparsing>=2.3.1 in c:\\users\\kaila\\appdata\\local\\programs\\python\\python312\\lib\\site-packages (from matplotlib->wordcloud) (3.2.1)\n",
      "Requirement already satisfied: python-dateutil>=2.7 in c:\\users\\kaila\\appdata\\local\\programs\\python\\python312\\lib\\site-packages (from matplotlib->wordcloud) (2.9.0.post0)\n",
      "Requirement already satisfied: six>=1.5 in c:\\users\\kaila\\appdata\\local\\programs\\python\\python312\\lib\\site-packages (from python-dateutil>=2.7->matplotlib->wordcloud) (1.17.0)\n"
     ]
    },
    {
     "name": "stderr",
     "output_type": "stream",
     "text": [
      "\n",
      "[notice] A new release of pip is available: 25.0.1 -> 25.1.1\n",
      "[notice] To update, run: python.exe -m pip install --upgrade pip\n",
      "\n",
      "[notice] A new release of pip is available: 25.0.1 -> 25.1.1\n",
      "[notice] To update, run: python.exe -m pip install --upgrade pip\n"
     ]
    },
    {
     "name": "stdout",
     "output_type": "stream",
     "text": [
      "Requirement already satisfied: tensorflow in c:\\users\\kaila\\appdata\\local\\programs\\python\\python312\\lib\\site-packages (2.19.0)\n",
      "Requirement already satisfied: absl-py>=1.0.0 in c:\\users\\kaila\\appdata\\local\\programs\\python\\python312\\lib\\site-packages (from tensorflow) (2.2.2)\n",
      "Requirement already satisfied: astunparse>=1.6.0 in c:\\users\\kaila\\appdata\\local\\programs\\python\\python312\\lib\\site-packages (from tensorflow) (1.6.3)\n",
      "Requirement already satisfied: flatbuffers>=24.3.25 in c:\\users\\kaila\\appdata\\local\\programs\\python\\python312\\lib\\site-packages (from tensorflow) (25.2.10)\n",
      "Requirement already satisfied: gast!=0.5.0,!=0.5.1,!=0.5.2,>=0.2.1 in c:\\users\\kaila\\appdata\\local\\programs\\python\\python312\\lib\\site-packages (from tensorflow) (0.6.0)\n",
      "Requirement already satisfied: google-pasta>=0.1.1 in c:\\users\\kaila\\appdata\\local\\programs\\python\\python312\\lib\\site-packages (from tensorflow) (0.2.0)\n",
      "Requirement already satisfied: libclang>=13.0.0 in c:\\users\\kaila\\appdata\\local\\programs\\python\\python312\\lib\\site-packages (from tensorflow) (18.1.1)\n",
      "Requirement already satisfied: opt-einsum>=2.3.2 in c:\\users\\kaila\\appdata\\local\\programs\\python\\python312\\lib\\site-packages (from tensorflow) (3.4.0)\n",
      "Requirement already satisfied: packaging in c:\\users\\kaila\\appdata\\local\\programs\\python\\python312\\lib\\site-packages (from tensorflow) (24.1)\n",
      "Requirement already satisfied: protobuf!=4.21.0,!=4.21.1,!=4.21.2,!=4.21.3,!=4.21.4,!=4.21.5,<6.0.0dev,>=3.20.3 in c:\\users\\kaila\\appdata\\local\\programs\\python\\python312\\lib\\site-packages (from tensorflow) (5.29.4)\n",
      "Requirement already satisfied: requests<3,>=2.21.0 in c:\\users\\kaila\\appdata\\local\\programs\\python\\python312\\lib\\site-packages (from tensorflow) (2.32.3)\n",
      "Requirement already satisfied: setuptools in c:\\users\\kaila\\appdata\\local\\programs\\python\\python312\\lib\\site-packages (from tensorflow) (75.8.0)\n",
      "Requirement already satisfied: six>=1.12.0 in c:\\users\\kaila\\appdata\\local\\programs\\python\\python312\\lib\\site-packages (from tensorflow) (1.17.0)\n",
      "Requirement already satisfied: termcolor>=1.1.0 in c:\\users\\kaila\\appdata\\local\\programs\\python\\python312\\lib\\site-packages (from tensorflow) (2.3.0)\n",
      "Requirement already satisfied: typing-extensions>=3.6.6 in c:\\users\\kaila\\appdata\\local\\programs\\python\\python312\\lib\\site-packages (from tensorflow) (4.12.2)\n",
      "Requirement already satisfied: wrapt>=1.11.0 in c:\\users\\kaila\\appdata\\local\\programs\\python\\python312\\lib\\site-packages (from tensorflow) (1.17.2)\n",
      "Requirement already satisfied: grpcio<2.0,>=1.24.3 in c:\\users\\kaila\\appdata\\local\\programs\\python\\python312\\lib\\site-packages (from tensorflow) (1.71.0)\n",
      "Requirement already satisfied: tensorboard~=2.19.0 in c:\\users\\kaila\\appdata\\local\\programs\\python\\python312\\lib\\site-packages (from tensorflow) (2.19.0)\n",
      "Requirement already satisfied: keras>=3.5.0 in c:\\users\\kaila\\appdata\\local\\programs\\python\\python312\\lib\\site-packages (from tensorflow) (3.9.2)\n",
      "Requirement already satisfied: numpy<2.2.0,>=1.26.0 in c:\\users\\kaila\\appdata\\local\\programs\\python\\python312\\lib\\site-packages (from tensorflow) (2.1.3)\n",
      "Requirement already satisfied: h5py>=3.11.0 in c:\\users\\kaila\\appdata\\local\\programs\\python\\python312\\lib\\site-packages (from tensorflow) (3.13.0)\n",
      "Requirement already satisfied: ml-dtypes<1.0.0,>=0.5.1 in c:\\users\\kaila\\appdata\\local\\programs\\python\\python312\\lib\\site-packages (from tensorflow) (0.5.1)\n",
      "Requirement already satisfied: wheel<1.0,>=0.23.0 in c:\\users\\kaila\\appdata\\local\\programs\\python\\python312\\lib\\site-packages (from astunparse>=1.6.0->tensorflow) (0.45.1)\n",
      "Requirement already satisfied: rich in c:\\users\\kaila\\appdata\\local\\programs\\python\\python312\\lib\\site-packages (from keras>=3.5.0->tensorflow) (14.0.0)\n",
      "Requirement already satisfied: namex in c:\\users\\kaila\\appdata\\local\\programs\\python\\python312\\lib\\site-packages (from keras>=3.5.0->tensorflow) (0.0.8)\n",
      "Requirement already satisfied: optree in c:\\users\\kaila\\appdata\\local\\programs\\python\\python312\\lib\\site-packages (from keras>=3.5.0->tensorflow) (0.14.1)\n",
      "Requirement already satisfied: charset-normalizer<4,>=2 in c:\\users\\kaila\\appdata\\local\\programs\\python\\python312\\lib\\site-packages (from requests<3,>=2.21.0->tensorflow) (3.4.1)\n",
      "Requirement already satisfied: idna<4,>=2.5 in c:\\users\\kaila\\appdata\\local\\programs\\python\\python312\\lib\\site-packages (from requests<3,>=2.21.0->tensorflow) (3.10)\n",
      "Requirement already satisfied: urllib3<3,>=1.21.1 in c:\\users\\kaila\\appdata\\local\\programs\\python\\python312\\lib\\site-packages (from requests<3,>=2.21.0->tensorflow) (2.3.0)\n",
      "Requirement already satisfied: certifi>=2017.4.17 in c:\\users\\kaila\\appdata\\local\\programs\\python\\python312\\lib\\site-packages (from requests<3,>=2.21.0->tensorflow) (2025.1.31)\n",
      "Requirement already satisfied: markdown>=2.6.8 in c:\\users\\kaila\\appdata\\local\\programs\\python\\python312\\lib\\site-packages (from tensorboard~=2.19.0->tensorflow) (3.7)\n",
      "Requirement already satisfied: tensorboard-data-server<0.8.0,>=0.7.0 in c:\\users\\kaila\\appdata\\local\\programs\\python\\python312\\lib\\site-packages (from tensorboard~=2.19.0->tensorflow) (0.7.2)\n",
      "Requirement already satisfied: werkzeug>=1.0.1 in c:\\users\\kaila\\appdata\\local\\programs\\python\\python312\\lib\\site-packages (from tensorboard~=2.19.0->tensorflow) (3.1.3)\n",
      "Requirement already satisfied: MarkupSafe>=2.1.1 in c:\\users\\kaila\\appdata\\local\\programs\\python\\python312\\lib\\site-packages (from werkzeug>=1.0.1->tensorboard~=2.19.0->tensorflow) (3.0.2)\n",
      "Requirement already satisfied: markdown-it-py>=2.2.0 in c:\\users\\kaila\\appdata\\local\\programs\\python\\python312\\lib\\site-packages (from rich->keras>=3.5.0->tensorflow) (3.0.0)\n",
      "Requirement already satisfied: pygments<3.0.0,>=2.13.0 in c:\\users\\kaila\\appdata\\roaming\\python\\python312\\site-packages (from rich->keras>=3.5.0->tensorflow) (2.19.1)\n",
      "Requirement already satisfied: mdurl~=0.1 in c:\\users\\kaila\\appdata\\local\\programs\\python\\python312\\lib\\site-packages (from markdown-it-py>=2.2.0->rich->keras>=3.5.0->tensorflow) (0.1.2)\n"
     ]
    }
   ],
   "source": [
    "import pandas as pd\n",
    "import numpy as np\n",
    "import matplotlib.pyplot as plt\n",
    "import seaborn as sns\n",
    "from numpy import array\n",
    "# import string\n",
    "# from string import punctuation\n",
    "# from itertools import chain\n",
    "\n",
    "from sklearn.model_selection import train_test_split\n",
    "from sklearn.metrics import recall_score, f1_score\n",
    "\n",
    "from sklearn.feature_extraction.text import CountVectorizer\n",
    "from sklearn.feature_extraction.text import TfidfVectorizer\n",
    "from sklearn.linear_model import LogisticRegression\n",
    "from sklearn.decomposition import NMF, LatentDirichletAllocation, TruncatedSVD\n",
    "from sklearn.feature_selection import SelectPercentile, chi2, f_regression, f_classif\n",
    "from sklearn.utils import shuffle\n",
    "from scipy.stats import pearsonr\n",
    "\n",
    "! pip install imbalanced-learn\n",
    "from imblearn.over_sampling import SMOTE\n",
    "# from sklearn import svm\n",
    "\n",
    "# nltk.download('stopwords')\n",
    "# from nltk.stem import WordNetLemmatizer\n",
    "# from nltk import ngrams\n",
    "\n",
    "import re\n",
    "import string\n",
    "\n",
    "! pip install nltk\n",
    "import nltk\n",
    "from nltk import pos_tag\n",
    "from nltk.corpus import stopwords\n",
    "from nltk.tokenize import word_tokenize\n",
    "from nltk.stem import WordNetLemmatizer\n",
    "from nltk.corpus import wordnet\n",
    "nltk.download('averaged_perceptron_tagger_eng')\n",
    "nltk.download('punkt_tab')\n",
    "nltk.download('stopwords')\n",
    "nltk.download('wordnet')\n",
    "\n",
    "\n",
    "! pip install wordcloud\n",
    "from wordcloud import WordCloud, STOPWORDS\n",
    "\n",
    "! pip install tensorflow\n",
    "\n",
    "import tensorflow as tf\n",
    "from sklearn.model_selection import train_test_split\n",
    "from tensorflow.keras.preprocessing.text import Tokenizer, one_hot\n",
    "from tensorflow.keras.preprocessing.text import tokenizer_from_json\n",
    "from tensorflow.keras.preprocessing.sequence import pad_sequences\n",
    "from tensorflow.keras.models import Sequential\n",
    "from tensorflow.keras.layers import Activation, Dropout, Dense, Flatten, GlobalMaxPooling1D, Embedding, Conv1D, LSTM\n",
    "import io\n",
    "import json\n",
    "from collections import Counter"
   ]
  },
  {
   "cell_type": "code",
   "execution_count": 2,
   "id": "57e5adcf",
   "metadata": {},
   "outputs": [],
   "source": [
    "analysis_set = pd.read_csv(\"csv's/AnalysisDataset.csv\")"
   ]
  },
  {
   "cell_type": "code",
   "execution_count": null,
   "id": "162c857b",
   "metadata": {},
   "outputs": [],
   "source": [
    "reviews = analysis_set[\"cleanedText\"]\n",
    "reviews = reviews.apply(lambda x: re.sub(r\"\\s+\", \" \", str(x)).strip() if isinstance(x, (str, float, int)) else x)"
   ]
  },
  {
   "cell_type": "code",
   "execution_count": 4,
   "id": "684b1541",
   "metadata": {},
   "outputs": [],
   "source": [
    "unseen_reviews = []\n",
    "for review in reviews:\n",
    "    unseen_reviews.append(review)"
   ]
  },
  {
   "cell_type": "code",
   "execution_count": 5,
   "id": "3b0823e3",
   "metadata": {},
   "outputs": [],
   "source": [
    "with open('embedded.json') as f:\n",
    "    data = json.load(f)\n",
    "    loaded_tokenizer = tokenizer_from_json(data)"
   ]
  },
  {
   "cell_type": "code",
   "execution_count": 6,
   "id": "d3c1d053",
   "metadata": {},
   "outputs": [],
   "source": [
    "unseen_tokenized = loaded_tokenizer.texts_to_sequences(unseen_reviews)\n",
    "unseen_padded = pad_sequences(unseen_tokenized, padding='post', maxlen=100)"
   ]
  },
  {
   "cell_type": "code",
   "execution_count": 7,
   "id": "f6353916",
   "metadata": {},
   "outputs": [
    {
     "data": {
      "text/html": [
       "<pre style=\"white-space:pre;overflow-x:auto;line-height:normal;font-family:Menlo,'DejaVu Sans Mono',consolas,'Courier New',monospace\"><span style=\"font-weight: bold\">Model: \"sequential\"</span>\n",
       "</pre>\n"
      ],
      "text/plain": [
       "\u001b[1mModel: \"sequential\"\u001b[0m\n"
      ]
     },
     "metadata": {},
     "output_type": "display_data"
    },
    {
     "data": {
      "text/html": [
       "<pre style=\"white-space:pre;overflow-x:auto;line-height:normal;font-family:Menlo,'DejaVu Sans Mono',consolas,'Courier New',monospace\">┏━━━━━━━━━━━━━━━━━━━━━━━━━━━━━━━━━┳━━━━━━━━━━━━━━━━━━━━━━━━┳━━━━━━━━━━━━━━━┓\n",
       "┃<span style=\"font-weight: bold\"> Layer (type)                    </span>┃<span style=\"font-weight: bold\"> Output Shape           </span>┃<span style=\"font-weight: bold\">       Param # </span>┃\n",
       "┡━━━━━━━━━━━━━━━━━━━━━━━━━━━━━━━━━╇━━━━━━━━━━━━━━━━━━━━━━━━╇━━━━━━━━━━━━━━━┩\n",
       "│ embedding (<span style=\"color: #0087ff; text-decoration-color: #0087ff\">Embedding</span>)           │ (<span style=\"color: #00d7ff; text-decoration-color: #00d7ff\">None</span>, <span style=\"color: #00af00; text-decoration-color: #00af00\">100</span>, <span style=\"color: #00af00; text-decoration-color: #00af00\">100</span>)       │     <span style=\"color: #00af00; text-decoration-color: #00af00\">6,029,700</span> │\n",
       "├─────────────────────────────────┼────────────────────────┼───────────────┤\n",
       "│ lstm (<span style=\"color: #0087ff; text-decoration-color: #0087ff\">LSTM</span>)                     │ (<span style=\"color: #00d7ff; text-decoration-color: #00d7ff\">None</span>, <span style=\"color: #00af00; text-decoration-color: #00af00\">128</span>)            │       <span style=\"color: #00af00; text-decoration-color: #00af00\">117,248</span> │\n",
       "├─────────────────────────────────┼────────────────────────┼───────────────┤\n",
       "│ dense (<span style=\"color: #0087ff; text-decoration-color: #0087ff\">Dense</span>)                   │ (<span style=\"color: #00d7ff; text-decoration-color: #00d7ff\">None</span>, <span style=\"color: #00af00; text-decoration-color: #00af00\">1</span>)              │           <span style=\"color: #00af00; text-decoration-color: #00af00\">129</span> │\n",
       "└─────────────────────────────────┴────────────────────────┴───────────────┘\n",
       "</pre>\n"
      ],
      "text/plain": [
       "┏━━━━━━━━━━━━━━━━━━━━━━━━━━━━━━━━━┳━━━━━━━━━━━━━━━━━━━━━━━━┳━━━━━━━━━━━━━━━┓\n",
       "┃\u001b[1m \u001b[0m\u001b[1mLayer (type)                   \u001b[0m\u001b[1m \u001b[0m┃\u001b[1m \u001b[0m\u001b[1mOutput Shape          \u001b[0m\u001b[1m \u001b[0m┃\u001b[1m \u001b[0m\u001b[1m      Param #\u001b[0m\u001b[1m \u001b[0m┃\n",
       "┡━━━━━━━━━━━━━━━━━━━━━━━━━━━━━━━━━╇━━━━━━━━━━━━━━━━━━━━━━━━╇━━━━━━━━━━━━━━━┩\n",
       "│ embedding (\u001b[38;5;33mEmbedding\u001b[0m)           │ (\u001b[38;5;45mNone\u001b[0m, \u001b[38;5;34m100\u001b[0m, \u001b[38;5;34m100\u001b[0m)       │     \u001b[38;5;34m6,029,700\u001b[0m │\n",
       "├─────────────────────────────────┼────────────────────────┼───────────────┤\n",
       "│ lstm (\u001b[38;5;33mLSTM\u001b[0m)                     │ (\u001b[38;5;45mNone\u001b[0m, \u001b[38;5;34m128\u001b[0m)            │       \u001b[38;5;34m117,248\u001b[0m │\n",
       "├─────────────────────────────────┼────────────────────────┼───────────────┤\n",
       "│ dense (\u001b[38;5;33mDense\u001b[0m)                   │ (\u001b[38;5;45mNone\u001b[0m, \u001b[38;5;34m1\u001b[0m)              │           \u001b[38;5;34m129\u001b[0m │\n",
       "└─────────────────────────────────┴────────────────────────┴───────────────┘\n"
      ]
     },
     "metadata": {},
     "output_type": "display_data"
    },
    {
     "data": {
      "text/html": [
       "<pre style=\"white-space:pre;overflow-x:auto;line-height:normal;font-family:Menlo,'DejaVu Sans Mono',consolas,'Courier New',monospace\"><span style=\"font-weight: bold\"> Total params: </span><span style=\"color: #00af00; text-decoration-color: #00af00\">6,381,833</span> (24.34 MB)\n",
       "</pre>\n"
      ],
      "text/plain": [
       "\u001b[1m Total params: \u001b[0m\u001b[38;5;34m6,381,833\u001b[0m (24.34 MB)\n"
      ]
     },
     "metadata": {},
     "output_type": "display_data"
    },
    {
     "data": {
      "text/html": [
       "<pre style=\"white-space:pre;overflow-x:auto;line-height:normal;font-family:Menlo,'DejaVu Sans Mono',consolas,'Courier New',monospace\"><span style=\"font-weight: bold\"> Trainable params: </span><span style=\"color: #00af00; text-decoration-color: #00af00\">117,377</span> (458.50 KB)\n",
       "</pre>\n"
      ],
      "text/plain": [
       "\u001b[1m Trainable params: \u001b[0m\u001b[38;5;34m117,377\u001b[0m (458.50 KB)\n"
      ]
     },
     "metadata": {},
     "output_type": "display_data"
    },
    {
     "data": {
      "text/html": [
       "<pre style=\"white-space:pre;overflow-x:auto;line-height:normal;font-family:Menlo,'DejaVu Sans Mono',consolas,'Courier New',monospace\"><span style=\"font-weight: bold\"> Non-trainable params: </span><span style=\"color: #00af00; text-decoration-color: #00af00\">6,029,700</span> (23.00 MB)\n",
       "</pre>\n"
      ],
      "text/plain": [
       "\u001b[1m Non-trainable params: \u001b[0m\u001b[38;5;34m6,029,700\u001b[0m (23.00 MB)\n"
      ]
     },
     "metadata": {},
     "output_type": "display_data"
    },
    {
     "data": {
      "text/html": [
       "<pre style=\"white-space:pre;overflow-x:auto;line-height:normal;font-family:Menlo,'DejaVu Sans Mono',consolas,'Courier New',monospace\"><span style=\"font-weight: bold\"> Optimizer params: </span><span style=\"color: #00af00; text-decoration-color: #00af00\">234,756</span> (917.02 KB)\n",
       "</pre>\n"
      ],
      "text/plain": [
       "\u001b[1m Optimizer params: \u001b[0m\u001b[38;5;34m234,756\u001b[0m (917.02 KB)\n"
      ]
     },
     "metadata": {},
     "output_type": "display_data"
    },
    {
     "name": "stdout",
     "output_type": "stream",
     "text": [
      "\u001b[1m 7878/44759\u001b[0m \u001b[32m━━━\u001b[0m\u001b[37m━━━━━━━━━━━━━━━━━\u001b[0m \u001b[1m9:03\u001b[0m 15ms/step"
     ]
    },
    {
     "ename": "KeyboardInterrupt",
     "evalue": "",
     "output_type": "error",
     "traceback": [
      "\u001b[31m---------------------------------------------------------------------------\u001b[39m",
      "\u001b[31mKeyboardInterrupt\u001b[39m                         Traceback (most recent call last)",
      "\u001b[36mCell\u001b[39m\u001b[36m \u001b[39m\u001b[32mIn[7]\u001b[39m\u001b[32m, line 7\u001b[39m\n\u001b[32m      5\u001b[39m pretrained_lstm_model.summary()\n\u001b[32m      6\u001b[39m preds = pd.Series()\n\u001b[32m----> \u001b[39m\u001b[32m7\u001b[39m preds = \u001b[43mpretrained_lstm_model\u001b[49m\u001b[43m.\u001b[49m\u001b[43mpredict\u001b[49m\u001b[43m(\u001b[49m\u001b[43munseen_padded\u001b[49m\u001b[43m)\u001b[49m\n\u001b[32m      8\u001b[39m \u001b[38;5;66;03m# unseen_sentiments\u001b[39;00m\n",
      "\u001b[36mFile \u001b[39m\u001b[32mc:\\Users\\kaila\\AppData\\Local\\Programs\\Python\\Python312\\Lib\\site-packages\\keras\\src\\utils\\traceback_utils.py:117\u001b[39m, in \u001b[36mfilter_traceback.<locals>.error_handler\u001b[39m\u001b[34m(*args, **kwargs)\u001b[39m\n\u001b[32m    115\u001b[39m filtered_tb = \u001b[38;5;28;01mNone\u001b[39;00m\n\u001b[32m    116\u001b[39m \u001b[38;5;28;01mtry\u001b[39;00m:\n\u001b[32m--> \u001b[39m\u001b[32m117\u001b[39m     \u001b[38;5;28;01mreturn\u001b[39;00m \u001b[43mfn\u001b[49m\u001b[43m(\u001b[49m\u001b[43m*\u001b[49m\u001b[43margs\u001b[49m\u001b[43m,\u001b[49m\u001b[43m \u001b[49m\u001b[43m*\u001b[49m\u001b[43m*\u001b[49m\u001b[43mkwargs\u001b[49m\u001b[43m)\u001b[49m\n\u001b[32m    118\u001b[39m \u001b[38;5;28;01mexcept\u001b[39;00m \u001b[38;5;167;01mException\u001b[39;00m \u001b[38;5;28;01mas\u001b[39;00m e:\n\u001b[32m    119\u001b[39m     filtered_tb = _process_traceback_frames(e.__traceback__)\n",
      "\u001b[36mFile \u001b[39m\u001b[32mc:\\Users\\kaila\\AppData\\Local\\Programs\\Python\\Python312\\Lib\\site-packages\\keras\\src\\backend\\tensorflow\\trainer.py:560\u001b[39m, in \u001b[36mTensorFlowTrainer.predict\u001b[39m\u001b[34m(self, x, batch_size, verbose, steps, callbacks)\u001b[39m\n\u001b[32m    558\u001b[39m callbacks.on_predict_batch_begin(step)\n\u001b[32m    559\u001b[39m data = get_data(iterator)\n\u001b[32m--> \u001b[39m\u001b[32m560\u001b[39m batch_outputs = \u001b[38;5;28;43mself\u001b[39;49m\u001b[43m.\u001b[49m\u001b[43mpredict_function\u001b[49m\u001b[43m(\u001b[49m\u001b[43mdata\u001b[49m\u001b[43m)\u001b[49m\n\u001b[32m    561\u001b[39m outputs = append_to_outputs(batch_outputs, outputs)\n\u001b[32m    562\u001b[39m callbacks.on_predict_batch_end(step, {\u001b[33m\"\u001b[39m\u001b[33moutputs\u001b[39m\u001b[33m\"\u001b[39m: batch_outputs})\n",
      "\u001b[36mFile \u001b[39m\u001b[32mc:\\Users\\kaila\\AppData\\Local\\Programs\\Python\\Python312\\Lib\\site-packages\\tensorflow\\python\\util\\traceback_utils.py:150\u001b[39m, in \u001b[36mfilter_traceback.<locals>.error_handler\u001b[39m\u001b[34m(*args, **kwargs)\u001b[39m\n\u001b[32m    148\u001b[39m filtered_tb = \u001b[38;5;28;01mNone\u001b[39;00m\n\u001b[32m    149\u001b[39m \u001b[38;5;28;01mtry\u001b[39;00m:\n\u001b[32m--> \u001b[39m\u001b[32m150\u001b[39m   \u001b[38;5;28;01mreturn\u001b[39;00m \u001b[43mfn\u001b[49m\u001b[43m(\u001b[49m\u001b[43m*\u001b[49m\u001b[43margs\u001b[49m\u001b[43m,\u001b[49m\u001b[43m \u001b[49m\u001b[43m*\u001b[49m\u001b[43m*\u001b[49m\u001b[43mkwargs\u001b[49m\u001b[43m)\u001b[49m\n\u001b[32m    151\u001b[39m \u001b[38;5;28;01mexcept\u001b[39;00m \u001b[38;5;167;01mException\u001b[39;00m \u001b[38;5;28;01mas\u001b[39;00m e:\n\u001b[32m    152\u001b[39m   filtered_tb = _process_traceback_frames(e.__traceback__)\n",
      "\u001b[36mFile \u001b[39m\u001b[32mc:\\Users\\kaila\\AppData\\Local\\Programs\\Python\\Python312\\Lib\\site-packages\\tensorflow\\python\\eager\\polymorphic_function\\polymorphic_function.py:833\u001b[39m, in \u001b[36mFunction.__call__\u001b[39m\u001b[34m(self, *args, **kwds)\u001b[39m\n\u001b[32m    830\u001b[39m compiler = \u001b[33m\"\u001b[39m\u001b[33mxla\u001b[39m\u001b[33m\"\u001b[39m \u001b[38;5;28;01mif\u001b[39;00m \u001b[38;5;28mself\u001b[39m._jit_compile \u001b[38;5;28;01melse\u001b[39;00m \u001b[33m\"\u001b[39m\u001b[33mnonXla\u001b[39m\u001b[33m\"\u001b[39m\n\u001b[32m    832\u001b[39m \u001b[38;5;28;01mwith\u001b[39;00m OptionalXlaContext(\u001b[38;5;28mself\u001b[39m._jit_compile):\n\u001b[32m--> \u001b[39m\u001b[32m833\u001b[39m   result = \u001b[38;5;28;43mself\u001b[39;49m\u001b[43m.\u001b[49m\u001b[43m_call\u001b[49m\u001b[43m(\u001b[49m\u001b[43m*\u001b[49m\u001b[43margs\u001b[49m\u001b[43m,\u001b[49m\u001b[43m \u001b[49m\u001b[43m*\u001b[49m\u001b[43m*\u001b[49m\u001b[43mkwds\u001b[49m\u001b[43m)\u001b[49m\n\u001b[32m    835\u001b[39m new_tracing_count = \u001b[38;5;28mself\u001b[39m.experimental_get_tracing_count()\n\u001b[32m    836\u001b[39m without_tracing = (tracing_count == new_tracing_count)\n",
      "\u001b[36mFile \u001b[39m\u001b[32mc:\\Users\\kaila\\AppData\\Local\\Programs\\Python\\Python312\\Lib\\site-packages\\tensorflow\\python\\eager\\polymorphic_function\\polymorphic_function.py:878\u001b[39m, in \u001b[36mFunction._call\u001b[39m\u001b[34m(self, *args, **kwds)\u001b[39m\n\u001b[32m    875\u001b[39m \u001b[38;5;28mself\u001b[39m._lock.release()\n\u001b[32m    876\u001b[39m \u001b[38;5;66;03m# In this case we have not created variables on the first call. So we can\u001b[39;00m\n\u001b[32m    877\u001b[39m \u001b[38;5;66;03m# run the first trace but we should fail if variables are created.\u001b[39;00m\n\u001b[32m--> \u001b[39m\u001b[32m878\u001b[39m results = \u001b[43mtracing_compilation\u001b[49m\u001b[43m.\u001b[49m\u001b[43mcall_function\u001b[49m\u001b[43m(\u001b[49m\n\u001b[32m    879\u001b[39m \u001b[43m    \u001b[49m\u001b[43margs\u001b[49m\u001b[43m,\u001b[49m\u001b[43m \u001b[49m\u001b[43mkwds\u001b[49m\u001b[43m,\u001b[49m\u001b[43m \u001b[49m\u001b[38;5;28;43mself\u001b[39;49m\u001b[43m.\u001b[49m\u001b[43m_variable_creation_config\u001b[49m\n\u001b[32m    880\u001b[39m \u001b[43m\u001b[49m\u001b[43m)\u001b[49m\n\u001b[32m    881\u001b[39m \u001b[38;5;28;01mif\u001b[39;00m \u001b[38;5;28mself\u001b[39m._created_variables:\n\u001b[32m    882\u001b[39m   \u001b[38;5;28;01mraise\u001b[39;00m \u001b[38;5;167;01mValueError\u001b[39;00m(\u001b[33m\"\u001b[39m\u001b[33mCreating variables on a non-first call to a function\u001b[39m\u001b[33m\"\u001b[39m\n\u001b[32m    883\u001b[39m                    \u001b[33m\"\u001b[39m\u001b[33m decorated with tf.function.\u001b[39m\u001b[33m\"\u001b[39m)\n",
      "\u001b[36mFile \u001b[39m\u001b[32mc:\\Users\\kaila\\AppData\\Local\\Programs\\Python\\Python312\\Lib\\site-packages\\tensorflow\\python\\eager\\polymorphic_function\\tracing_compilation.py:139\u001b[39m, in \u001b[36mcall_function\u001b[39m\u001b[34m(args, kwargs, tracing_options)\u001b[39m\n\u001b[32m    137\u001b[39m bound_args = function.function_type.bind(*args, **kwargs)\n\u001b[32m    138\u001b[39m flat_inputs = function.function_type.unpack_inputs(bound_args)\n\u001b[32m--> \u001b[39m\u001b[32m139\u001b[39m \u001b[38;5;28;01mreturn\u001b[39;00m \u001b[43mfunction\u001b[49m\u001b[43m.\u001b[49m\u001b[43m_call_flat\u001b[49m\u001b[43m(\u001b[49m\u001b[43m  \u001b[49m\u001b[38;5;66;43;03m# pylint: disable=protected-access\u001b[39;49;00m\n\u001b[32m    140\u001b[39m \u001b[43m    \u001b[49m\u001b[43mflat_inputs\u001b[49m\u001b[43m,\u001b[49m\u001b[43m \u001b[49m\u001b[43mcaptured_inputs\u001b[49m\u001b[43m=\u001b[49m\u001b[43mfunction\u001b[49m\u001b[43m.\u001b[49m\u001b[43mcaptured_inputs\u001b[49m\n\u001b[32m    141\u001b[39m \u001b[43m\u001b[49m\u001b[43m)\u001b[49m\n",
      "\u001b[36mFile \u001b[39m\u001b[32mc:\\Users\\kaila\\AppData\\Local\\Programs\\Python\\Python312\\Lib\\site-packages\\tensorflow\\python\\eager\\polymorphic_function\\concrete_function.py:1322\u001b[39m, in \u001b[36mConcreteFunction._call_flat\u001b[39m\u001b[34m(self, tensor_inputs, captured_inputs)\u001b[39m\n\u001b[32m   1318\u001b[39m possible_gradient_type = gradients_util.PossibleTapeGradientTypes(args)\n\u001b[32m   1319\u001b[39m \u001b[38;5;28;01mif\u001b[39;00m (possible_gradient_type == gradients_util.POSSIBLE_GRADIENT_TYPES_NONE\n\u001b[32m   1320\u001b[39m     \u001b[38;5;129;01mand\u001b[39;00m executing_eagerly):\n\u001b[32m   1321\u001b[39m   \u001b[38;5;66;03m# No tape is watching; skip to running the function.\u001b[39;00m\n\u001b[32m-> \u001b[39m\u001b[32m1322\u001b[39m   \u001b[38;5;28;01mreturn\u001b[39;00m \u001b[38;5;28;43mself\u001b[39;49m\u001b[43m.\u001b[49m\u001b[43m_inference_function\u001b[49m\u001b[43m.\u001b[49m\u001b[43mcall_preflattened\u001b[49m\u001b[43m(\u001b[49m\u001b[43margs\u001b[49m\u001b[43m)\u001b[49m\n\u001b[32m   1323\u001b[39m forward_backward = \u001b[38;5;28mself\u001b[39m._select_forward_and_backward_functions(\n\u001b[32m   1324\u001b[39m     args,\n\u001b[32m   1325\u001b[39m     possible_gradient_type,\n\u001b[32m   1326\u001b[39m     executing_eagerly)\n\u001b[32m   1327\u001b[39m forward_function, args_with_tangents = forward_backward.forward()\n",
      "\u001b[36mFile \u001b[39m\u001b[32mc:\\Users\\kaila\\AppData\\Local\\Programs\\Python\\Python312\\Lib\\site-packages\\tensorflow\\python\\eager\\polymorphic_function\\atomic_function.py:216\u001b[39m, in \u001b[36mAtomicFunction.call_preflattened\u001b[39m\u001b[34m(self, args)\u001b[39m\n\u001b[32m    214\u001b[39m \u001b[38;5;28;01mdef\u001b[39;00m\u001b[38;5;250m \u001b[39m\u001b[34mcall_preflattened\u001b[39m(\u001b[38;5;28mself\u001b[39m, args: Sequence[core.Tensor]) -> Any:\n\u001b[32m    215\u001b[39m \u001b[38;5;250m  \u001b[39m\u001b[33;03m\"\"\"Calls with flattened tensor inputs and returns the structured output.\"\"\"\u001b[39;00m\n\u001b[32m--> \u001b[39m\u001b[32m216\u001b[39m   flat_outputs = \u001b[38;5;28;43mself\u001b[39;49m\u001b[43m.\u001b[49m\u001b[43mcall_flat\u001b[49m\u001b[43m(\u001b[49m\u001b[43m*\u001b[49m\u001b[43margs\u001b[49m\u001b[43m)\u001b[49m\n\u001b[32m    217\u001b[39m   \u001b[38;5;28;01mreturn\u001b[39;00m \u001b[38;5;28mself\u001b[39m.function_type.pack_output(flat_outputs)\n",
      "\u001b[36mFile \u001b[39m\u001b[32mc:\\Users\\kaila\\AppData\\Local\\Programs\\Python\\Python312\\Lib\\site-packages\\tensorflow\\python\\eager\\polymorphic_function\\atomic_function.py:251\u001b[39m, in \u001b[36mAtomicFunction.call_flat\u001b[39m\u001b[34m(self, *args)\u001b[39m\n\u001b[32m    249\u001b[39m \u001b[38;5;28;01mwith\u001b[39;00m record.stop_recording():\n\u001b[32m    250\u001b[39m   \u001b[38;5;28;01mif\u001b[39;00m \u001b[38;5;28mself\u001b[39m._bound_context.executing_eagerly():\n\u001b[32m--> \u001b[39m\u001b[32m251\u001b[39m     outputs = \u001b[38;5;28;43mself\u001b[39;49m\u001b[43m.\u001b[49m\u001b[43m_bound_context\u001b[49m\u001b[43m.\u001b[49m\u001b[43mcall_function\u001b[49m\u001b[43m(\u001b[49m\n\u001b[32m    252\u001b[39m \u001b[43m        \u001b[49m\u001b[38;5;28;43mself\u001b[39;49m\u001b[43m.\u001b[49m\u001b[43mname\u001b[49m\u001b[43m,\u001b[49m\n\u001b[32m    253\u001b[39m \u001b[43m        \u001b[49m\u001b[38;5;28;43mlist\u001b[39;49m\u001b[43m(\u001b[49m\u001b[43margs\u001b[49m\u001b[43m)\u001b[49m\u001b[43m,\u001b[49m\n\u001b[32m    254\u001b[39m \u001b[43m        \u001b[49m\u001b[38;5;28;43mlen\u001b[39;49m\u001b[43m(\u001b[49m\u001b[38;5;28;43mself\u001b[39;49m\u001b[43m.\u001b[49m\u001b[43mfunction_type\u001b[49m\u001b[43m.\u001b[49m\u001b[43mflat_outputs\u001b[49m\u001b[43m)\u001b[49m\u001b[43m,\u001b[49m\n\u001b[32m    255\u001b[39m \u001b[43m    \u001b[49m\u001b[43m)\u001b[49m\n\u001b[32m    256\u001b[39m   \u001b[38;5;28;01melse\u001b[39;00m:\n\u001b[32m    257\u001b[39m     outputs = make_call_op_in_graph(\n\u001b[32m    258\u001b[39m         \u001b[38;5;28mself\u001b[39m,\n\u001b[32m    259\u001b[39m         \u001b[38;5;28mlist\u001b[39m(args),\n\u001b[32m    260\u001b[39m         \u001b[38;5;28mself\u001b[39m._bound_context.function_call_options.as_attrs(),\n\u001b[32m    261\u001b[39m     )\n",
      "\u001b[36mFile \u001b[39m\u001b[32mc:\\Users\\kaila\\AppData\\Local\\Programs\\Python\\Python312\\Lib\\site-packages\\tensorflow\\python\\eager\\context.py:1688\u001b[39m, in \u001b[36mContext.call_function\u001b[39m\u001b[34m(self, name, tensor_inputs, num_outputs)\u001b[39m\n\u001b[32m   1686\u001b[39m cancellation_context = cancellation.context()\n\u001b[32m   1687\u001b[39m \u001b[38;5;28;01mif\u001b[39;00m cancellation_context \u001b[38;5;129;01mis\u001b[39;00m \u001b[38;5;28;01mNone\u001b[39;00m:\n\u001b[32m-> \u001b[39m\u001b[32m1688\u001b[39m   outputs = \u001b[43mexecute\u001b[49m\u001b[43m.\u001b[49m\u001b[43mexecute\u001b[49m\u001b[43m(\u001b[49m\n\u001b[32m   1689\u001b[39m \u001b[43m      \u001b[49m\u001b[43mname\u001b[49m\u001b[43m.\u001b[49m\u001b[43mdecode\u001b[49m\u001b[43m(\u001b[49m\u001b[33;43m\"\u001b[39;49m\u001b[33;43mutf-8\u001b[39;49m\u001b[33;43m\"\u001b[39;49m\u001b[43m)\u001b[49m\u001b[43m,\u001b[49m\n\u001b[32m   1690\u001b[39m \u001b[43m      \u001b[49m\u001b[43mnum_outputs\u001b[49m\u001b[43m=\u001b[49m\u001b[43mnum_outputs\u001b[49m\u001b[43m,\u001b[49m\n\u001b[32m   1691\u001b[39m \u001b[43m      \u001b[49m\u001b[43minputs\u001b[49m\u001b[43m=\u001b[49m\u001b[43mtensor_inputs\u001b[49m\u001b[43m,\u001b[49m\n\u001b[32m   1692\u001b[39m \u001b[43m      \u001b[49m\u001b[43mattrs\u001b[49m\u001b[43m=\u001b[49m\u001b[43mattrs\u001b[49m\u001b[43m,\u001b[49m\n\u001b[32m   1693\u001b[39m \u001b[43m      \u001b[49m\u001b[43mctx\u001b[49m\u001b[43m=\u001b[49m\u001b[38;5;28;43mself\u001b[39;49m\u001b[43m,\u001b[49m\n\u001b[32m   1694\u001b[39m \u001b[43m  \u001b[49m\u001b[43m)\u001b[49m\n\u001b[32m   1695\u001b[39m \u001b[38;5;28;01melse\u001b[39;00m:\n\u001b[32m   1696\u001b[39m   outputs = execute.execute_with_cancellation(\n\u001b[32m   1697\u001b[39m       name.decode(\u001b[33m\"\u001b[39m\u001b[33mutf-8\u001b[39m\u001b[33m\"\u001b[39m),\n\u001b[32m   1698\u001b[39m       num_outputs=num_outputs,\n\u001b[32m   (...)\u001b[39m\u001b[32m   1702\u001b[39m       cancellation_manager=cancellation_context,\n\u001b[32m   1703\u001b[39m   )\n",
      "\u001b[36mFile \u001b[39m\u001b[32mc:\\Users\\kaila\\AppData\\Local\\Programs\\Python\\Python312\\Lib\\site-packages\\tensorflow\\python\\eager\\execute.py:53\u001b[39m, in \u001b[36mquick_execute\u001b[39m\u001b[34m(op_name, num_outputs, inputs, attrs, ctx, name)\u001b[39m\n\u001b[32m     51\u001b[39m \u001b[38;5;28;01mtry\u001b[39;00m:\n\u001b[32m     52\u001b[39m   ctx.ensure_initialized()\n\u001b[32m---> \u001b[39m\u001b[32m53\u001b[39m   tensors = \u001b[43mpywrap_tfe\u001b[49m\u001b[43m.\u001b[49m\u001b[43mTFE_Py_Execute\u001b[49m\u001b[43m(\u001b[49m\u001b[43mctx\u001b[49m\u001b[43m.\u001b[49m\u001b[43m_handle\u001b[49m\u001b[43m,\u001b[49m\u001b[43m \u001b[49m\u001b[43mdevice_name\u001b[49m\u001b[43m,\u001b[49m\u001b[43m \u001b[49m\u001b[43mop_name\u001b[49m\u001b[43m,\u001b[49m\n\u001b[32m     54\u001b[39m \u001b[43m                                      \u001b[49m\u001b[43minputs\u001b[49m\u001b[43m,\u001b[49m\u001b[43m \u001b[49m\u001b[43mattrs\u001b[49m\u001b[43m,\u001b[49m\u001b[43m \u001b[49m\u001b[43mnum_outputs\u001b[49m\u001b[43m)\u001b[49m\n\u001b[32m     55\u001b[39m \u001b[38;5;28;01mexcept\u001b[39;00m core._NotOkStatusException \u001b[38;5;28;01mas\u001b[39;00m e:\n\u001b[32m     56\u001b[39m   \u001b[38;5;28;01mif\u001b[39;00m name \u001b[38;5;129;01mis\u001b[39;00m \u001b[38;5;129;01mnot\u001b[39;00m \u001b[38;5;28;01mNone\u001b[39;00m:\n",
      "\u001b[31mKeyboardInterrupt\u001b[39m: "
     ]
    }
   ],
   "source": [
    "from keras.models import load_model\n",
    "\n",
    "model_path = 'lstm_model.keras'\n",
    "pretrained_lstm_model = load_model(model_path)\n",
    "pretrained_lstm_model.summary()\n",
    "preds = pd.Series()\n",
    "preds = pretrained_lstm_model.predict(unseen_padded)\n",
    "# unseen_sentiments"
   ]
  },
  {
   "cell_type": "code",
   "execution_count": null,
   "id": "4db6c792",
   "metadata": {},
   "outputs": [],
   "source": [
    "preds = (preds > 0.5).astype(int).flatten()"
   ]
  },
  {
   "cell_type": "code",
   "execution_count": null,
   "id": "0067dea0",
   "metadata": {},
   "outputs": [
    {
     "data": {
      "text/html": [
       "<div>\n",
       "<style scoped>\n",
       "    .dataframe tbody tr th:only-of-type {\n",
       "        vertical-align: middle;\n",
       "    }\n",
       "\n",
       "    .dataframe tbody tr th {\n",
       "        vertical-align: top;\n",
       "    }\n",
       "\n",
       "    .dataframe thead th {\n",
       "        text-align: right;\n",
       "    }\n",
       "</style>\n",
       "<table border=\"1\" class=\"dataframe\">\n",
       "  <thead>\n",
       "    <tr style=\"text-align: right;\">\n",
       "      <th></th>\n",
       "      <th>Unnamed: 0</th>\n",
       "      <th>category</th>\n",
       "      <th>brand</th>\n",
       "      <th>item</th>\n",
       "      <th>rating</th>\n",
       "      <th>cleanedText</th>\n",
       "      <th>text_length</th>\n",
       "      <th>timestamp</th>\n",
       "      <th>numRating</th>\n",
       "      <th>average_rating</th>\n",
       "      <th>total_votes</th>\n",
       "      <th>popularity_score</th>\n",
       "      <th>predictedSentiment</th>\n",
       "    </tr>\n",
       "  </thead>\n",
       "  <tbody>\n",
       "    <tr>\n",
       "      <th>0</th>\n",
       "      <td>0</td>\n",
       "      <td>All Beauty</td>\n",
       "      <td>herbivore</td>\n",
       "      <td>Herbivore - Natural Sea Mist Texturizing Salt ...</td>\n",
       "      <td>5.0</td>\n",
       "      <td>spray really nice smell really good go really ...</td>\n",
       "      <td>61</td>\n",
       "      <td>2020-05-05 14:08:48.923</td>\n",
       "      <td>384.0</td>\n",
       "      <td>4.3</td>\n",
       "      <td>0</td>\n",
       "      <td>231.69</td>\n",
       "      <td>1</td>\n",
       "    </tr>\n",
       "  </tbody>\n",
       "</table>\n",
       "</div>"
      ],
      "text/plain": [
       "   Unnamed: 0    category      brand  \\\n",
       "0           0  All Beauty  herbivore   \n",
       "\n",
       "                                                item  rating  \\\n",
       "0  Herbivore - Natural Sea Mist Texturizing Salt ...     5.0   \n",
       "\n",
       "                                         cleanedText  text_length  \\\n",
       "0  spray really nice smell really good go really ...           61   \n",
       "\n",
       "                 timestamp  numRating  average_rating  total_votes  \\\n",
       "0  2020-05-05 14:08:48.923      384.0             4.3            0   \n",
       "\n",
       "   popularity_score  predictedSentiment  \n",
       "0            231.69                   1  "
      ]
     },
     "execution_count": 10,
     "metadata": {},
     "output_type": "execute_result"
    }
   ],
   "source": [
    "analysis_set[\"predictedSentiment\"] = preds\n",
    "analysis_set.head(1)"
   ]
  },
  {
   "cell_type": "code",
   "execution_count": null,
   "id": "d3e199e5",
   "metadata": {},
   "outputs": [],
   "source": [
    "analysis_set.to_csv(\"csv's/Predictions.csv\")"
   ]
  },
  {
   "cell_type": "code",
   "execution_count": null,
   "id": "0b75eacd",
   "metadata": {},
   "outputs": [],
   "source": [
    "df = pd.DataFrame()\n",
    "df = pd.read_csv(\"csv's/Predictions.csv\")"
   ]
  },
  {
   "cell_type": "code",
   "execution_count": null,
   "id": "5e527da0",
   "metadata": {},
   "outputs": [],
   "source": [
    "df.loc[:, 'timestamp'] = pd.to_datetime(df['timestamp'], unit= 'ms')\n",
    "df.loc[:, 'month'] = df['timestamp'].dt.month\n",
    "df.loc[:, 'year'] = df['timestamp'].dt.year"
   ]
  },
  {
   "cell_type": "code",
   "execution_count": null,
   "id": "25575a4e",
   "metadata": {},
   "outputs": [],
   "source": [
    "cps_vals = {}"
   ]
  },
  {
   "cell_type": "code",
   "execution_count": null,
   "id": "a3db582e",
   "metadata": {},
   "outputs": [],
   "source": [
    "alpha = 0.7\n",
    "beta = 0.25\n",
    "gamma = 0.05"
   ]
  },
  {
   "cell_type": "code",
   "execution_count": null,
   "id": "fa279a54",
   "metadata": {},
   "outputs": [],
   "source": [
    "for category in df['category'].unique():\n",
    "    category_data = df[df['category']==category].copy()\n",
    "\n",
    "    ## Trying to separate categories into their months now\n",
    "    \n",
    "    for year in category_data['year'].unique():\n",
    "        for month in category_data['month'].unique():\n",
    "            category_by_year_month = category_data[(category_data[\"year\"]==year) & (category_data[\"month\"]==month)]\n",
    "            \n",
    "            if not category_by_year_month.empty:\n",
    "                monthly_total_reviews = category_by_year_month[\"numRating\"].sum()\n",
    "                monthly_total_average_rating = category_by_year_month[\"average_rating\"].sum()\n",
    "                monthly_total_votes = category_by_year_month[\"total_votes\"].sum()\n",
    "\n",
    "\n",
    "                cps = ((alpha * monthly_total_reviews) +\n",
    "                        (beta * monthly_total_average_rating) +\n",
    "                        (gamma * monthly_total_votes))\n",
    "                \n",
    "                cps_vals[(category, year, month)] = cps"
   ]
  },
  {
   "cell_type": "code",
   "execution_count": null,
   "id": "e09c3496",
   "metadata": {},
   "outputs": [],
   "source": [
    "df.loc[:, 'CPS'] = df.apply(\n",
    "    lambda row: cps_vals.get((row['category'], row['year'], row['month']), 0),\n",
    "    axis=1\n",
    ")"
   ]
  },
  {
   "cell_type": "code",
   "execution_count": null,
   "id": "0514e924",
   "metadata": {},
   "outputs": [],
   "source": [
    "cps_summary = pd.DataFrame([(cat, yr, mo, val) \n",
    "                           for (cat, yr, mo), val in cps_vals.items()],\n",
    "                           columns=['category', 'year', 'month', 'CPS'])"
   ]
  },
  {
   "cell_type": "code",
   "execution_count": null,
   "id": "87102ba7",
   "metadata": {},
   "outputs": [],
   "source": [
    "cps_summary = cps_summary.sort_values(['year', 'month', 'category'])"
   ]
  },
  {
   "cell_type": "code",
   "execution_count": null,
   "id": "e54d65aa",
   "metadata": {},
   "outputs": [],
   "source": [
    "cps_summary[\"CPS\"] = np.log(cps_summary[\"CPS\"] + 1)\n",
    "min_val = cps_summary[\"CPS\"].min()\n",
    "max_val = cps_summary[\"CPS\"].max()\n",
    "cps_summary[\"CPS scaled\"] = 0 + (cps_summary[\"CPS\"] - min_val) * (100 - 0) / (max_val - min_val)"
   ]
  },
  {
   "cell_type": "code",
   "execution_count": null,
   "id": "2af88740",
   "metadata": {},
   "outputs": [],
   "source": [
    "df[\"CPS\"] = np.log(df[\"CPS\"] + 1)\n",
    "min_val = df[\"CPS\"].min()\n",
    "max_val = df[\"CPS\"].max()\n",
    "df[\"CPS scaled\"] = 0 + (df[\"CPS\"] - min_val) * (100 - 0) / (max_val - min_val)"
   ]
  },
  {
   "cell_type": "markdown",
   "id": "6b1f1b14",
   "metadata": {},
   "source": [
    "# Grouped months by their mean popularity scores"
   ]
  },
  {
   "cell_type": "code",
   "execution_count": null,
   "id": "2c7d75c3",
   "metadata": {},
   "outputs": [],
   "source": [
    "popularity_by_month = df.groupby(['category', 'month'])['popularity_score'].mean().div(1000).round(2).reset_index()"
   ]
  },
  {
   "cell_type": "code",
   "execution_count": null,
   "id": "6249382f",
   "metadata": {},
   "outputs": [],
   "source": [
    "def get_top_categories_by_month(month_num):\n",
    "    # Filter for the specific month\n",
    "    month_data = popularity_by_month[popularity_by_month['month'] == month_num]\n",
    "    \n",
    "    # Sort by popularity_score in descending order and take top 5\n",
    "    top_categories = month_data.sort_values('popularity_score', ascending=False).head(3)\n",
    "    \n",
    "    return top_categories"
   ]
  },
  {
   "cell_type": "code",
   "execution_count": null,
   "id": "fa38ea55",
   "metadata": {},
   "outputs": [],
   "source": [
    "top_categories_by_month = {}\n",
    "month_names = ['January', 'February', 'March', 'April', 'May', 'June', \n",
    "              'July', 'August', 'September', 'October', 'November', 'December']"
   ]
  },
  {
   "cell_type": "code",
   "execution_count": null,
   "id": "17efa6a4",
   "metadata": {},
   "outputs": [],
   "source": [
    "for i in range(1, 13):\n",
    "    top_categories = get_top_categories_by_month(i)\n",
    "    top_categories_by_month[month_names[i-1]] = top_categories"
   ]
  },
  {
   "cell_type": "code",
   "execution_count": null,
   "id": "1dec30aa",
   "metadata": {},
   "outputs": [],
   "source": [
    "result_df = pd.DataFrame()\n",
    "\n",
    "for month_name, top_data in top_categories_by_month.items():\n",
    "    if not top_data.empty:\n",
    "        # Add month name as a column\n",
    "        top_data_with_month = top_data.copy()\n",
    "        top_data_with_month['month_name'] = month_name\n",
    "        \n",
    "        # Append to result DataFrame\n",
    "        result_df = pd.concat([result_df, top_data_with_month])"
   ]
  },
  {
   "cell_type": "code",
   "execution_count": null,
   "id": "e5aaad29",
   "metadata": {},
   "outputs": [],
   "source": [
    "final_result = result_df[['month', 'month_name', 'category', 'popularity_score']].sort_values(\n",
    "    by=['month', 'popularity_score'], \n",
    "    ascending=[True, False]\n",
    ")"
   ]
  },
  {
   "cell_type": "code",
   "execution_count": null,
   "id": "58a72eb9",
   "metadata": {},
   "outputs": [],
   "source": [
    "final_result.drop(columns=[\"month\"], inplace=True)\n",
    "final_result"
   ]
  },
  {
   "cell_type": "code",
   "execution_count": null,
   "id": "5bff2cbc",
   "metadata": {},
   "outputs": [],
   "source": [
    "df = pd.read_csv(\"csvs/Predictions.csv\")"
   ]
  },
  {
   "cell_type": "code",
   "execution_count": null,
   "id": "193042e9",
   "metadata": {},
   "outputs": [],
   "source": [
    "df['timestamp']= pd.to_datetime(df['timestamp'])\n",
    "df['month']= df['timestamp'].dt.month"
   ]
  },
  {
   "cell_type": "code",
   "execution_count": null,
   "id": "7d2c2759",
   "metadata": {},
   "outputs": [],
   "source": [
    "group= df.groupby(['category', 'month']).agg(totalReviews=('predictedSentiment', 'count'), positive=('predictedSentiment', 'sum')).reset_index()"
   ]
  },
  {
   "cell_type": "code",
   "execution_count": null,
   "id": "c495abe0",
   "metadata": {},
   "outputs": [],
   "source": [
    "group['ratio']= group['positive'] / group['totalReviews']\n",
    "group['ratio']= group['ratio'].round(2)\n",
    "# group"
   ]
  },
  {
   "cell_type": "code",
   "execution_count": null,
   "id": "22aeb577",
   "metadata": {},
   "outputs": [],
   "source": [
    "groupMonth= group.pivot(index= 'category', columns= 'month', values= 'totalReviews').fillna(0)\n",
    "groupRatio= group.pivot(index= 'category', columns= 'month', values= 'ratio').fillna(0)"
   ]
  },
  {
   "cell_type": "code",
   "execution_count": null,
   "id": "8ae80ce0",
   "metadata": {},
   "outputs": [],
   "source": [
    "months= range(1, 13) #1 -> 12\n",
    "month_names= ['January', 'February', 'March', 'April', 'May', 'June', \n",
    "              'July', 'August', 'September', 'October', 'November', 'December']\n",
    "\n",
    "#reindexs to make category not the index anymore\n",
    "groupMonth= groupMonth.reindex(columns= months, fill_value= 0.0).astype(float)\n",
    "groupRatio= groupRatio.reindex(columns= months, fill_value= 0).astype(float)"
   ]
  },
  {
   "cell_type": "code",
   "execution_count": null,
   "id": "ca537ad4",
   "metadata": {},
   "outputs": [],
   "source": [
    "totalRatio= pd.concat([\n",
    "    groupMonth.rename(columns= dict(zip(months, [f\"{i}_Total\"for i in month_names]))),\n",
    "    groupRatio.rename(columns= dict(zip(months, [f\"{i}_Ratio\"for i in month_names])))\n",
    "], axis= 1)"
   ]
  },
  {
   "cell_type": "code",
   "execution_count": null,
   "id": "bffd0423",
   "metadata": {},
   "outputs": [],
   "source": [
    "columnOrder= []\n",
    "for i in month_names:\n",
    "    columnOrder.extend([f\"{i}_Total\", f\"{i}_Ratio\"])"
   ]
  },
  {
   "cell_type": "code",
   "execution_count": null,
   "id": "c96aeade",
   "metadata": {},
   "outputs": [],
   "source": [
    "totalRatio= totalRatio[columnOrder].reset_index()"
   ]
  },
  {
   "cell_type": "code",
   "execution_count": null,
   "id": "ca62c771",
   "metadata": {},
   "outputs": [],
   "source": [
    "totalCols= [col for col in totalRatio.columns if '_Total' in col]\n",
    "totalRatio[totalCols]= totalRatio[totalCols].astype(int)"
   ]
  },
  {
   "cell_type": "code",
   "execution_count": null,
   "id": "a2044ec5",
   "metadata": {},
   "outputs": [],
   "source": [
    "totalRatio"
   ]
  },
  {
   "cell_type": "markdown",
   "id": "8bdfb513",
   "metadata": {},
   "source": [
    "# Visualization for all categories and their popularity over the months"
   ]
  },
  {
   "cell_type": "code",
   "execution_count": null,
   "id": "380be849",
   "metadata": {},
   "outputs": [],
   "source": [
    "#get total columns\n",
    "totalCols = [col for col in totalRatio.columns if '_Total' in col]\n",
    "\n",
    "#melt the frame\n",
    "melted= totalRatio.melt(id_vars='category', value_vars=totalCols, var_name='Month', value_name='TotalReviews')\n",
    "\n",
    "melted['Month'] = melted['Month'].str.replace('_Total', '')\n",
    "melted['Month'] = pd.Categorical(melted['Month'], categories=month_names, ordered=True)\n",
    "\n",
    "#plot \n",
    "plt.figure(figsize=(12, 9))\n",
    "for category in melted['category'].unique():\n",
    "    category_data = melted[melted['category'] == category]\n",
    "    plt.plot(category_data['Month'], category_data['TotalReviews'], label=category)\n",
    "\n",
    "#supposed to get the max value but it dont work :\\\n",
    "# max_point = category_data.loc[category_data['TotalReviews'].idxmax()]\n",
    "# plt.text(max_point['Month'], max_point['TotalReviews'], category, fontsize=9, ha='center', va='bottom')\n",
    "\n",
    "plt.title('Trend Analysis of Total Reviews by Category')\n",
    "plt.xlabel('Month')\n",
    "plt.ylabel('Total Reviews')\n",
    "plt.legend(title='Category', bbox_to_anchor=(1.05, 1), loc='upper left')\n",
    "plt.xticks(rotation=45)\n",
    "plt.tight_layout()\n",
    "plt.show()"
   ]
  },
  {
   "cell_type": "markdown",
   "id": "e5d51a25",
   "metadata": {},
   "source": [
    "# Visualization for single category popularity"
   ]
  },
  {
   "cell_type": "code",
   "execution_count": null,
   "id": "9dbb9cff",
   "metadata": {},
   "outputs": [],
   "source": [
    "# #The category you want to plot\n",
    "# selected= \"Video Games\"\n",
    "\n",
    "# #melt frame\n",
    "# category_data = melted[melted['category'] == selected]\n",
    "\n",
    "# #Plot\n",
    "# plt.figure(figsize=(10, 6))\n",
    "# plt.plot(category_data['Month'], category_data['TotalReviews'], marker='o', label=selected)\n",
    "\n",
    "\n",
    "# plt.title(f'Trend Analysis of Total Reviews for {selected}')\n",
    "# plt.xlabel('Month')\n",
    "# plt.ylabel('Total Reviews')\n",
    "# plt.xticks(rotation=45)\n",
    "# plt.legend()\n",
    "# plt.tight_layout()\n",
    "# plt.show()\n",
    "\n",
    "#chosen category\n",
    "selected = \"Video Games\"\n",
    "\n",
    "#get the columns for each (WHY IS IT SO COMPLICTED TO GET THE DAMN RATIO TO SHOW)\n",
    "total_review_cols = [col for col in totalRatio.columns if '_Total' in col]\n",
    "ratio_cols = [col for col in totalRatio.columns if '_Ratio' in col]\n",
    "\n",
    "# grab the categories from the categories frame\n",
    "category_data = totalRatio[totalRatio['category'] == selected]\n",
    "\n",
    "#melt frames to have each set of data\n",
    "melted_reviews = category_data.melt(id_vars='category', value_vars=total_review_cols, var_name='Month', value_name='TotalReviews')\n",
    "melted_ratios = category_data.melt(id_vars='category', value_vars=ratio_cols, var_name='Month', value_name='Ratio')\n",
    "\n",
    "#fix column names\n",
    "melted_reviews['Month'] = melted_reviews['Month'].str.replace('_Total', '')\n",
    "melted_ratios['Month'] = melted_ratios['Month'].str.replace('_Ratio', '')\n",
    "\n",
    "#merge em back in\n",
    "melted_data = pd.merge(melted_reviews, melted_ratios, on=['category', 'Month'])\n",
    "\n",
    "#plot\n",
    "plt.figure(figsize=(10, 6))\n",
    "plt.plot(melted_data['Month'], melted_data['TotalReviews'], marker='o', label=selected)\n",
    "\n",
    "#finally put the damn ratios\n",
    "for i, row in melted_data.iterrows():\n",
    "    plt.text(row['Month'], row['TotalReviews'], f\"{row['Ratio']:.2f}\", fontsize=9, ha='center', va='bottom')\n",
    "\n",
    "plt.title(f'Trend Analysis of Total Reviews and Ratios for {selected}')\n",
    "plt.xlabel('Month')\n",
    "plt.ylabel('Total Reviews')\n",
    "plt.xticks(rotation=45)\n",
    "plt.legend()\n",
    "plt.tight_layout()\n",
    "plt.show()"
   ]
  },
  {
   "cell_type": "code",
   "execution_count": null,
   "id": "1d6d7f1e",
   "metadata": {},
   "outputs": [],
   "source": [
    "#dataframe for brand information\n",
    "brandTotal= df.groupby(['category', 'brand', 'month']).agg(totalReviews=('predictedSentiment', 'count'), positive=('predictedSentiment', 'sum')).reset_index()\n",
    "\n",
    "brandTotal['ratio']= (brandTotal['positive'] / brandTotal['totalReviews']).round(2)\n",
    "\n",
    "#pivot for reviews and ratios\n",
    "brandMonth= brandTotal.pivot(index= ['category', 'brand'], columns= 'month', values= 'totalReviews').fillna(0)\n",
    "brandRatio= brandTotal.pivot(index= ['category', 'brand'], columns= 'month', values= 'ratio').fillna(0)\n",
    "\n",
    "#concat frames\n",
    "# brandFinal= pd.concat(\n",
    "#     [brandMonth.add_suffix('_Total'), brandRatio.add_suffix('_Ratio')]\n",
    "# , axis= 1).reset_index()\n",
    "brandFinal= pd.concat([\n",
    "    brandMonth.rename(columns= dict(zip(months, [f\"{i}_Total\"for i in month_names]))),\n",
    "    brandRatio.rename(columns= dict(zip(months, [f\"{i}_Ratio\"for i in month_names])))\n",
    "], axis= 1)\n",
    "\n",
    "# columnOrder= []\n",
    "# for i in month_names:\n",
    "#     columnOrder.extend([f\"{i}_Total\", f\"{i}_Ratio\"])\n",
    "\n",
    "brandFinal= brandFinal[columnOrder].reset_index()\n",
    "\n",
    "totalCols= [col for col in brandFinal.columns if '_Total' in col]\n",
    "brandFinal[totalCols]= brandFinal[totalCols].astype(int)\n",
    "\n",
    "# #sort by category\n",
    "# brandTotal= brandTotal.sort_values(by=['category'])\n",
    "\n",
    "brandFinal.head(1)"
   ]
  },
  {
   "cell_type": "markdown",
   "id": "9a188f3f",
   "metadata": {},
   "source": [
    "# Visualization for top 10 brands in a category and their popularity"
   ]
  },
  {
   "cell_type": "code",
   "execution_count": null,
   "id": "1c7f07cd",
   "metadata": {},
   "outputs": [],
   "source": [
    "selected= \"Video Games\"\n",
    "\n",
    "#Filter for brand\n",
    "category_brands = brandTotal[brandTotal['category'] == selected]\n",
    "\n",
    "#get total reviews for brands\n",
    "brand_totals = category_brands.groupby('brand')['totalReviews'].sum().reset_index()\n",
    "\n",
    "#Get the top 10\n",
    "top_brands = brand_totals.nlargest(10, 'totalReviews')['brand']\n",
    "\n",
    "#Filter the original frame to only include top 10 \n",
    "top_brands_data = category_brands[category_brands['brand'].isin(top_brands)]\n",
    "\n",
    "#repivot data\n",
    "brand_monthly_reviews = top_brands_data.pivot(index='brand', columns='month', values='totalReviews').fillna(0)\n",
    "\n",
    "#plot\n",
    "plt.figure(figsize=(12, 8))\n",
    "for brand in brand_monthly_reviews.index:\n",
    "    plt.plot(brand_monthly_reviews.columns, brand_monthly_reviews.loc[brand], marker='o', label=brand)\n",
    "\n",
    "plt.title(f'Trend Analysis of Total Reviews by Top 10 Brands in {selected}', fontsize=14)\n",
    "plt.xlabel('Month', fontsize=12)\n",
    "plt.ylabel('Total Reviews', fontsize=12)\n",
    "plt.xticks(ticks=range(1, 13), labels=month_names, rotation=45)\n",
    "plt.legend(title='Brand', bbox_to_anchor=(1.05, 1), loc='upper left')\n",
    "plt.tight_layout()\n",
    "plt.show()"
   ]
  },
  {
   "cell_type": "markdown",
   "id": "cd3d87b6",
   "metadata": {},
   "source": [
    "# Visualization of Two Brands Side by Side"
   ]
  },
  {
   "cell_type": "code",
   "execution_count": null,
   "id": "0bfd9083",
   "metadata": {},
   "outputs": [],
   "source": [
    "selected_category = \"Video Games\"  # Replace with the actual category name\n",
    "selected_brands = [\"nintendo\", \"electronic art\"]  # Replace with the actual brand names\n",
    "\n",
    "# Filter the DataFrame for the selected category and brands\n",
    "category_brands = brandTotal[(brandTotal['category'] == selected_category) & \n",
    "                             (brandTotal['brand'].isin(selected_brands))]\n",
    "\n",
    "# Pivot the data to have months as columns for totalReviews\n",
    "brand_monthly_reviews = category_brands.pivot(index='brand', columns='month', values='totalReviews').fillna(0)\n",
    "brand_monthly_ratios = category_brands.pivot(index='brand', columns='month', values='ratio').fillna(0)\n",
    "\n",
    "# Plot the trend for the selected brands\n",
    "plt.figure(figsize=(12, 8))\n",
    "for brand in brand_monthly_reviews.index:\n",
    "    plt.plot(brand_monthly_reviews.columns, brand_monthly_reviews.loc[brand], marker='o', label=brand)\n",
    "\n",
    "    for month in brand_monthly_reviews.columns:\n",
    "        total_reviews = brand_monthly_reviews.loc[brand, month]\n",
    "        ratio = brand_monthly_ratios.loc[brand, month]\n",
    "        plt.text(month, total_reviews, f\"{ratio:.2f}\", fontsize=9, ha='center', va='bottom')\n",
    "\n",
    "# Add labels and title\n",
    "plt.title(f'Trend Analysis of Total Reviews for Selected Brands in {selected_category}', fontsize=14)\n",
    "plt.xlabel('Month', fontsize=12)\n",
    "plt.ylabel('Total Reviews', fontsize=12)\n",
    "plt.xticks(ticks=range(1, 13), labels=month_names, rotation=45)\n",
    "plt.legend(title='Brand', bbox_to_anchor=(1.05, 1), loc='upper left')\n",
    "plt.tight_layout()\n",
    "plt.show()"
   ]
  },
  {
   "cell_type": "code",
   "execution_count": null,
   "id": "c351d214",
   "metadata": {},
   "outputs": [],
   "source": [
    "df"
   ]
  },
  {
   "cell_type": "markdown",
   "id": "cd77b3bd",
   "metadata": {},
   "source": [
    "# Correlation between review length and sentiment"
   ]
  },
  {
   "cell_type": "code",
   "execution_count": null,
   "id": "b117f978",
   "metadata": {},
   "outputs": [],
   "source": [
    "correlation, p_value = pearsonr(df['text_length'], df['predictedSentiment'])\n",
    "print(f\"Pearson correlation coefficient: {correlation:.4f}\")\n",
    "print(f\"P-value: {p_value:.4f}\")\n",
    "\n",
    "\n",
    "\n",
    "plt.figure(figsize=(10, 6))\n",
    "plt.scatter(df['text_length'], df['predictedSentiment'], alpha=0.6)\n",
    "plt.title('Relationship Between Review Length and Star Rating')\n",
    "plt.xlabel('Review Length (words)')\n",
    "plt.ylabel('Sentiment')\n",
    "\n",
    "\n",
    "# plt.text(0.05, 0.95, f'Correlation: {correlation:.4f}\\nP-value: {p_value:.4f}', \n",
    "#          transform=plt.gca().transAxes, fontsize=12, \n",
    "#          verticalalignment='top', bbox=dict(boxstyle='round', facecolor='white', alpha=0.8))\n",
    "\n",
    "plt.tight_layout()\n",
    "plt.show()"
   ]
  },
  {
   "cell_type": "markdown",
   "id": "bbb80d6f",
   "metadata": {},
   "source": [
    "# Getting positive features for a chosen brand"
   ]
  },
  {
   "cell_type": "code",
   "execution_count": null,
   "id": "cd7a3345",
   "metadata": {},
   "outputs": [],
   "source": [
    "def extract_positive_features(text):\n",
    "    if isinstance(text, str):\n",
    "        tokens= word_tokenize(text)\n",
    "        pos_tags= pos_tag(tokens)\n",
    "        phrases= []\n",
    "        for i in range(len(pos_tags) - 1):\n",
    "            word, tag = pos_tags[i]\n",
    "            next_word, next_tag = pos_tags[i + 1]\n",
    "            # Check for adjective followed by a noun\n",
    "            if tag in ['JJ', 'JJR', 'JJS'] and next_tag in ['NN', 'NNS', 'NNP', 'NNPS']:\n",
    "                phrases.append(f\"{word} {next_word}\")\n",
    "        return phrases\n",
    "    return []"
   ]
  },
  {
   "cell_type": "code",
   "execution_count": null,
   "id": "4300428f",
   "metadata": {},
   "outputs": [],
   "source": [
    "# # Specify the categories you want to analyze\n",
    "# selected_categories = [\"Video Games\"]  # Replace with your desired categories\n",
    "\n",
    "# # Filter the DataFrame for the specific categories\n",
    "# category_df = df[df['category'].isin(selected_categories)]\n",
    "\n",
    "# # Apply the extract_positive_features function to the cleanedText column\n",
    "# category_df['positive_features'] = category_df['cleanedText'].apply(extract_positive_features)\n",
    "\n",
    "# # Group by category and flatten the list of phrases for each category\n",
    "# category_features = {}\n",
    "# for category in selected_categories:\n",
    "#     category_data = category_df[category_df['category'] == category]\n",
    "#     all_phrases = [phrase for phrases in category_data['positive_features'] for phrase in phrases]\n",
    "#     category_features[category] = Counter(all_phrases).most_common(10)\n",
    "\n",
    "# # Display the most common positive features for each category\n",
    "# for category, features in category_features.items():\n",
    "#     print(f\"Top positive features for {category}:\")\n",
    "#     for feature, count in features:\n",
    "#         print(f\"  - {feature}: {count} occurrences\")\n",
    "#     print()  # Add a blank line for better readability"
   ]
  },
  {
   "cell_type": "code",
   "execution_count": null,
   "id": "ca5e3dee",
   "metadata": {},
   "outputs": [],
   "source": [
    "\n",
    "selected_category= \"Video Games\"  \n",
    "selected_brand= \"bethesda\"      \n",
    "\n",
    "\n",
    "stop_phrases= {\"great game\", \"good\", \"game\", \"best game\", \"nice game\", \"fun game\", \n",
    "                \"good game\", \"amazing game\", \"awesome game\", \"favorite game\", \"love game\"}\n",
    "\n",
    "\n",
    "def filter_stop_phrases(phrases):\n",
    "    return [phrase for phrase in phrases if phrase.lower() not in stop_phrases]\n",
    "\n",
    "#filter the frame\n",
    "brand_features= df[(df['category']== selected_category)& (df['brand']== selected_brand)]\n",
    "\n",
    "#get positive features and block stop phrases\n",
    "brand_features['positive_features']= brand_features['cleanedText'].apply(extract_positive_features)\n",
    "brand_features['positive_features']= brand_features['positive_features'].apply(filter_stop_phrases)\n",
    "\n",
    "#flatten list\n",
    "all_phrases= [phrase for phrases in brand_features['positive_features'] for phrase in phrases]\n",
    "phrase_counts= Counter(all_phrases)\n",
    "\n",
    "#print features\n",
    "print(f\"Top positive features for {selected_brand} in {selected_category}:\")\n",
    "for feature, count in phrase_counts.most_common(10):\n",
    "    print(f\"  - {feature}: {count} occurrences\")\n",
    "print()"
   ]
  }
 ],
 "metadata": {
  "kernelspec": {
   "display_name": "Python 3",
   "language": "python",
   "name": "python3"
  },
  "language_info": {
   "codemirror_mode": {
    "name": "ipython",
    "version": 3
   },
   "file_extension": ".py",
   "mimetype": "text/x-python",
   "name": "python",
   "nbconvert_exporter": "python",
   "pygments_lexer": "ipython3",
   "version": "3.12.6"
  }
 },
 "nbformat": 4,
 "nbformat_minor": 5
}
